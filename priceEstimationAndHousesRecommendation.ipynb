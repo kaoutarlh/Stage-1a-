{
 "cells": [
  {
   "cell_type": "code",
   "execution_count": 1,
   "metadata": {
    "scrolled": true
   },
   "outputs": [
    {
     "data": {
      "text/html": [
       "<div>\n",
       "<style scoped>\n",
       "    .dataframe tbody tr th:only-of-type {\n",
       "        vertical-align: middle;\n",
       "    }\n",
       "\n",
       "    .dataframe tbody tr th {\n",
       "        vertical-align: top;\n",
       "    }\n",
       "\n",
       "    .dataframe thead th {\n",
       "        text-align: right;\n",
       "    }\n",
       "</style>\n",
       "<table border=\"1\" class=\"dataframe\">\n",
       "  <thead>\n",
       "    <tr style=\"text-align: right;\">\n",
       "      <th></th>\n",
       "      <th>Type</th>\n",
       "      <th>Prix</th>\n",
       "      <th>Adresse</th>\n",
       "      <th>Surface</th>\n",
       "      <th>Pièces</th>\n",
       "      <th>Chambres</th>\n",
       "      <th>Salles_bain</th>\n",
       "      <th>Info1</th>\n",
       "      <th>Info2</th>\n",
       "      <th>Info3</th>\n",
       "    </tr>\n",
       "  </thead>\n",
       "  <tbody>\n",
       "    <tr>\n",
       "      <th>0</th>\n",
       "      <td>Appartement</td>\n",
       "      <td>4 100 000</td>\n",
       "      <td>Racine à Casablanca</td>\n",
       "      <td>229 m²</td>\n",
       "      <td>4 Pièces</td>\n",
       "      <td>3 Chambres</td>\n",
       "      <td>3 Salles de bains</td>\n",
       "      <td>Nouveau</td>\n",
       "      <td>5-10 ans</td>\n",
       "      <td>2ème étage</td>\n",
       "    </tr>\n",
       "    <tr>\n",
       "      <th>1</th>\n",
       "      <td>Appartement</td>\n",
       "      <td>4 500 000</td>\n",
       "      <td>Racine Extension à Casablanca</td>\n",
       "      <td>297 m²</td>\n",
       "      <td>4 Pièces</td>\n",
       "      <td>3 Chambres</td>\n",
       "      <td>3 Salles de bains</td>\n",
       "      <td>Nouveau</td>\n",
       "      <td>5-10 ans</td>\n",
       "      <td>1er étage</td>\n",
       "    </tr>\n",
       "    <tr>\n",
       "      <th>2</th>\n",
       "      <td>Appartement</td>\n",
       "      <td>4 200 000</td>\n",
       "      <td>Gauthier à Casablanca</td>\n",
       "      <td>244 m²</td>\n",
       "      <td>4 Pièces</td>\n",
       "      <td>3 Chambres</td>\n",
       "      <td>4 Salles de bains</td>\n",
       "      <td>Nouveau</td>\n",
       "      <td>5-10 ans</td>\n",
       "      <td>6ème étage</td>\n",
       "    </tr>\n",
       "    <tr>\n",
       "      <th>3</th>\n",
       "      <td>Appartement</td>\n",
       "      <td>1 547 000</td>\n",
       "      <td>Maârif à Casablanca</td>\n",
       "      <td>91 m²</td>\n",
       "      <td>5 Pièces</td>\n",
       "      <td>2 Chambres</td>\n",
       "      <td>2 Salles de bains</td>\n",
       "      <td>Nouveau</td>\n",
       "      <td>NaN</td>\n",
       "      <td>NaN</td>\n",
       "    </tr>\n",
       "    <tr>\n",
       "      <th>4</th>\n",
       "      <td>Appartement</td>\n",
       "      <td>1 300 000</td>\n",
       "      <td>Maârif à Casablanca</td>\n",
       "      <td>78 m²</td>\n",
       "      <td>3 Pièces</td>\n",
       "      <td>2 Chambres</td>\n",
       "      <td>2 Salles de bains</td>\n",
       "      <td>Nouveau</td>\n",
       "      <td>NaN</td>\n",
       "      <td>NaN</td>\n",
       "    </tr>\n",
       "  </tbody>\n",
       "</table>\n",
       "</div>"
      ],
      "text/plain": [
       "          Type       Prix                         Adresse  Surface    Pièces  \\\n",
       "0  Appartement  4 100 000            Racine à Casablanca   229 m²   4 Pièces   \n",
       "1  Appartement  4 500 000  Racine Extension à Casablanca   297 m²   4 Pièces   \n",
       "2  Appartement  4 200 000          Gauthier à Casablanca   244 m²   4 Pièces   \n",
       "3  Appartement  1 547 000            Maârif à Casablanca    91 m²   5 Pièces   \n",
       "4  Appartement  1 300 000            Maârif à Casablanca    78 m²   3 Pièces   \n",
       "\n",
       "     Chambres        Salles_bain     Info1      Info2        Info3  \n",
       "0  3 Chambres  3 Salles de bains  Nouveau   5-10 ans   2ème étage   \n",
       "1  3 Chambres  3 Salles de bains  Nouveau   5-10 ans    1er étage   \n",
       "2  3 Chambres  4 Salles de bains  Nouveau   5-10 ans   6ème étage   \n",
       "3  2 Chambres  2 Salles de bains  Nouveau         NaN          NaN  \n",
       "4  2 Chambres  2 Salles de bains  Nouveau         NaN          NaN  "
      ]
     },
     "execution_count": 1,
     "metadata": {},
     "output_type": "execute_result"
    }
   ],
   "source": [
    "import pandas as pd\n",
    "df = pd.read_csv ('data.csv')\n",
    "df.head()"
   ]
  },
  {
   "cell_type": "code",
   "execution_count": 2,
   "metadata": {},
   "outputs": [
    {
     "data": {
      "text/html": [
       "<div>\n",
       "<style scoped>\n",
       "    .dataframe tbody tr th:only-of-type {\n",
       "        vertical-align: middle;\n",
       "    }\n",
       "\n",
       "    .dataframe tbody tr th {\n",
       "        vertical-align: top;\n",
       "    }\n",
       "\n",
       "    .dataframe thead th {\n",
       "        text-align: right;\n",
       "    }\n",
       "</style>\n",
       "<table border=\"1\" class=\"dataframe\">\n",
       "  <thead>\n",
       "    <tr style=\"text-align: right;\">\n",
       "      <th></th>\n",
       "      <th>Type</th>\n",
       "      <th>Prix</th>\n",
       "      <th>Adresse</th>\n",
       "      <th>Surface</th>\n",
       "      <th>Pièces</th>\n",
       "      <th>Chambres</th>\n",
       "      <th>Salles_bain</th>\n",
       "      <th>Info1</th>\n",
       "      <th>Info2</th>\n",
       "      <th>Info3</th>\n",
       "      <th>nb_pieces</th>\n",
       "      <th>nb_chambres</th>\n",
       "      <th>nb_salles_bain</th>\n",
       "      <th>Surface_metre_carre</th>\n",
       "      <th>Ville</th>\n",
       "    </tr>\n",
       "  </thead>\n",
       "  <tbody>\n",
       "    <tr>\n",
       "      <th>0</th>\n",
       "      <td>Appartement</td>\n",
       "      <td>4100000</td>\n",
       "      <td>Racine à Casablanca</td>\n",
       "      <td>229 m²</td>\n",
       "      <td>4 Pièces</td>\n",
       "      <td>3 Chambres</td>\n",
       "      <td>3 Salles de bains</td>\n",
       "      <td>Nouveau</td>\n",
       "      <td>5-10 ans</td>\n",
       "      <td>2ème étage</td>\n",
       "      <td>4</td>\n",
       "      <td>3</td>\n",
       "      <td>3</td>\n",
       "      <td>229</td>\n",
       "      <td>Casablanca</td>\n",
       "    </tr>\n",
       "    <tr>\n",
       "      <th>1</th>\n",
       "      <td>Appartement</td>\n",
       "      <td>4500000</td>\n",
       "      <td>Racine Extension à Casablanca</td>\n",
       "      <td>297 m²</td>\n",
       "      <td>4 Pièces</td>\n",
       "      <td>3 Chambres</td>\n",
       "      <td>3 Salles de bains</td>\n",
       "      <td>Nouveau</td>\n",
       "      <td>5-10 ans</td>\n",
       "      <td>1er étage</td>\n",
       "      <td>4</td>\n",
       "      <td>3</td>\n",
       "      <td>3</td>\n",
       "      <td>297</td>\n",
       "      <td>Casablanca</td>\n",
       "    </tr>\n",
       "    <tr>\n",
       "      <th>2</th>\n",
       "      <td>Appartement</td>\n",
       "      <td>4200000</td>\n",
       "      <td>Gauthier à Casablanca</td>\n",
       "      <td>244 m²</td>\n",
       "      <td>4 Pièces</td>\n",
       "      <td>3 Chambres</td>\n",
       "      <td>4 Salles de bains</td>\n",
       "      <td>Nouveau</td>\n",
       "      <td>5-10 ans</td>\n",
       "      <td>6ème étage</td>\n",
       "      <td>4</td>\n",
       "      <td>3</td>\n",
       "      <td>4</td>\n",
       "      <td>244</td>\n",
       "      <td>Casablanca</td>\n",
       "    </tr>\n",
       "    <tr>\n",
       "      <th>3</th>\n",
       "      <td>Appartement</td>\n",
       "      <td>1547000</td>\n",
       "      <td>Maârif à Casablanca</td>\n",
       "      <td>91 m²</td>\n",
       "      <td>5 Pièces</td>\n",
       "      <td>2 Chambres</td>\n",
       "      <td>2 Salles de bains</td>\n",
       "      <td>Nouveau</td>\n",
       "      <td>NaN</td>\n",
       "      <td>NaN</td>\n",
       "      <td>5</td>\n",
       "      <td>2</td>\n",
       "      <td>2</td>\n",
       "      <td>91</td>\n",
       "      <td>Casablanca</td>\n",
       "    </tr>\n",
       "    <tr>\n",
       "      <th>4</th>\n",
       "      <td>Appartement</td>\n",
       "      <td>1300000</td>\n",
       "      <td>Maârif à Casablanca</td>\n",
       "      <td>78 m²</td>\n",
       "      <td>3 Pièces</td>\n",
       "      <td>2 Chambres</td>\n",
       "      <td>2 Salles de bains</td>\n",
       "      <td>Nouveau</td>\n",
       "      <td>NaN</td>\n",
       "      <td>NaN</td>\n",
       "      <td>3</td>\n",
       "      <td>2</td>\n",
       "      <td>2</td>\n",
       "      <td>78</td>\n",
       "      <td>Casablanca</td>\n",
       "    </tr>\n",
       "  </tbody>\n",
       "</table>\n",
       "</div>"
      ],
      "text/plain": [
       "          Type     Prix                         Adresse  Surface    Pièces  \\\n",
       "0  Appartement  4100000            Racine à Casablanca   229 m²   4 Pièces   \n",
       "1  Appartement  4500000  Racine Extension à Casablanca   297 m²   4 Pièces   \n",
       "2  Appartement  4200000          Gauthier à Casablanca   244 m²   4 Pièces   \n",
       "3  Appartement  1547000            Maârif à Casablanca    91 m²   5 Pièces   \n",
       "4  Appartement  1300000            Maârif à Casablanca    78 m²   3 Pièces   \n",
       "\n",
       "     Chambres        Salles_bain     Info1      Info2        Info3  nb_pieces  \\\n",
       "0  3 Chambres  3 Salles de bains  Nouveau   5-10 ans   2ème étage           4   \n",
       "1  3 Chambres  3 Salles de bains  Nouveau   5-10 ans    1er étage           4   \n",
       "2  3 Chambres  4 Salles de bains  Nouveau   5-10 ans   6ème étage           4   \n",
       "3  2 Chambres  2 Salles de bains  Nouveau         NaN          NaN          5   \n",
       "4  2 Chambres  2 Salles de bains  Nouveau         NaN          NaN          3   \n",
       "\n",
       "   nb_chambres  nb_salles_bain  Surface_metre_carre       Ville  \n",
       "0            3               3                  229  Casablanca  \n",
       "1            3               3                  297  Casablanca  \n",
       "2            3               4                  244  Casablanca  \n",
       "3            2               2                   91  Casablanca  \n",
       "4            2               2                   78  Casablanca  "
      ]
     },
     "execution_count": 2,
     "metadata": {},
     "output_type": "execute_result"
    }
   ],
   "source": [
    "df = df[df.Surface != 'None']\n",
    "nb_pieces = df['Pièces'].str.split(' ').str.get(0).astype(int)\n",
    "df['nb_pieces'] = nb_pieces\n",
    "nb_chambres = df['Chambres'].str.split(' ').str.get(0).astype(int)\n",
    "df['nb_chambres'] = nb_chambres\n",
    "nb_salles_bain = df['Salles_bain'].str.split(' ').str.get(0).astype(int)\n",
    "df['nb_salles_bain'] = nb_salles_bain\n",
    "Surface_metre_carre = df['Surface'].str.split(' ').str.get(0)\n",
    "df['Surface_metre_carre'] = Surface_metre_carre.astype(int)\n",
    "df['Prix'] = df['Prix'].str.replace('\\xa0', '').astype(int)\n",
    "df['Ville'] = df['Adresse'].str.split().str.get(-1)\n",
    "df.head()"
   ]
  },
  {
   "cell_type": "code",
   "execution_count": 3,
   "metadata": {},
   "outputs": [
    {
     "data": {
      "text/html": [
       "<div>\n",
       "<style scoped>\n",
       "    .dataframe tbody tr th:only-of-type {\n",
       "        vertical-align: middle;\n",
       "    }\n",
       "\n",
       "    .dataframe tbody tr th {\n",
       "        vertical-align: top;\n",
       "    }\n",
       "\n",
       "    .dataframe thead th {\n",
       "        text-align: right;\n",
       "    }\n",
       "</style>\n",
       "<table border=\"1\" class=\"dataframe\">\n",
       "  <thead>\n",
       "    <tr style=\"text-align: right;\">\n",
       "      <th></th>\n",
       "      <th>Type</th>\n",
       "      <th>Prix</th>\n",
       "      <th>Adresse</th>\n",
       "      <th>Surface</th>\n",
       "      <th>Pièces</th>\n",
       "      <th>Chambres</th>\n",
       "      <th>Salles_bain</th>\n",
       "      <th>Info1</th>\n",
       "      <th>Info2</th>\n",
       "      <th>Info3</th>\n",
       "      <th>nb_pieces</th>\n",
       "      <th>nb_chambres</th>\n",
       "      <th>nb_salles_bain</th>\n",
       "      <th>Surface_metre_carre</th>\n",
       "      <th>Ville</th>\n",
       "      <th>Id_ville</th>\n",
       "      <th>Id_type</th>\n",
       "    </tr>\n",
       "  </thead>\n",
       "  <tbody>\n",
       "    <tr>\n",
       "      <th>0</th>\n",
       "      <td>Appartement</td>\n",
       "      <td>4100000</td>\n",
       "      <td>Racine à Casablanca</td>\n",
       "      <td>229 m²</td>\n",
       "      <td>4 Pièces</td>\n",
       "      <td>3 Chambres</td>\n",
       "      <td>3 Salles de bains</td>\n",
       "      <td>Nouveau</td>\n",
       "      <td>5-10 ans</td>\n",
       "      <td>2ème étage</td>\n",
       "      <td>4</td>\n",
       "      <td>3</td>\n",
       "      <td>3</td>\n",
       "      <td>229</td>\n",
       "      <td>Casablanca</td>\n",
       "      <td>60</td>\n",
       "      <td>1</td>\n",
       "    </tr>\n",
       "    <tr>\n",
       "      <th>1</th>\n",
       "      <td>Appartement</td>\n",
       "      <td>4500000</td>\n",
       "      <td>Racine Extension à Casablanca</td>\n",
       "      <td>297 m²</td>\n",
       "      <td>4 Pièces</td>\n",
       "      <td>3 Chambres</td>\n",
       "      <td>3 Salles de bains</td>\n",
       "      <td>Nouveau</td>\n",
       "      <td>5-10 ans</td>\n",
       "      <td>1er étage</td>\n",
       "      <td>4</td>\n",
       "      <td>3</td>\n",
       "      <td>3</td>\n",
       "      <td>297</td>\n",
       "      <td>Casablanca</td>\n",
       "      <td>60</td>\n",
       "      <td>1</td>\n",
       "    </tr>\n",
       "    <tr>\n",
       "      <th>2</th>\n",
       "      <td>Appartement</td>\n",
       "      <td>4200000</td>\n",
       "      <td>Gauthier à Casablanca</td>\n",
       "      <td>244 m²</td>\n",
       "      <td>4 Pièces</td>\n",
       "      <td>3 Chambres</td>\n",
       "      <td>4 Salles de bains</td>\n",
       "      <td>Nouveau</td>\n",
       "      <td>5-10 ans</td>\n",
       "      <td>6ème étage</td>\n",
       "      <td>4</td>\n",
       "      <td>3</td>\n",
       "      <td>4</td>\n",
       "      <td>244</td>\n",
       "      <td>Casablanca</td>\n",
       "      <td>60</td>\n",
       "      <td>1</td>\n",
       "    </tr>\n",
       "    <tr>\n",
       "      <th>3</th>\n",
       "      <td>Appartement</td>\n",
       "      <td>1547000</td>\n",
       "      <td>Maârif à Casablanca</td>\n",
       "      <td>91 m²</td>\n",
       "      <td>5 Pièces</td>\n",
       "      <td>2 Chambres</td>\n",
       "      <td>2 Salles de bains</td>\n",
       "      <td>Nouveau</td>\n",
       "      <td>NaN</td>\n",
       "      <td>NaN</td>\n",
       "      <td>5</td>\n",
       "      <td>2</td>\n",
       "      <td>2</td>\n",
       "      <td>91</td>\n",
       "      <td>Casablanca</td>\n",
       "      <td>60</td>\n",
       "      <td>1</td>\n",
       "    </tr>\n",
       "    <tr>\n",
       "      <th>4</th>\n",
       "      <td>Appartement</td>\n",
       "      <td>1300000</td>\n",
       "      <td>Maârif à Casablanca</td>\n",
       "      <td>78 m²</td>\n",
       "      <td>3 Pièces</td>\n",
       "      <td>2 Chambres</td>\n",
       "      <td>2 Salles de bains</td>\n",
       "      <td>Nouveau</td>\n",
       "      <td>NaN</td>\n",
       "      <td>NaN</td>\n",
       "      <td>3</td>\n",
       "      <td>2</td>\n",
       "      <td>2</td>\n",
       "      <td>78</td>\n",
       "      <td>Casablanca</td>\n",
       "      <td>60</td>\n",
       "      <td>1</td>\n",
       "    </tr>\n",
       "    <tr>\n",
       "      <th>...</th>\n",
       "      <td>...</td>\n",
       "      <td>...</td>\n",
       "      <td>...</td>\n",
       "      <td>...</td>\n",
       "      <td>...</td>\n",
       "      <td>...</td>\n",
       "      <td>...</td>\n",
       "      <td>...</td>\n",
       "      <td>...</td>\n",
       "      <td>...</td>\n",
       "      <td>...</td>\n",
       "      <td>...</td>\n",
       "      <td>...</td>\n",
       "      <td>...</td>\n",
       "      <td>...</td>\n",
       "      <td>...</td>\n",
       "      <td>...</td>\n",
       "    </tr>\n",
       "    <tr>\n",
       "      <th>12987</th>\n",
       "      <td>Riad</td>\n",
       "      <td>850000</td>\n",
       "      <td>Kasba à Marrakech</td>\n",
       "      <td>600 m²</td>\n",
       "      <td>13 Pièces</td>\n",
       "      <td>12 Chambres</td>\n",
       "      <td>12 Salles de bains</td>\n",
       "      <td>Bon état</td>\n",
       "      <td>NaN</td>\n",
       "      <td>NaN</td>\n",
       "      <td>13</td>\n",
       "      <td>12</td>\n",
       "      <td>12</td>\n",
       "      <td>600</td>\n",
       "      <td>Marrakech</td>\n",
       "      <td>143</td>\n",
       "      <td>3</td>\n",
       "    </tr>\n",
       "    <tr>\n",
       "      <th>12988</th>\n",
       "      <td>Riad</td>\n",
       "      <td>730000</td>\n",
       "      <td>Marrakech-Médina à Marrakech</td>\n",
       "      <td>280 m²</td>\n",
       "      <td>10 Pièces</td>\n",
       "      <td>7 Chambres</td>\n",
       "      <td>7 Salles de bains</td>\n",
       "      <td>Bon état</td>\n",
       "      <td>NaN</td>\n",
       "      <td>NaN</td>\n",
       "      <td>10</td>\n",
       "      <td>7</td>\n",
       "      <td>7</td>\n",
       "      <td>280</td>\n",
       "      <td>Marrakech</td>\n",
       "      <td>143</td>\n",
       "      <td>3</td>\n",
       "    </tr>\n",
       "    <tr>\n",
       "      <th>12989</th>\n",
       "      <td>Riad</td>\n",
       "      <td>500000</td>\n",
       "      <td>Kasba à Marrakech</td>\n",
       "      <td>270 m²</td>\n",
       "      <td>8 Pièces</td>\n",
       "      <td>5 Chambres</td>\n",
       "      <td>5 Salles de bains</td>\n",
       "      <td>NaN</td>\n",
       "      <td>NaN</td>\n",
       "      <td>NaN</td>\n",
       "      <td>8</td>\n",
       "      <td>5</td>\n",
       "      <td>5</td>\n",
       "      <td>270</td>\n",
       "      <td>Marrakech</td>\n",
       "      <td>143</td>\n",
       "      <td>3</td>\n",
       "    </tr>\n",
       "    <tr>\n",
       "      <th>12990</th>\n",
       "      <td>Riad</td>\n",
       "      <td>3456000</td>\n",
       "      <td>Essaouira</td>\n",
       "      <td>160 m²</td>\n",
       "      <td>7 Pièces</td>\n",
       "      <td>5 Chambres</td>\n",
       "      <td>3 Salles de bains</td>\n",
       "      <td>NaN</td>\n",
       "      <td>NaN</td>\n",
       "      <td>NaN</td>\n",
       "      <td>7</td>\n",
       "      <td>5</td>\n",
       "      <td>3</td>\n",
       "      <td>160</td>\n",
       "      <td>Essaouira</td>\n",
       "      <td>81</td>\n",
       "      <td>3</td>\n",
       "    </tr>\n",
       "    <tr>\n",
       "      <th>12991</th>\n",
       "      <td>Riad</td>\n",
       "      <td>850000</td>\n",
       "      <td>Kasba à Marrakech</td>\n",
       "      <td>600 m²</td>\n",
       "      <td>12 Pièces</td>\n",
       "      <td>10 Chambres</td>\n",
       "      <td>10 Salles de bains</td>\n",
       "      <td>NaN</td>\n",
       "      <td>NaN</td>\n",
       "      <td>NaN</td>\n",
       "      <td>12</td>\n",
       "      <td>10</td>\n",
       "      <td>10</td>\n",
       "      <td>600</td>\n",
       "      <td>Marrakech</td>\n",
       "      <td>143</td>\n",
       "      <td>3</td>\n",
       "    </tr>\n",
       "  </tbody>\n",
       "</table>\n",
       "<p>12992 rows × 17 columns</p>\n",
       "</div>"
      ],
      "text/plain": [
       "              Type     Prix                         Adresse  Surface  \\\n",
       "0      Appartement  4100000            Racine à Casablanca   229 m²    \n",
       "1      Appartement  4500000  Racine Extension à Casablanca   297 m²    \n",
       "2      Appartement  4200000          Gauthier à Casablanca   244 m²    \n",
       "3      Appartement  1547000            Maârif à Casablanca    91 m²    \n",
       "4      Appartement  1300000            Maârif à Casablanca    78 m²    \n",
       "...            ...      ...                             ...      ...   \n",
       "12987         Riad   850000              Kasba à Marrakech   600 m²    \n",
       "12988         Riad   730000   Marrakech-Médina à Marrakech   280 m²    \n",
       "12989         Riad   500000              Kasba à Marrakech   270 m²    \n",
       "12990         Riad  3456000                      Essaouira   160 m²    \n",
       "12991         Riad   850000              Kasba à Marrakech   600 m²    \n",
       "\n",
       "          Pièces     Chambres          Salles_bain      Info1      Info2  \\\n",
       "0       4 Pièces   3 Chambres    3 Salles de bains   Nouveau   5-10 ans    \n",
       "1       4 Pièces   3 Chambres    3 Salles de bains   Nouveau   5-10 ans    \n",
       "2       4 Pièces   3 Chambres    4 Salles de bains   Nouveau   5-10 ans    \n",
       "3       5 Pièces   2 Chambres    2 Salles de bains   Nouveau         NaN   \n",
       "4       3 Pièces   2 Chambres    2 Salles de bains   Nouveau         NaN   \n",
       "...          ...          ...                  ...        ...        ...   \n",
       "12987  13 Pièces  12 Chambres   12 Salles de bains  Bon état         NaN   \n",
       "12988  10 Pièces   7 Chambres    7 Salles de bains  Bon état         NaN   \n",
       "12989   8 Pièces   5 Chambres    5 Salles de bains        NaN        NaN   \n",
       "12990   7 Pièces   5 Chambres    3 Salles de bains        NaN        NaN   \n",
       "12991  12 Pièces  10 Chambres  10 Salles de bains         NaN        NaN   \n",
       "\n",
       "             Info3  nb_pieces  nb_chambres  nb_salles_bain  \\\n",
       "0      2ème étage           4            3               3   \n",
       "1       1er étage           4            3               3   \n",
       "2      6ème étage           4            3               4   \n",
       "3              NaN          5            2               2   \n",
       "4              NaN          3            2               2   \n",
       "...            ...        ...          ...             ...   \n",
       "12987          NaN         13           12              12   \n",
       "12988          NaN         10            7               7   \n",
       "12989          NaN          8            5               5   \n",
       "12990          NaN          7            5               3   \n",
       "12991          NaN         12           10              10   \n",
       "\n",
       "       Surface_metre_carre       Ville  Id_ville  Id_type  \n",
       "0                      229  Casablanca        60        1  \n",
       "1                      297  Casablanca        60        1  \n",
       "2                      244  Casablanca        60        1  \n",
       "3                       91  Casablanca        60        1  \n",
       "4                       78  Casablanca        60        1  \n",
       "...                    ...         ...       ...      ...  \n",
       "12987                  600   Marrakech       143        3  \n",
       "12988                  280   Marrakech       143        3  \n",
       "12989                  270   Marrakech       143        3  \n",
       "12990                  160   Essaouira        81        3  \n",
       "12991                  600   Marrakech       143        3  \n",
       "\n",
       "[12992 rows x 17 columns]"
      ]
     },
     "execution_count": 3,
     "metadata": {},
     "output_type": "execute_result"
    }
   ],
   "source": [
    "from sklearn.preprocessing import LabelEncoder\n",
    "le = LabelEncoder()\n",
    "lee = LabelEncoder()\n",
    "df['Id_ville']  = 1+le.fit_transform(df.Ville)\n",
    "df['Id_type']  = 1+lee.fit_transform(df.Type)\n",
    "df"
   ]
  },
  {
   "cell_type": "code",
   "execution_count": 4,
   "metadata": {},
   "outputs": [],
   "source": [
    "from sklearn import preprocessing\n",
    "import numpy as np \n",
    "from sklearn.model_selection import train_test_split \n",
    "import matplotlib.pyplot as plt \n",
    "%matplotlib inline "
   ]
  },
  {
   "cell_type": "code",
   "execution_count": 5,
   "metadata": {},
   "outputs": [],
   "source": [
    "X= df[['Id_type','Surface_metre_carre','Id_ville','nb_pieces','nb_chambres','nb_salles_bain']] \n",
    "y= df.Prix\n",
    "X_train, X_test, y_train, y_test = train_test_split(X,y,shuffle=True) "
   ]
  },
  {
   "cell_type": "code",
   "execution_count": 6,
   "metadata": {},
   "outputs": [
    {
     "data": {
      "text/plain": [
       "LinearRegression()"
      ]
     },
     "execution_count": 6,
     "metadata": {},
     "output_type": "execute_result"
    }
   ],
   "source": [
    "from sklearn.linear_model import LinearRegression \n",
    "model = LinearRegression() \n",
    "model.fit(X_train,y_train) "
   ]
  },
  {
   "cell_type": "code",
   "execution_count": 7,
   "metadata": {},
   "outputs": [],
   "source": [
    "predection = model.predict(X_test)"
   ]
  },
  {
   "cell_type": "code",
   "execution_count": 8,
   "metadata": {},
   "outputs": [
    {
     "data": {
      "text/plain": [
       "[<matplotlib.lines.Line2D at 0x29178fdf5b0>]"
      ]
     },
     "execution_count": 8,
     "metadata": {},
     "output_type": "execute_result"
    },
    {
     "data": {
      "image/png": "[encoded data removed]",
      "text/plain": [
       "<Figure size 720x504 with 1 Axes>"
      ]
     },
     "metadata": {
      "needs_background": "light"
     },
     "output_type": "display_data"
    }
   ],
   "source": [
    "plt.figure(figsize=(10,7)) \n",
    "plt.scatter(y_test , predection)\n",
    "plt.plot(y_test , y_test,color='g')"
   ]
  },
  {
   "cell_type": "code",
   "execution_count": 9,
   "metadata": {},
   "outputs": [
    {
     "data": {
      "text/plain": [
       "7473083.57755619"
      ]
     },
     "execution_count": 9,
     "metadata": {},
     "output_type": "execute_result"
    }
   ],
   "source": [
    "from sklearn import metrics \n",
    "mean_sq_err = metrics.mean_squared_error(y_test , predection) \n",
    "RMSE = np.sqrt(mean_sq_err) \n",
    "RMSE"
   ]
  },
  {
   "cell_type": "code",
   "execution_count": 10,
   "metadata": {},
   "outputs": [],
   "source": [
    "X2= df[['Id_type','Surface_metre_carre','Id_ville','nb_chambres','nb_salles_bain']] \n",
    "y2= df.Prix\n",
    "X2_train, X2_test, y2_train, y2_test = train_test_split(X2,y2,shuffle=True) \n"
   ]
  },
  {
   "cell_type": "code",
   "execution_count": 11,
   "metadata": {},
   "outputs": [
    {
     "data": {
      "text/plain": [
       "LinearRegression()"
      ]
     },
     "execution_count": 11,
     "metadata": {},
     "output_type": "execute_result"
    }
   ],
   "source": [
    "model2 = LinearRegression() \n",
    "model2.fit(X2_train,y2_train) "
   ]
  },
  {
   "cell_type": "code",
   "execution_count": 12,
   "metadata": {},
   "outputs": [],
   "source": [
    "predection2 = model2.predict(X2_test)"
   ]
  },
  {
   "cell_type": "code",
   "execution_count": 13,
   "metadata": {},
   "outputs": [
    {
     "data": {
      "text/plain": [
       "<matplotlib.collections.PathCollection at 0x29179057430>"
      ]
     },
     "execution_count": 13,
     "metadata": {},
     "output_type": "execute_result"
    },
    {
     "data": {
      "image/png": "[encoded data removed]",
      "text/plain": [
       "<Figure size 720x504 with 1 Axes>"
      ]
     },
     "metadata": {
      "needs_background": "light"
     },
     "output_type": "display_data"
    }
   ],
   "source": [
    "plt.figure(figsize=(10,7)) \n",
    "plt.scatter(y2_test , predection2) "
   ]
  },
  {
   "cell_type": "code",
   "execution_count": 14,
   "metadata": {},
   "outputs": [
    {
     "data": {
      "text/plain": [
       "6363148.102779191"
      ]
     },
     "execution_count": 14,
     "metadata": {},
     "output_type": "execute_result"
    }
   ],
   "source": [
    "mean_sq_err2 = metrics.mean_squared_error(y2_test , predection2) \n",
    "RMSE2 = np.sqrt(mean_sq_err2)\n",
    "RMSE2"
   ]
  },
  {
   "cell_type": "code",
   "execution_count": 15,
   "metadata": {},
   "outputs": [
    {
     "ename": "SyntaxError",
     "evalue": "invalid syntax (<ipython-input-15-ac514d4e2584>, line 1)",
     "output_type": "error",
     "traceback": [
      "\u001b[1;36m  File \u001b[1;32m\"<ipython-input-15-ac514d4e2584>\"\u001b[1;36m, line \u001b[1;32m1\u001b[0m\n\u001b[1;33m    ********************************************\u001b[0m\n\u001b[1;37m    ^\u001b[0m\n\u001b[1;31mSyntaxError\u001b[0m\u001b[1;31m:\u001b[0m invalid syntax\n"
     ]
    }
   ],
   "source": [
    "********************************************"
   ]
  },
  {
   "cell_type": "code",
   "execution_count": null,
   "metadata": {},
   "outputs": [],
   "source": [
    "#Recomandation system engine"
   ]
  },
  {
   "cell_type": "code",
   "execution_count": 16,
   "metadata": {},
   "outputs": [],
   "source": [
    "import pandas as pd\n",
    "import numpy as np\n",
    "from sklearn.metrics.pairwise import cosine_similarity\n",
    "from sklearn.feature_extraction.text import CountVectorizer"
   ]
  },
  {
   "cell_type": "code",
   "execution_count": 17,
   "metadata": {},
   "outputs": [
    {
     "data": {
      "text/html": [
       "<div>\n",
       "<style scoped>\n",
       "    .dataframe tbody tr th:only-of-type {\n",
       "        vertical-align: middle;\n",
       "    }\n",
       "\n",
       "    .dataframe tbody tr th {\n",
       "        vertical-align: top;\n",
       "    }\n",
       "\n",
       "    .dataframe thead th {\n",
       "        text-align: right;\n",
       "    }\n",
       "</style>\n",
       "<table border=\"1\" class=\"dataframe\">\n",
       "  <thead>\n",
       "    <tr style=\"text-align: right;\">\n",
       "      <th></th>\n",
       "      <th>Type</th>\n",
       "      <th>Prix</th>\n",
       "      <th>Adresse</th>\n",
       "      <th>Surface</th>\n",
       "      <th>Pièces</th>\n",
       "      <th>Chambres</th>\n",
       "      <th>Salles_bain</th>\n",
       "      <th>Info1</th>\n",
       "      <th>Info2</th>\n",
       "      <th>Info3</th>\n",
       "      <th>nb_pieces</th>\n",
       "      <th>nb_chambres</th>\n",
       "      <th>nb_salles_bain</th>\n",
       "      <th>Surface_metre_carre</th>\n",
       "      <th>Ville</th>\n",
       "      <th>id</th> \n",
       "    </tr>\n",
       "  </thead>\n",
       "  <tbody>\n",
       "    <tr>\n",
       "      <th>0</th>\n",
       "      <td>Appartement</td>\n",
       "      <td>4100000</td>\n",
       "      <td>Racine à Casablanca</td>\n",
       "      <td>229 m²</td>\n",
       "      <td>4 Pièces</td>\n",
       "      <td>3 Chambres</td>\n",
       "      <td>3 Salles de bains</td>\n",
       "      <td>Nouveau</td>\n",
       "      <td>5-10 ans</td>\n",
       "      <td>2ème étage</td>\n",
       "      <td>4</td>\n",
       "      <td>3</td>\n",
       "      <td>3</td>\n",
       "      <td>229</td>\n",
       "      <td>Casablanca</td>\n",
       "      <td>1</td>\n",
       "    </tr>\n",
       "    <tr>\n",
       "      <th>1</th>\n",
       "      <td>Appartement</td>\n",
       "      <td>4500000</td>\n",
       "      <td>Racine Extension à Casablanca</td>\n",
       "      <td>297 m²</td>\n",
       "      <td>4 Pièces</td>\n",
       "      <td>3 Chambres</td>\n",
       "      <td>3 Salles de bains</td>\n",
       "      <td>Nouveau</td>\n",
       "      <td>5-10 ans</td>\n",
       "      <td>1er étage</td>\n",
       "      <td>4</td>\n",
       "      <td>3</td>\n",
       "      <td>3</td>\n",
       "      <td>297</td>\n",
       "      <td>Casablanca</td>\n",
       "      <td>2</td>\n",
       "    </tr>\n",
       "    <tr>\n",
       "      <th>2</th>\n",
       "      <td>Appartement</td>\n",
       "      <td>4200000</td>\n",
       "      <td>Gauthier à Casablanca</td>\n",
       "      <td>244 m²</td>\n",
       "      <td>4 Pièces</td>\n",
       "      <td>3 Chambres</td>\n",
       "      <td>4 Salles de bains</td>\n",
       "      <td>Nouveau</td>\n",
       "      <td>5-10 ans</td>\n",
       "      <td>6ème étage</td>\n",
       "      <td>4</td>\n",
       "      <td>3</td>\n",
       "      <td>4</td>\n",
       "      <td>244</td>\n",
       "      <td>Casablanca</td>\n",
       "      <td>3</td>\n",
       "    </tr>\n",
       "    <tr>\n",
       "      <th>3</th>\n",
       "      <td>Appartement</td>\n",
       "      <td>1547000</td>\n",
       "      <td>Maârif à Casablanca</td>\n",
       "      <td>91 m²</td>\n",
       "      <td>5 Pièces</td>\n",
       "      <td>2 Chambres</td>\n",
       "      <td>2 Salles de bains</td>\n",
       "      <td>Nouveau</td>\n",
       "      <td>NaN</td>\n",
       "      <td>NaN</td>\n",
       "      <td>5</td>\n",
       "      <td>2</td>\n",
       "      <td>2</td>\n",
       "      <td>91</td>\n",
       "      <td>Casablanca</td>\n",
       "      <td>4</td>\n",
       "    </tr>\n",
       "    <tr>\n",
       "      <th>4</th>\n",
       "      <td>Appartement</td>\n",
       "      <td>1300000</td>\n",
       "      <td>Maârif à Casablanca</td>\n",
       "      <td>78 m²</td>\n",
       "      <td>3 Pièces</td>\n",
       "      <td>2 Chambres</td>\n",
       "      <td>2 Salles de bains</td>\n",
       "      <td>Nouveau</td>\n",
       "      <td>NaN</td>\n",
       "      <td>NaN</td>\n",
       "      <td>3</td>\n",
       "      <td>2</td>\n",
       "      <td>2</td>\n",
       "      <td>78</td>\n",
       "      <td>Casablanca</td>\n",
       "      <td>5</td>\n",
       "    </tr>\n",
       "  </tbody>\n",
       "</table>\n",
       "</div>"
      ],
      "text/plain": [
       "          Type     Prix                         Adresse  Surface    Pièces  \\\n",
       "0  Appartement  4100000            Racine à Casablanca   229 m²   4 Pièces   \n",
       "1  Appartement  4500000  Racine Extension à Casablanca   297 m²   4 Pièces   \n",
       "2  Appartement  4200000          Gauthier à Casablanca   244 m²   4 Pièces   \n",
       "3  Appartement  1547000            Maârif à Casablanca    91 m²   5 Pièces   \n",
       "4  Appartement  1300000            Maârif à Casablanca    78 m²   3 Pièces   \n",
       "\n",
       "     Chambres        Salles_bain     Info1      Info2        Info3  nb_pieces  \\\n",
       "0  3 Chambres  3 Salles de bains  Nouveau   5-10 ans   2ème étage           4   \n",
       "1  3 Chambres  3 Salles de bains  Nouveau   5-10 ans    1er étage           4   \n",
       "2  3 Chambres  4 Salles de bains  Nouveau   5-10 ans   6ème étage           4   \n",
       "3  2 Chambres  2 Salles de bains  Nouveau         NaN          NaN          5   \n",
       "4  2 Chambres  2 Salles de bains  Nouveau         NaN          NaN          3   \n",
       "\n",
       "   nb_chambres  nb_salles_bain  Surface_metre_carre       Ville  id  \n",
       "0            3               3                  229  Casablanca   1  \n",
       "1            3               3                  297  Casablanca   2  \n",
       "2            3               4                  244  Casablanca   3  \n",
       "3            2               2                   91  Casablanca   4  \n",
       "4            2               2                   78  Casablanca   5  "
      ]
     },
     "execution_count": 17,
     "metadata": {},
     "output_type": "execute_result"
    }
   ],
   "source": [
    "df = pd.read_csv ('data.csv')\n",
    "df = df[df.Surface != 'None']\n",
    "\n",
    "nb_pieces = df['Pièces'].str.split(' ').str.get(0).astype(int)\n",
    "df['nb_pieces'] = nb_pieces\n",
    "nb_chambres = df['Chambres'].str.split(' ').str.get(0).astype(int)\n",
    "df['nb_chambres'] = nb_chambres\n",
    "nb_salles_bain = df['Salles_bain'].str.split(' ').str.get(0).astype(int)\n",
    "df['nb_salles_bain'] = nb_salles_bain\n",
    "Surface_metre_carre = df['Surface'].str.split(' ').str.get(0)\n",
    "df['Surface_metre_carre'] = Surface_metre_carre.astype(int)\n",
    "df['Prix'] = df['Prix'].str.replace('\\xa0', '').astype(str)\n",
    "df['Ville'] = df['Adresse'].str.split().str.get(-1)\n",
    "df[\"id\"] = df.index + 1\n",
    "  \n",
    "df.head()\n",
    "\n"
   ]
  },
  {
   "cell_type": "code",
   "execution_count": 18,
   "metadata": {},
   "outputs": [],
   "source": [
    "columns=['id','Type','Prix','Ville','Surface','Pièces','Chambres','Salles_bain','Info1','Info2','Info3']\n",
    "\n"
   ]
  },
  {
   "cell_type": "code",
   "execution_count": 19,
   "metadata": {},
   "outputs": [
    {
     "data": {
      "text/html": [
       "<div>\n",
       "<style scoped>\n",
       "    .dataframe tbody tr th:only-of-type {\n",
       "        vertical-align: middle;\n",
       "    }\n",
       "\n",
       "    .dataframe tbody tr th {\n",
       "        vertical-align: top;\n",
       "    }\n",
       "\n",
       "    .dataframe thead th {\n",
       "        text-align: right;\n",
       "    }\n",
       "</style>\n",
       "<table border=\"1\" class=\"dataframe\">\n",
       "  <thead>\n",
       "    <tr style=\"text-align: right;\">\n",
       "      <th></th>\n",
       "      <th>id</th>\n",
       "      <th>Type</th>\n",
       "      <th>Prix</th>\n",
       "      <th>Ville</th>\n",
       "      <th>Surface</th>\n",
       "      <th>Pièces</th>\n",
       "      <th>Chambres</th>\n",
       "      <th>Salles_bain</th>\n",
       "      <th>Info1</th>\n",
       "      <th>Info2</th>\n",
       "      <th>Info3</th>\n",
       "    </tr>\n",
       "  </thead>\n",
       "  <tbody>\n",
       "    <tr>\n",
       "      <th>0</th>\n",
       "      <td>1</td>\n",
       "      <td>Appartement</td>\n",
       "      <td>4100000</td>\n",
       "      <td>Casablanca</td>\n",
       "      <td>229 m²</td>\n",
       "      <td>4 Pièces</td>\n",
       "      <td>3 Chambres</td>\n",
       "      <td>3 Salles de bains</td>\n",
       "      <td>Nouveau</td>\n",
       "      <td>5-10 ans</td>\n",
       "      <td>2ème étage</td>\n",
       "    </tr>\n",
       "    <tr>\n",
       "      <th>1</th>\n",
       "      <td>2</td>\n",
       "      <td>Appartement</td>\n",
       "      <td>4500000</td>\n",
       "      <td>Casablanca</td>\n",
       "      <td>297 m²</td>\n",
       "      <td>4 Pièces</td>\n",
       "      <td>3 Chambres</td>\n",
       "      <td>3 Salles de bains</td>\n",
       "      <td>Nouveau</td>\n",
       "      <td>5-10 ans</td>\n",
       "      <td>1er étage</td>\n",
       "    </tr>\n",
       "    <tr>\n",
       "      <th>2</th>\n",
       "      <td>3</td>\n",
       "      <td>Appartement</td>\n",
       "      <td>4200000</td>\n",
       "      <td>Casablanca</td>\n",
       "      <td>244 m²</td>\n",
       "      <td>4 Pièces</td>\n",
       "      <td>3 Chambres</td>\n",
       "      <td>4 Salles de bains</td>\n",
       "      <td>Nouveau</td>\n",
       "      <td>5-10 ans</td>\n",
       "      <td>6ème étage</td>\n",
       "    </tr>\n",
       "  </tbody>\n",
       "</table>\n",
       "</div>"
      ],
      "text/plain": [
       "   id         Type     Prix       Ville  Surface    Pièces    Chambres  \\\n",
       "0   1  Appartement  4100000  Casablanca  229 m²   4 Pièces  3 Chambres   \n",
       "1   2  Appartement  4500000  Casablanca  297 m²   4 Pièces  3 Chambres   \n",
       "2   3  Appartement  4200000  Casablanca  244 m²   4 Pièces  3 Chambres   \n",
       "\n",
       "         Salles_bain     Info1      Info2        Info3  \n",
       "0  3 Salles de bains  Nouveau   5-10 ans   2ème étage   \n",
       "1  3 Salles de bains  Nouveau   5-10 ans    1er étage   \n",
       "2  4 Salles de bains  Nouveau   5-10 ans   6ème étage   "
      ]
     },
     "execution_count": 19,
     "metadata": {},
     "output_type": "execute_result"
    }
   ],
   "source": [
    "df[columns].head(3)"
   ]
  },
  {
   "cell_type": "code",
   "execution_count": 20,
   "metadata": {},
   "outputs": [
    {
     "data": {
      "text/plain": [
       "True"
      ]
     },
     "execution_count": 20,
     "metadata": {},
     "output_type": "execute_result"
    }
   ],
   "source": [
    "df[columns].isnull().values.any()\n",
    "\n"
   ]
  },
  {
   "cell_type": "code",
   "execution_count": 21,
   "metadata": {},
   "outputs": [],
   "source": [
    "def get_important_ftr(data):\n",
    "    important_features=[]\n",
    "    for i in range(0,data.shape[0]):\n",
    "        important_features.append(data['Type'][i]+' '+data['Prix'][i]+' '+data['Ville'][i]+' '+data['Surface'][i]+' '+data['Pièces'][i]+' '+data['Chambres'][i]+' '+data['Salles_bain'][i])#+' '+data['Info1'][i]+' '+data['Info2'][i]+' '+data['Info3'][i])\n",
    "    return important_features "
   ]
  },
  {
   "cell_type": "code",
   "execution_count": 54,
   "metadata": {},
   "outputs": [
    {
     "data": {
      "text/html": [
       "<div>\n",
       "<style scoped>\n",
       "    .dataframe tbody tr th:only-of-type {\n",
       "        vertical-align: middle;\n",
       "    }\n",
       "\n",
       "    .dataframe tbody tr th {\n",
       "        vertical-align: top;\n",
       "    }\n",
       "\n",
       "    .dataframe thead th {\n",
       "        text-align: right;\n",
       "    }\n",
       "</style>\n",
       "<table border=\"1\" class=\"dataframe\">\n",
       "  <thead>\n",
       "    <tr style=\"text-align: right;\">\n",
       "      <th></th>\n",
       "      <th>Type</th>\n",
       "      <th>Prix</th>\n",
       "      <th>Adresse</th>\n",
       "      <th>Surface</th>\n",
       "      <th>Pièces</th>\n",
       "      <th>Chambres</th>\n",
       "      <th>Salles_bain</th>\n",
       "      <th>Info1</th>\n",
       "      <th>Info2</th>\n",
       "      <th>Info3</th>\n",
       "      <th>nb_pieces</th>\n",
       "      <th>nb_chambres</th>\n",
       "      <th>nb_salles_bain</th>\n",
       "      <th>Surface_metre_carre</th>\n",
       "      <th>Ville</th>\n",
       "      <th>id</th>\n",
       "      <th>important_features</th>\n",
       "    </tr>\n",
       "  </thead>\n",
       "  <tbody>\n",
       "    <tr>\n",
       "      <th>0</th>\n",
       "      <td>Appartement</td>\n",
       "      <td>4100000</td>\n",
       "      <td>Racine à Casablanca</td>\n",
       "      <td>229 m²</td>\n",
       "      <td>4 Pièces</td>\n",
       "      <td>3 Chambres</td>\n",
       "      <td>3 Salles de bains</td>\n",
       "      <td>Nouveau</td>\n",
       "      <td>5-10 ans</td>\n",
       "      <td>2ème étage</td>\n",
       "      <td>4</td>\n",
       "      <td>3</td>\n",
       "      <td>3</td>\n",
       "      <td>229</td>\n",
       "      <td>Casablanca</td>\n",
       "      <td>1</td>\n",
       "      <td>Appartement 4100000 Casablanca 229 m²  4 Pièce...</td>\n",
       "    </tr>\n",
       "    <tr>\n",
       "      <th>1</th>\n",
       "      <td>Appartement</td>\n",
       "      <td>4500000</td>\n",
       "      <td>Racine Extension à Casablanca</td>\n",
       "      <td>297 m²</td>\n",
       "      <td>4 Pièces</td>\n",
       "      <td>3 Chambres</td>\n",
       "      <td>3 Salles de bains</td>\n",
       "      <td>Nouveau</td>\n",
       "      <td>5-10 ans</td>\n",
       "      <td>1er étage</td>\n",
       "      <td>4</td>\n",
       "      <td>3</td>\n",
       "      <td>3</td>\n",
       "      <td>297</td>\n",
       "      <td>Casablanca</td>\n",
       "      <td>2</td>\n",
       "      <td>Appartement 4500000 Casablanca 297 m²  4 Pièce...</td>\n",
       "    </tr>\n",
       "    <tr>\n",
       "      <th>2</th>\n",
       "      <td>Appartement</td>\n",
       "      <td>4200000</td>\n",
       "      <td>Gauthier à Casablanca</td>\n",
       "      <td>244 m²</td>\n",
       "      <td>4 Pièces</td>\n",
       "      <td>3 Chambres</td>\n",
       "      <td>4 Salles de bains</td>\n",
       "      <td>Nouveau</td>\n",
       "      <td>5-10 ans</td>\n",
       "      <td>6ème étage</td>\n",
       "      <td>4</td>\n",
       "      <td>3</td>\n",
       "      <td>4</td>\n",
       "      <td>244</td>\n",
       "      <td>Casablanca</td>\n",
       "      <td>3</td>\n",
       "      <td>Appartement 4200000 Casablanca 244 m²  4 Pièce...</td>\n",
       "    </tr>\n",
       "  </tbody>\n",
       "</table>\n",
       "</div>"
      ],
      "text/plain": [
       "          Type     Prix                         Adresse  Surface    Pièces  \\\n",
       "0  Appartement  4100000            Racine à Casablanca   229 m²   4 Pièces   \n",
       "1  Appartement  4500000  Racine Extension à Casablanca   297 m²   4 Pièces   \n",
       "2  Appartement  4200000          Gauthier à Casablanca   244 m²   4 Pièces   \n",
       "\n",
       "     Chambres        Salles_bain     Info1      Info2        Info3  nb_pieces  \\\n",
       "0  3 Chambres  3 Salles de bains  Nouveau   5-10 ans   2ème étage           4   \n",
       "1  3 Chambres  3 Salles de bains  Nouveau   5-10 ans    1er étage           4   \n",
       "2  3 Chambres  4 Salles de bains  Nouveau   5-10 ans   6ème étage           4   \n",
       "\n",
       "   nb_chambres  nb_salles_bain  Surface_metre_carre       Ville  id  \\\n",
       "0            3               3                  229  Casablanca   1   \n",
       "1            3               3                  297  Casablanca   2   \n",
       "2            3               4                  244  Casablanca   3   \n",
       "\n",
       "                                  important_features  \n",
       "0  Appartement 4100000 Casablanca 229 m²  4 Pièce...  \n",
       "1  Appartement 4500000 Casablanca 297 m²  4 Pièce...  \n",
       "2  Appartement 4200000 Casablanca 244 m²  4 Pièce...  "
      ]
     },
     "execution_count": 54,
     "metadata": {},
     "output_type": "execute_result"
    }
   ],
   "source": [
    "df['important_features']=get_important_ftr(df)\n",
    "df.head(3)"
   ]
  },
  {
   "cell_type": "code",
   "execution_count": 82,
   "metadata": {},
   "outputs": [
    {
     "name": "stdout",
     "output_type": "stream",
     "text": [
      "0        Appartement 4100000 Casablanca 229 m²  4 Pièce...\n",
      "1        Appartement 4500000 Casablanca 297 m²  4 Pièce...\n",
      "2        Appartement 4200000 Casablanca 244 m²  4 Pièce...\n",
      "3        Appartement 1547000 Casablanca 91 m²  5 Pièces...\n",
      "4        Appartement 1300000 Casablanca 78 m²  3 Pièces...\n",
      "                               ...                        \n",
      "12987    Riad 850000 Marrakech 600 m²  13 Pièces 12 Cha...\n",
      "12988    Riad 730000 Marrakech 280 m²  10 Pièces 7 Cham...\n",
      "12989    Riad 500000 Marrakech 270 m²  8 Pièces 5 Chamb...\n",
      "12990    Riad 3456000 Essaouira 160 m²  7 Pièces 5 Cham...\n",
      "12991    Riad 850000 Marrakech 600 m²  12 Pièces 10 Cha...\n",
      "Name: important_features, Length: 12992, dtype: object\n"
     ]
    }
   ],
   "source": [
    "print(df['important_features'])"
   ]
  },
  {
   "cell_type": "code",
   "execution_count": 45,
   "metadata": {},
   "outputs": [],
   "source": [
    " "
   ]
  },
  {
   "cell_type": "code",
   "execution_count": 46,
   "metadata": {},
   "outputs": [
    {
     "name": "stdout",
     "output_type": "stream",
     "text": [
      "[[1.         0.8        0.8        ... 0.6        0.6        0.48989795]\n",
      " [0.8        1.         0.8        ... 0.6        0.6        0.48989795]\n",
      " [0.8        0.8        1.         ... 0.6        0.6        0.48989795]\n",
      " ...\n",
      " [0.6        0.6        0.6        ... 1.         0.7        0.65319726]\n",
      " [0.6        0.6        0.6        ... 0.7        1.         0.57154761]\n",
      " [0.48989795 0.48989795 0.48989795 ... 0.65319726 0.57154761 1.        ]]\n"
     ]
    }
   ],
   "source": [
    "cm=CountVectorizer().fit_transform(df['important_features'])\n",
    "cs=cosine_similarity(cm)\n",
    "print(cs)"
   ]
  },
  {
   "cell_type": "code",
   "execution_count": 48,
   "metadata": {},
   "outputs": [
    {
     "data": {
      "text/plain": [
       "(12992, 12992)"
      ]
     },
     "execution_count": 48,
     "metadata": {},
     "output_type": "execute_result"
    }
   ],
   "source": [
    "cs.shape"
   ]
  },
  {
   "cell_type": "code",
   "execution_count": 84,
   "metadata": {},
   "outputs": [],
   "source": [
    "Ville_test='Rabat'\n",
    "Ville_cherchée=df[df.Ville==Ville_test]['id'].values[0]\n"
   ]
  },
  {
   "cell_type": "code",
   "execution_count": 85,
   "metadata": {},
   "outputs": [
    {
     "name": "stdout",
     "output_type": "stream",
     "text": [
      "[0.7        0.7        0.7        ... 0.7        0.6        0.57154761]\n"
     ]
    }
   ],
   "source": [
    "scores= list(enumerate(cs[Ville_cherchée]))\n",
    "print(cs[Ville_cherchée])"
   ]
  },
  {
   "cell_type": "code",
   "execution_count": 87,
   "metadata": {},
   "outputs": [],
   "source": [
    "sorted_scores=sorted(scores,key=lambda x:x[1],reverse=True)"
   ]
  },
  {
   "cell_type": "code",
   "execution_count": 88,
   "metadata": {},
   "outputs": [],
   "source": [
    "sorted_scores=sorted_scores[1:]"
   ]
  },
  {
   "cell_type": "code",
   "execution_count": 89,
   "metadata": {},
   "outputs": [
    {
     "name": "stdout",
     "output_type": "stream",
     "text": [
      "[(23, 0.8999999999999999), (24, 0.8999999999999999), (162, 0.8999999999999999), (1141, 0.8999999999999999), (2249, 0.8999999999999999), (3259, 0.8999999999999999), (3439, 0.8999999999999999), (4747, 0.8999999999999999), (5104, 0.8999999999999999), (5116, 0.8999999999999999), (5636, 0.8999999999999999), (8, 0.7999999999999999), (11, 0.7999999999999999), (44, 0.7999999999999999), (50, 0.7999999999999999), (69, 0.7999999999999999), (74, 0.7999999999999999), (75, 0.7999999999999999), (76, 0.7999999999999999), (89, 0.7999999999999999), (90, 0.7999999999999999), (105, 0.7999999999999999), (109, 0.7999999999999999), (112, 0.7999999999999999), (120, 0.7999999999999999), (143, 0.7999999999999999), (201, 0.7999999999999999), (209, 0.7999999999999999), (229, 0.7999999999999999), (238, 0.7999999999999999), (239, 0.7999999999999999), (240, 0.7999999999999999), (241, 0.7999999999999999), (258, 0.7999999999999999), (268, 0.7999999999999999), (280, 0.7999999999999999), (281, 0.7999999999999999), (284, 0.7999999999999999), (290, 0.7999999999999999), (303, 0.7999999999999999), (371, 0.7999999999999999), (391, 0.7999999999999999), (410, 0.7999999999999999), (411, 0.7999999999999999), (425, 0.7999999999999999), (434, 0.7999999999999999), (436, 0.7999999999999999), (437, 0.7999999999999999), (438, 0.7999999999999999), (439, 0.7999999999999999), (440, 0.7999999999999999), (441, 0.7999999999999999), (443, 0.7999999999999999), (444, 0.7999999999999999), (445, 0.7999999999999999), (446, 0.7999999999999999), (449, 0.7999999999999999), (453, 0.7999999999999999), (470, 0.7999999999999999), (477, 0.7999999999999999), (495, 0.7999999999999999), (512, 0.7999999999999999), (521, 0.7999999999999999), (522, 0.7999999999999999), (523, 0.7999999999999999), (524, 0.7999999999999999), (525, 0.7999999999999999), (526, 0.7999999999999999), (527, 0.7999999999999999), (528, 0.7999999999999999), (536, 0.7999999999999999), (545, 0.7999999999999999), (577, 0.7999999999999999), (578, 0.7999999999999999), (579, 0.7999999999999999), (580, 0.7999999999999999), (581, 0.7999999999999999), (587, 0.7999999999999999), (616, 0.7999999999999999), (636, 0.7999999999999999), (639, 0.7999999999999999), (658, 0.7999999999999999), (659, 0.7999999999999999), (672, 0.7999999999999999), (679, 0.7999999999999999), (720, 0.7999999999999999), (722, 0.7999999999999999), (740, 0.7999999999999999), (741, 0.7999999999999999), (742, 0.7999999999999999), (743, 0.7999999999999999), (768, 0.7999999999999999), (771, 0.7999999999999999), (779, 0.7999999999999999), (837, 0.7999999999999999), (853, 0.7999999999999999), (858, 0.7999999999999999), (859, 0.7999999999999999), (872, 0.7999999999999999), (883, 0.7999999999999999), (892, 0.7999999999999999), (894, 0.7999999999999999), (907, 0.7999999999999999), (911, 0.7999999999999999), (917, 0.7999999999999999), (918, 0.7999999999999999), (919, 0.7999999999999999), (920, 0.7999999999999999), (921, 0.7999999999999999), (927, 0.7999999999999999), (928, 0.7999999999999999), (929, 0.7999999999999999), (934, 0.7999999999999999), (942, 0.7999999999999999), (945, 0.7999999999999999), (958, 0.7999999999999999), (977, 0.7999999999999999), (980, 0.7999999999999999), (994, 0.7999999999999999), (996, 0.7999999999999999), (1002, 0.7999999999999999), (1037, 0.7999999999999999), (1073, 0.7999999999999999), (1074, 0.7999999999999999), (1085, 0.7999999999999999), (1094, 0.7999999999999999), (1096, 0.7999999999999999), (1097, 0.7999999999999999), (1101, 0.7999999999999999), (1102, 0.7999999999999999), (1123, 0.7999999999999999), (1152, 0.7999999999999999), (1160, 0.7999999999999999), (1165, 0.7999999999999999), (1166, 0.7999999999999999), (1167, 0.7999999999999999), (1181, 0.7999999999999999), (1187, 0.7999999999999999), (1200, 0.7999999999999999), (1201, 0.7999999999999999), (1202, 0.7999999999999999), (1204, 0.7999999999999999), (1242, 0.7999999999999999), (1270, 0.7999999999999999), (1333, 0.7999999999999999), (1334, 0.7999999999999999), (1348, 0.7999999999999999), (1349, 0.7999999999999999), (1379, 0.7999999999999999), (1410, 0.7999999999999999), (1411, 0.7999999999999999), (1412, 0.7999999999999999), (1418, 0.7999999999999999), (1422, 0.7999999999999999), (1431, 0.7999999999999999), (1436, 0.7999999999999999), (1444, 0.7999999999999999), (1458, 0.7999999999999999), (1460, 0.7999999999999999), (1478, 0.7999999999999999), (1484, 0.7999999999999999), (1489, 0.7999999999999999), (1521, 0.7999999999999999), (1522, 0.7999999999999999), (1523, 0.7999999999999999), (1536, 0.7999999999999999), (1556, 0.7999999999999999), (1579, 0.7999999999999999), (1580, 0.7999999999999999), (1581, 0.7999999999999999), (1582, 0.7999999999999999), (1583, 0.7999999999999999), (1584, 0.7999999999999999), (1585, 0.7999999999999999), (1591, 0.7999999999999999), (1599, 0.7999999999999999), (1600, 0.7999999999999999), (1601, 0.7999999999999999), (1602, 0.7999999999999999), (1603, 0.7999999999999999), (1604, 0.7999999999999999), (1605, 0.7999999999999999), (1606, 0.7999999999999999), (1607, 0.7999999999999999), (1609, 0.7999999999999999), (1612, 0.7999999999999999), (1631, 0.7999999999999999), (1660, 0.7999999999999999), (1670, 0.7999999999999999), (1674, 0.7999999999999999), (1679, 0.7999999999999999), (1681, 0.7999999999999999), (1706, 0.7999999999999999), (1709, 0.7999999999999999), (1711, 0.7999999999999999), (1753, 0.7999999999999999), (1755, 0.7999999999999999), (1756, 0.7999999999999999), (1757, 0.7999999999999999), (1759, 0.7999999999999999), (1763, 0.7999999999999999), (1788, 0.7999999999999999), (1818, 0.7999999999999999), (1824, 0.7999999999999999), (1825, 0.7999999999999999), (1845, 0.7999999999999999), (1846, 0.7999999999999999), (1847, 0.7999999999999999), (1853, 0.7999999999999999), (1855, 0.7999999999999999), (1858, 0.7999999999999999), (1864, 0.7999999999999999), (1867, 0.7999999999999999), (1882, 0.7999999999999999), (1893, 0.7999999999999999), (1895, 0.7999999999999999), (1896, 0.7999999999999999), (1908, 0.7999999999999999), (1925, 0.7999999999999999), (1940, 0.7999999999999999), (1989, 0.7999999999999999), (1990, 0.7999999999999999), (1994, 0.7999999999999999), (2002, 0.7999999999999999), (2017, 0.7999999999999999), (2032, 0.7999999999999999), (2068, 0.7999999999999999), (2070, 0.7999999999999999), (2079, 0.7999999999999999), (2102, 0.7999999999999999), (2116, 0.7999999999999999), (2130, 0.7999999999999999), (2131, 0.7999999999999999), (2149, 0.7999999999999999), (2150, 0.7999999999999999), (2151, 0.7999999999999999), (2163, 0.7999999999999999), (2171, 0.7999999999999999), (2196, 0.7999999999999999), (2214, 0.7999999999999999), (2219, 0.7999999999999999), (2221, 0.7999999999999999), (2235, 0.7999999999999999), (2243, 0.7999999999999999), (2246, 0.7999999999999999), (2247, 0.7999999999999999), (2259, 0.7999999999999999), (2264, 0.7999999999999999), (2300, 0.7999999999999999), (2323, 0.7999999999999999), (2335, 0.7999999999999999), (2356, 0.7999999999999999), (2369, 0.7999999999999999), (2373, 0.7999999999999999), (2378, 0.7999999999999999), (2380, 0.7999999999999999), (2383, 0.7999999999999999), (2384, 0.7999999999999999), (2408, 0.7999999999999999), (2417, 0.7999999999999999), (2430, 0.7999999999999999), (2432, 0.7999999999999999), (2442, 0.7999999999999999), (2468, 0.7999999999999999), (2473, 0.7999999999999999), (2487, 0.7999999999999999), (2550, 0.7999999999999999), (2552, 0.7999999999999999), (2556, 0.7999999999999999), (2559, 0.7999999999999999), (2560, 0.7999999999999999), (2564, 0.7999999999999999), (2565, 0.7999999999999999), (2566, 0.7999999999999999), (2570, 0.7999999999999999), (2571, 0.7999999999999999), (2572, 0.7999999999999999), (2576, 0.7999999999999999), (2580, 0.7999999999999999), (2633, 0.7999999999999999), (2634, 0.7999999999999999), (2635, 0.7999999999999999), (2640, 0.7999999999999999), (2641, 0.7999999999999999), (2643, 0.7999999999999999), (2644, 0.7999999999999999), (2647, 0.7999999999999999), (2649, 0.7999999999999999), (2650, 0.7999999999999999), (2651, 0.7999999999999999), (2666, 0.7999999999999999), (2668, 0.7999999999999999), (2690, 0.7999999999999999), (2691, 0.7999999999999999), (2712, 0.7999999999999999), (2750, 0.7999999999999999), (2792, 0.7999999999999999), (2794, 0.7999999999999999), (2831, 0.7999999999999999), (2832, 0.7999999999999999), (2853, 0.7999999999999999), (2855, 0.7999999999999999), (2856, 0.7999999999999999), (2859, 0.7999999999999999), (2861, 0.7999999999999999), (2869, 0.7999999999999999), (2872, 0.7999999999999999), (2892, 0.7999999999999999), (2893, 0.7999999999999999), (2898, 0.7999999999999999), (2910, 0.7999999999999999), (2911, 0.7999999999999999), (2941, 0.7999999999999999), (2950, 0.7999999999999999), (2962, 0.7999999999999999), (2966, 0.7999999999999999), (2968, 0.7999999999999999), (3001, 0.7999999999999999), (3013, 0.7999999999999999), (3021, 0.7999999999999999), (3026, 0.7999999999999999), (3046, 0.7999999999999999), (3052, 0.7999999999999999), (3053, 0.7999999999999999), (3060, 0.7999999999999999), (3069, 0.7999999999999999), (3076, 0.7999999999999999), (3097, 0.7999999999999999), (3098, 0.7999999999999999), (3103, 0.7999999999999999), (3106, 0.7999999999999999), (3107, 0.7999999999999999), (3108, 0.7999999999999999), (3109, 0.7999999999999999), (3112, 0.7999999999999999), (3116, 0.7999999999999999), (3130, 0.7999999999999999), (3131, 0.7999999999999999), (3132, 0.7999999999999999), (3133, 0.7999999999999999), (3158, 0.7999999999999999), (3170, 0.7999999999999999), (3178, 0.7999999999999999), (3194, 0.7999999999999999), (3197, 0.7999999999999999), (3201, 0.7999999999999999), (3205, 0.7999999999999999), (3209, 0.7999999999999999), (3238, 0.7999999999999999), (3274, 0.7999999999999999), (3293, 0.7999999999999999), (3295, 0.7999999999999999), (3301, 0.7999999999999999), (3337, 0.7999999999999999), (3338, 0.7999999999999999), (3339, 0.7999999999999999), (3341, 0.7999999999999999), (3343, 0.7999999999999999), (3345, 0.7999999999999999), (3352, 0.7999999999999999), (3361, 0.7999999999999999), (3362, 0.7999999999999999), (3373, 0.7999999999999999), (3419, 0.7999999999999999), (3420, 0.7999999999999999), (3421, 0.7999999999999999), (3422, 0.7999999999999999), (3424, 0.7999999999999999), (3454, 0.7999999999999999), (3467, 0.7999999999999999), (3470, 0.7999999999999999), (3483, 0.7999999999999999), (3516, 0.7999999999999999), (3517, 0.7999999999999999), (3520, 0.7999999999999999), (3529, 0.7999999999999999), (3545, 0.7999999999999999), (3553, 0.7999999999999999), (3554, 0.7999999999999999), (3558, 0.7999999999999999), (3559, 0.7999999999999999), (3561, 0.7999999999999999), (3562, 0.7999999999999999), (3563, 0.7999999999999999), (3564, 0.7999999999999999), (3567, 0.7999999999999999), (3568, 0.7999999999999999), (3569, 0.7999999999999999), (3578, 0.7999999999999999), (3583, 0.7999999999999999), (3597, 0.7999999999999999), (3598, 0.7999999999999999), (3599, 0.7999999999999999), (3600, 0.7999999999999999), (3618, 0.7999999999999999), (3619, 0.7999999999999999), (3630, 0.7999999999999999), (3648, 0.7999999999999999), (3657, 0.7999999999999999), (3663, 0.7999999999999999), (3671, 0.7999999999999999), (3675, 0.7999999999999999), (3676, 0.7999999999999999), (3690, 0.7999999999999999), (3691, 0.7999999999999999), (3693, 0.7999999999999999), (3694, 0.7999999999999999), (3697, 0.7999999999999999), (3698, 0.7999999999999999), (3717, 0.7999999999999999), (3722, 0.7999999999999999), (3723, 0.7999999999999999), (3742, 0.7999999999999999), (3756, 0.7999999999999999), (3763, 0.7999999999999999), (3773, 0.7999999999999999), (3774, 0.7999999999999999), (3776, 0.7999999999999999), (3823, 0.7999999999999999), (3825, 0.7999999999999999), (3848, 0.7999999999999999), (3851, 0.7999999999999999), (3860, 0.7999999999999999), (3870, 0.7999999999999999), (3878, 0.7999999999999999), (3904, 0.7999999999999999), (3905, 0.7999999999999999), (3909, 0.7999999999999999), (3926, 0.7999999999999999), (3939, 0.7999999999999999), (3942, 0.7999999999999999), (3943, 0.7999999999999999), (3957, 0.7999999999999999), (3964, 0.7999999999999999), (3965, 0.7999999999999999), (3966, 0.7999999999999999), (3967, 0.7999999999999999), (3968, 0.7999999999999999), (3975, 0.7999999999999999), (3986, 0.7999999999999999), (3987, 0.7999999999999999), (3999, 0.7999999999999999), (4002, 0.7999999999999999), (4016, 0.7999999999999999), (4033, 0.7999999999999999), (4074, 0.7999999999999999), (4075, 0.7999999999999999), (4103, 0.7999999999999999), (4109, 0.7999999999999999), (4118, 0.7999999999999999), (4119, 0.7999999999999999), (4146, 0.7999999999999999), (4147, 0.7999999999999999), (4166, 0.7999999999999999), (4188, 0.7999999999999999), (4220, 0.7999999999999999), (4224, 0.7999999999999999), (4256, 0.7999999999999999), (4258, 0.7999999999999999), (4268, 0.7999999999999999), (4271, 0.7999999999999999), (4272, 0.7999999999999999), (4273, 0.7999999999999999), (4276, 0.7999999999999999), (4293, 0.7999999999999999), (4297, 0.7999999999999999), (4298, 0.7999999999999999), (4299, 0.7999999999999999), (4300, 0.7999999999999999), (4315, 0.7999999999999999), (4320, 0.7999999999999999), (4321, 0.7999999999999999), (4340, 0.7999999999999999), (4341, 0.7999999999999999), (4343, 0.7999999999999999), (4344, 0.7999999999999999), (4391, 0.7999999999999999), (4392, 0.7999999999999999), (4407, 0.7999999999999999), (4415, 0.7999999999999999), (4426, 0.7999999999999999), (4432, 0.7999999999999999), (4441, 0.7999999999999999), (4443, 0.7999999999999999), (4445, 0.7999999999999999), (4452, 0.7999999999999999), (4454, 0.7999999999999999), (4456, 0.7999999999999999), (4474, 0.7999999999999999), (4524, 0.7999999999999999), (4527, 0.7999999999999999), (4529, 0.7999999999999999), (4531, 0.7999999999999999), (4539, 0.7999999999999999), (4548, 0.7999999999999999), (4551, 0.7999999999999999), (4568, 0.7999999999999999), (4569, 0.7999999999999999), (4611, 0.7999999999999999), (4631, 0.7999999999999999), (4635, 0.7999999999999999), (4646, 0.7999999999999999), (4648, 0.7999999999999999), (4674, 0.7999999999999999), (4680, 0.7999999999999999), (4681, 0.7999999999999999), (4686, 0.7999999999999999), (4688, 0.7999999999999999), (4694, 0.7999999999999999), (4712, 0.7999999999999999), (4713, 0.7999999999999999), (4724, 0.7999999999999999), (4733, 0.7999999999999999), (4744, 0.7999999999999999), (4746, 0.7999999999999999), (4769, 0.7999999999999999), (4770, 0.7999999999999999), (4777, 0.7999999999999999), (4793, 0.7999999999999999), (4802, 0.7999999999999999), (4814, 0.7999999999999999), (4816, 0.7999999999999999), (4817, 0.7999999999999999), (4818, 0.7999999999999999), (4820, 0.7999999999999999), (4822, 0.7999999999999999), (4861, 0.7999999999999999), (4873, 0.7999999999999999), (4874, 0.7999999999999999), (4882, 0.7999999999999999), (4909, 0.7999999999999999), (4916, 0.7999999999999999), (4919, 0.7999999999999999), (4946, 0.7999999999999999), (4947, 0.7999999999999999), (4962, 0.7999999999999999), (4963, 0.7999999999999999), (4967, 0.7999999999999999), (4971, 0.7999999999999999), (4974, 0.7999999999999999), (4975, 0.7999999999999999), (4989, 0.7999999999999999), (5008, 0.7999999999999999), (5036, 0.7999999999999999), (5037, 0.7999999999999999), (5049, 0.7999999999999999), (5051, 0.7999999999999999), (5054, 0.7999999999999999), (5056, 0.7999999999999999), (5059, 0.7999999999999999), (5083, 0.7999999999999999), (5084, 0.7999999999999999), (5085, 0.7999999999999999), (5105, 0.7999999999999999), (5114, 0.7999999999999999), (5133, 0.7999999999999999), (5145, 0.7999999999999999), (5148, 0.7999999999999999), (5156, 0.7999999999999999), (5169, 0.7999999999999999), (5176, 0.7999999999999999), (5178, 0.7999999999999999), (5192, 0.7999999999999999), (5193, 0.7999999999999999), (5194, 0.7999999999999999), (5196, 0.7999999999999999), (5203, 0.7999999999999999), (5206, 0.7999999999999999), (5210, 0.7999999999999999), (5211, 0.7999999999999999), (5220, 0.7999999999999999), (5224, 0.7999999999999999), (5228, 0.7999999999999999), (5231, 0.7999999999999999), (5249, 0.7999999999999999), (5269, 0.7999999999999999), (5272, 0.7999999999999999), (5274, 0.7999999999999999), (5299, 0.7999999999999999), (5300, 0.7999999999999999), (5321, 0.7999999999999999), (5325, 0.7999999999999999), (5344, 0.7999999999999999), (5377, 0.7999999999999999), (5380, 0.7999999999999999), (5381, 0.7999999999999999), (5400, 0.7999999999999999), (5412, 0.7999999999999999), (5413, 0.7999999999999999), (5418, 0.7999999999999999), (5425, 0.7999999999999999), (5435, 0.7999999999999999), (5438, 0.7999999999999999), (5453, 0.7999999999999999), (5464, 0.7999999999999999), (5472, 0.7999999999999999), (5473, 0.7999999999999999), (5476, 0.7999999999999999), (5477, 0.7999999999999999), (5485, 0.7999999999999999), (5493, 0.7999999999999999), (5494, 0.7999999999999999), (5496, 0.7999999999999999), (5514, 0.7999999999999999), (5534, 0.7999999999999999), (5542, 0.7999999999999999), (5552, 0.7999999999999999), (5556, 0.7999999999999999), (5558, 0.7999999999999999), (5562, 0.7999999999999999), (5563, 0.7999999999999999), (5564, 0.7999999999999999), (5577, 0.7999999999999999), (5582, 0.7999999999999999), (5602, 0.7999999999999999), (5619, 0.7999999999999999), (5649, 0.7999999999999999), (5654, 0.7999999999999999), (5655, 0.7999999999999999), (5656, 0.7999999999999999), (5660, 0.7999999999999999), (5662, 0.7999999999999999), (5672, 0.7999999999999999), (5695, 0.7999999999999999), (5720, 0.7999999999999999), (5721, 0.7999999999999999), (5727, 0.7999999999999999), (6402, 0.7999999999999999), (6967, 0.7999999999999999), (7277, 0.7999999999999999), (8340, 0.7999999999999999), (8679, 0.7999999999999999), (8979, 0.7999999999999999), (9162, 0.7999999999999999), (9645, 0.7999999999999999), (9793, 0.7999999999999999), (9848, 0.7999999999999999), (9867, 0.7999999999999999), (10868, 0.7999999999999999), (11461, 0.7999999999999999), (12330, 0.7999999999999999), (12362, 0.7999999999999999), (12368, 0.7999999999999999), (12374, 0.7999999999999999), (12450, 0.7999999999999999), (12514, 0.7999999999999999), (12515, 0.7999999999999999), (12518, 0.7999999999999999), (12519, 0.7999999999999999), (12670, 0.7999999999999999), (12757, 0.7999999999999999), (12763, 0.7999999999999999), (12858, 0.7999999999999999), (12983, 0.7999999999999999), (2498, 0.762770071396474), (2555, 0.762770071396474), (3673, 0.762770071396474), (5404, 0.762770071396474), (5585, 0.762770071396474), (7355, 0.762770071396474), (12866, 0.762770071396474), (12928, 0.762770071396474), (6484, 0.7302967433402215), (0, 0.7), (1, 0.7), (2, 0.7), (3, 0.7), (4, 0.7), (5, 0.7), (6, 0.7), (12, 0.7), (14, 0.7), (16, 0.7), (17, 0.7), (18, 0.7), (20, 0.7), (21, 0.7), (22, 0.7), (30, 0.7), (31, 0.7), (32, 0.7), (33, 0.7), (34, 0.7), (45, 0.7), (46, 0.7), (53, 0.7), (54, 0.7), (59, 0.7), (62, 0.7), (64, 0.7), (67, 0.7), (68, 0.7), (70, 0.7), (72, 0.7), (73, 0.7), (77, 0.7), (79, 0.7), (80, 0.7), (82, 0.7), (83, 0.7), (85, 0.7), (86, 0.7), (91, 0.7), (92, 0.7), (94, 0.7), (95, 0.7), (97, 0.7), (98, 0.7), (99, 0.7), (100, 0.7), (102, 0.7), (103, 0.7), (104, 0.7), (107, 0.7), (108, 0.7), (110, 0.7), (111, 0.7), (113, 0.7), (114, 0.7), (115, 0.7), (117, 0.7), (121, 0.7), (122, 0.7), (123, 0.7), (124, 0.7), (125, 0.7), (128, 0.7), (129, 0.7), (130, 0.7), (131, 0.7), (132, 0.7), (133, 0.7), (134, 0.7), (136, 0.7), (138, 0.7), (139, 0.7), (141, 0.7), (144, 0.7), (147, 0.7), (150, 0.7), (151, 0.7), (152, 0.7), (153, 0.7), (155, 0.7), (156, 0.7), (157, 0.7), (158, 0.7), (163, 0.7), (164, 0.7), (170, 0.7), (171, 0.7), (172, 0.7), (173, 0.7), (174, 0.7), (176, 0.7), (179, 0.7), (188, 0.7), (189, 0.7), (190, 0.7), (191, 0.7), (198, 0.7), (204, 0.7), (205, 0.7), (206, 0.7), (208, 0.7), (210, 0.7), (211, 0.7), (212, 0.7), (213, 0.7), (214, 0.7), (215, 0.7), (216, 0.7), (217, 0.7), (221, 0.7), (222, 0.7), (224, 0.7), (226, 0.7), (227, 0.7), (228, 0.7), (234, 0.7), (235, 0.7), (236, 0.7), (243, 0.7), (247, 0.7), (248, 0.7), (250, 0.7), (251, 0.7), (254, 0.7), (255, 0.7), (256, 0.7), (260, 0.7), (261, 0.7), (262, 0.7), (263, 0.7), (264, 0.7), (265, 0.7), (269, 0.7), (270, 0.7), (272, 0.7), (273, 0.7), (274, 0.7), (276, 0.7), (278, 0.7), (279, 0.7), (283, 0.7), (288, 0.7), (289, 0.7), (291, 0.7), (292, 0.7), (293, 0.7), (294, 0.7), (296, 0.7), (297, 0.7), (298, 0.7), (299, 0.7), (300, 0.7), (302, 0.7), (305, 0.7), (309, 0.7), (312, 0.7), (313, 0.7), (315, 0.7), (317, 0.7), (320, 0.7), (321, 0.7), (322, 0.7), (323, 0.7), (324, 0.7), (325, 0.7), (326, 0.7), (327, 0.7), (328, 0.7), (332, 0.7), (334, 0.7), (336, 0.7), (342, 0.7), (344, 0.7), (345, 0.7), (346, 0.7), (347, 0.7), (348, 0.7), (349, 0.7), (353, 0.7), (354, 0.7), (356, 0.7), (358, 0.7), (359, 0.7), (360, 0.7), (361, 0.7), (362, 0.7), (364, 0.7), (365, 0.7), (366, 0.7), (367, 0.7), (368, 0.7), (369, 0.7), (370, 0.7), (376, 0.7), (377, 0.7), (380, 0.7), (382, 0.7), (383, 0.7), (384, 0.7), (387, 0.7), (388, 0.7), (392, 0.7), (393, 0.7), (394, 0.7), (395, 0.7), (396, 0.7), (397, 0.7), (399, 0.7), (400, 0.7), (401, 0.7), (406, 0.7), (407, 0.7), (408, 0.7), (409, 0.7), (412, 0.7), (414, 0.7), (415, 0.7), (416, 0.7), (420, 0.7), (423, 0.7), (424, 0.7), (427, 0.7), (432, 0.7), (435, 0.7), (442, 0.7), (452, 0.7), (459, 0.7), (460, 0.7), (461, 0.7), (462, 0.7), (465, 0.7), (466, 0.7), (467, 0.7), (468, 0.7), (469, 0.7), (479, 0.7), (481, 0.7), (482, 0.7), (483, 0.7), (484, 0.7), (485, 0.7), (486, 0.7), (487, 0.7), (488, 0.7), (491, 0.7), (493, 0.7), (497, 0.7), (498, 0.7), (499, 0.7), (506, 0.7), (508, 0.7), (509, 0.7), (510, 0.7), (511, 0.7), (513, 0.7), (514, 0.7), (515, 0.7), (519, 0.7), (520, 0.7), (530, 0.7), (539, 0.7), (541, 0.7), (543, 0.7), (546, 0.7), (547, 0.7), (549, 0.7), (550, 0.7), (552, 0.7), (553, 0.7), (554, 0.7), (555, 0.7), (556, 0.7), (557, 0.7), (558, 0.7), (559, 0.7), (560, 0.7), (561, 0.7), (562, 0.7), (563, 0.7), (564, 0.7), (565, 0.7), (566, 0.7), (567, 0.7), (570, 0.7), (571, 0.7), (572, 0.7), (573, 0.7), (574, 0.7), (575, 0.7), (576, 0.7), (583, 0.7), (584, 0.7), (585, 0.7), (586, 0.7), (592, 0.7), (594, 0.7), (596, 0.7), (597, 0.7), (600, 0.7), (601, 0.7), (603, 0.7), (604, 0.7), (605, 0.7), (606, 0.7), (608, 0.7), (609, 0.7), (610, 0.7), (611, 0.7), (612, 0.7), (613, 0.7), (617, 0.7), (619, 0.7), (622, 0.7), (623, 0.7), (625, 0.7), (628, 0.7), (629, 0.7), (630, 0.7), (631, 0.7), (632, 0.7), (633, 0.7), (634, 0.7), (641, 0.7), (646, 0.7), (654, 0.7), (655, 0.7), (656, 0.7), (661, 0.7), (662, 0.7), (663, 0.7), (664, 0.7), (666, 0.7), (667, 0.7), (671, 0.7), (673, 0.7), (674, 0.7), (677, 0.7), (678, 0.7), (680, 0.7), (681, 0.7), (683, 0.7), (685, 0.7), (686, 0.7), (692, 0.7), (697, 0.7), (699, 0.7), (701, 0.7), (702, 0.7), (703, 0.7), (704, 0.7), (705, 0.7), (706, 0.7), (710, 0.7), (711, 0.7), (712, 0.7), (713, 0.7), (717, 0.7), (718, 0.7), (719, 0.7), (721, 0.7), (726, 0.7), (728, 0.7), (729, 0.7), (732, 0.7), (734, 0.7), (735, 0.7), (746, 0.7), (758, 0.7), (759, 0.7), (761, 0.7), (762, 0.7), (766, 0.7), (767, 0.7), (769, 0.7), (773, 0.7), (775, 0.7), (777, 0.7), (782, 0.7), (783, 0.7), (784, 0.7), (785, 0.7), (786, 0.7), (787, 0.7), (788, 0.7), (790, 0.7), (791, 0.7), (792, 0.7), (794, 0.7), (795, 0.7), (796, 0.7), (797, 0.7), (798, 0.7), (799, 0.7), (800, 0.7), (802, 0.7), (803, 0.7), (804, 0.7), (806, 0.7), (807, 0.7), (808, 0.7), (809, 0.7), (811, 0.7), (812, 0.7), (813, 0.7), (815, 0.7), (818, 0.7), (820, 0.7), (822, 0.7), (824, 0.7), (825, 0.7), (831, 0.7), (832, 0.7), (833, 0.7), (835, 0.7), (838, 0.7), (840, 0.7), (841, 0.7), (842, 0.7), (846, 0.7), (847, 0.7), (848, 0.7), (849, 0.7), (851, 0.7), (852, 0.7), (854, 0.7), (855, 0.7), (856, 0.7), (857, 0.7), (860, 0.7), (861, 0.7), (862, 0.7), (863, 0.7), (867, 0.7), (868, 0.7), (869, 0.7), (870, 0.7), (871, 0.7), (873, 0.7), (874, 0.7), (875, 0.7), (876, 0.7), (877, 0.7), (878, 0.7), (879, 0.7), (880, 0.7), (881, 0.7), (882, 0.7), (884, 0.7), (885, 0.7), (886, 0.7), (888, 0.7), (889, 0.7), (890, 0.7), (891, 0.7), (895, 0.7), (896, 0.7), (897, 0.7), (900, 0.7), (901, 0.7), (902, 0.7), (903, 0.7), (908, 0.7), (909, 0.7), (915, 0.7), (916, 0.7), (924, 0.7), (925, 0.7), (930, 0.7), (931, 0.7), (937, 0.7), (939, 0.7), (940, 0.7), (941, 0.7), (946, 0.7), (947, 0.7), (948, 0.7), (949, 0.7), (951, 0.7), (952, 0.7), (955, 0.7), (959, 0.7), (965, 0.7), (966, 0.7), (967, 0.7), (968, 0.7), (969, 0.7), (970, 0.7), (973, 0.7), (974, 0.7), (975, 0.7), (978, 0.7), (981, 0.7), (982, 0.7), (983, 0.7), (984, 0.7), (985, 0.7), (986, 0.7), (987, 0.7), (988, 0.7), (992, 0.7), (995, 0.7), (999, 0.7), (1003, 0.7), (1004, 0.7), (1005, 0.7), (1006, 0.7), (1008, 0.7), (1009, 0.7), (1010, 0.7), (1012, 0.7), (1013, 0.7), (1015, 0.7), (1016, 0.7), (1021, 0.7), (1022, 0.7), (1023, 0.7), (1026, 0.7), (1030, 0.7), (1031, 0.7), (1032, 0.7), (1033, 0.7), (1034, 0.7), (1035, 0.7), (1039, 0.7), (1040, 0.7), (1041, 0.7), (1042, 0.7), (1044, 0.7), (1045, 0.7), (1047, 0.7), (1050, 0.7), (1051, 0.7), (1053, 0.7), (1054, 0.7), (1056, 0.7), (1058, 0.7), (1059, 0.7), (1063, 0.7), (1064, 0.7), (1065, 0.7), (1066, 0.7), (1067, 0.7), (1068, 0.7), (1069, 0.7), (1070, 0.7), (1071, 0.7), (1072, 0.7), (1075, 0.7), (1078, 0.7), (1080, 0.7), (1081, 0.7), (1082, 0.7), (1087, 0.7), (1088, 0.7), (1089, 0.7), (1090, 0.7), (1092, 0.7), (1093, 0.7), (1098, 0.7), (1103, 0.7), (1104, 0.7), (1105, 0.7), (1106, 0.7), (1108, 0.7), (1109, 0.7), (1110, 0.7), (1111, 0.7), (1112, 0.7), (1113, 0.7), (1114, 0.7), (1115, 0.7), (1116, 0.7), (1117, 0.7), (1118, 0.7), (1119, 0.7), (1120, 0.7), (1122, 0.7), (1124, 0.7), (1125, 0.7), (1127, 0.7), (1128, 0.7), (1130, 0.7), (1138, 0.7), (1143, 0.7), (1144, 0.7), (1145, 0.7), (1146, 0.7), (1148, 0.7), (1149, 0.7), (1153, 0.7), (1154, 0.7), (1155, 0.7), (1156, 0.7), (1158, 0.7), (1159, 0.7), (1161, 0.7), (1163, 0.7), (1164, 0.7), (1168, 0.7), (1169, 0.7), (1170, 0.7), (1171, 0.7), (1172, 0.7), (1173, 0.7), (1175, 0.7), (1180, 0.7), (1182, 0.7), (1183, 0.7), (1184, 0.7), (1185, 0.7), (1186, 0.7), (1188, 0.7), (1189, 0.7), (1190, 0.7), (1193, 0.7), (1194, 0.7), (1198, 0.7), (1199, 0.7), (1203, 0.7), (1205, 0.7), (1206, 0.7), (1207, 0.7), (1208, 0.7), (1209, 0.7), (1210, 0.7), (1211, 0.7), (1212, 0.7), (1213, 0.7), (1214, 0.7), (1216, 0.7), (1217, 0.7), (1218, 0.7), (1219, 0.7), (1221, 0.7), (1222, 0.7), (1223, 0.7), (1224, 0.7), (1225, 0.7), (1227, 0.7), (1228, 0.7), (1231, 0.7), (1232, 0.7), (1233, 0.7), (1234, 0.7), (1235, 0.7), (1236, 0.7), (1237, 0.7), (1238, 0.7), (1244, 0.7), (1248, 0.7), (1249, 0.7), (1250, 0.7), (1251, 0.7), (1254, 0.7), (1255, 0.7), (1256, 0.7), (1257, 0.7), (1259, 0.7), (1260, 0.7), (1262, 0.7), (1263, 0.7), (1264, 0.7), (1265, 0.7), (1266, 0.7), (1267, 0.7), (1269, 0.7), (1271, 0.7), (1273, 0.7), (1275, 0.7), (1277, 0.7), (1278, 0.7), (1279, 0.7), (1280, 0.7), (1281, 0.7), (1282, 0.7), (1283, 0.7), (1284, 0.7), (1285, 0.7), (1286, 0.7), (1287, 0.7), (1288, 0.7), (1291, 0.7), (1292, 0.7), (1293, 0.7), (1295, 0.7), (1296, 0.7), (1297, 0.7), (1298, 0.7), (1299, 0.7), (1300, 0.7), (1301, 0.7), (1302, 0.7), (1303, 0.7), (1304, 0.7), (1305, 0.7), (1306, 0.7), (1307, 0.7), (1308, 0.7), (1309, 0.7), (1310, 0.7), (1311, 0.7), (1313, 0.7), (1314, 0.7), (1315, 0.7), (1316, 0.7), (1317, 0.7), (1318, 0.7), (1319, 0.7), (1320, 0.7), (1321, 0.7), (1322, 0.7), (1323, 0.7), (1324, 0.7), (1327, 0.7), (1331, 0.7), (1332, 0.7), (1337, 0.7), (1343, 0.7), (1344, 0.7), (1351, 0.7), (1352, 0.7), (1353, 0.7), (1354, 0.7), (1357, 0.7), (1370, 0.7), (1373, 0.7), (1374, 0.7), (1375, 0.7), (1376, 0.7), (1378, 0.7), (1380, 0.7), (1381, 0.7), (1382, 0.7), (1383, 0.7), (1385, 0.7), (1386, 0.7), (1388, 0.7), (1390, 0.7), (1391, 0.7), (1392, 0.7), (1393, 0.7), (1395, 0.7), (1397, 0.7), (1398, 0.7), (1399, 0.7), (1400, 0.7), (1401, 0.7), (1403, 0.7), (1406, 0.7), (1407, 0.7), (1408, 0.7), (1409, 0.7), (1414, 0.7), (1415, 0.7), (1416, 0.7), (1417, 0.7), (1424, 0.7), (1425, 0.7), (1426, 0.7), (1429, 0.7), (1435, 0.7), (1437, 0.7), (1440, 0.7), (1441, 0.7), (1442, 0.7), (1443, 0.7), (1445, 0.7), (1446, 0.7), (1447, 0.7), (1450, 0.7), (1451, 0.7), (1452, 0.7), (1453, 0.7), (1454, 0.7), (1455, 0.7), (1456, 0.7), (1457, 0.7), (1463, 0.7), (1466, 0.7), (1467, 0.7), (1468, 0.7), (1469, 0.7), (1477, 0.7), (1485, 0.7), (1486, 0.7), (1493, 0.7), (1496, 0.7), (1497, 0.7), (1500, 0.7), (1501, 0.7), (1502, 0.7), (1503, 0.7), (1504, 0.7), (1505, 0.7), (1507, 0.7), (1508, 0.7), (1510, 0.7), (1513, 0.7), (1514, 0.7), (1516, 0.7), (1517, 0.7), (1518, 0.7), (1525, 0.7), (1526, 0.7), (1527, 0.7), (1528, 0.7), (1529, 0.7), (1530, 0.7), (1531, 0.7), (1533, 0.7), (1534, 0.7), (1538, 0.7), (1539, 0.7), (1542, 0.7), (1545, 0.7), (1549, 0.7), (1550, 0.7), (1551, 0.7), (1559, 0.7), (1561, 0.7), (1564, 0.7), (1565, 0.7), (1567, 0.7), (1569, 0.7), (1570, 0.7), (1572, 0.7), (1574, 0.7), (1576, 0.7), (1577, 0.7), (1586, 0.7), (1587, 0.7), (1588, 0.7), (1594, 0.7), (1595, 0.7), (1596, 0.7), (1614, 0.7), (1615, 0.7), (1617, 0.7), (1620, 0.7), (1622, 0.7), (1623, 0.7), (1625, 0.7), (1626, 0.7), (1627, 0.7), (1628, 0.7), (1629, 0.7), (1630, 0.7), (1635, 0.7), (1638, 0.7), (1639, 0.7), (1644, 0.7), (1645, 0.7), (1646, 0.7), (1647, 0.7), (1648, 0.7), (1652, 0.7), (1653, 0.7), (1655, 0.7), (1657, 0.7), (1661, 0.7), (1672, 0.7), (1675, 0.7), (1676, 0.7), (1678, 0.7), (1680, 0.7), (1683, 0.7), (1685, 0.7), (1686, 0.7), (1687, 0.7), (1688, 0.7), (1690, 0.7), (1692, 0.7), (1693, 0.7), (1696, 0.7), (1698, 0.7), (1699, 0.7), (1702, 0.7), (1704, 0.7), (1708, 0.7), (1712, 0.7), (1713, 0.7), (1714, 0.7), (1716, 0.7), (1719, 0.7), (1720, 0.7), (1722, 0.7), (1723, 0.7), (1724, 0.7), (1725, 0.7), (1727, 0.7), (1728, 0.7), (1729, 0.7), (1731, 0.7), (1732, 0.7), (1733, 0.7), (1734, 0.7), (1737, 0.7), (1738, 0.7), (1740, 0.7), (1741, 0.7), (1742, 0.7), (1743, 0.7), (1744, 0.7), (1745, 0.7), (1760, 0.7), (1762, 0.7), (1764, 0.7), (1767, 0.7), (1768, 0.7), (1769, 0.7), (1770, 0.7), (1772, 0.7), (1773, 0.7), (1774, 0.7), (1776, 0.7), (1777, 0.7), (1778, 0.7), (1779, 0.7), (1781, 0.7), (1782, 0.7), (1783, 0.7), (1785, 0.7), (1790, 0.7), (1791, 0.7), (1792, 0.7), (1793, 0.7), (1794, 0.7), (1798, 0.7), (1799, 0.7), (1801, 0.7), (1802, 0.7), (1803, 0.7), (1804, 0.7), (1805, 0.7), (1806, 0.7), (1807, 0.7), (1808, 0.7), (1810, 0.7), (1814, 0.7), (1815, 0.7), (1816, 0.7), (1817, 0.7), (1819, 0.7), (1821, 0.7), (1823, 0.7), (1826, 0.7), (1827, 0.7), (1829, 0.7), (1838, 0.7), (1839, 0.7), (1842, 0.7), (1844, 0.7), (1849, 0.7), (1852, 0.7), (1854, 0.7), (1856, 0.7), (1859, 0.7), (1860, 0.7), (1862, 0.7), (1865, 0.7), (1868, 0.7), (1869, 0.7), (1870, 0.7), (1871, 0.7), (1877, 0.7), (1878, 0.7), (1880, 0.7), (1885, 0.7), (1891, 0.7), (1897, 0.7), (1898, 0.7), (1900, 0.7), (1901, 0.7), (1902, 0.7), (1904, 0.7), (1905, 0.7), (1906, 0.7), (1907, 0.7), (1909, 0.7), (1910, 0.7), (1913, 0.7), (1914, 0.7), (1916, 0.7), (1917, 0.7), (1918, 0.7), (1921, 0.7), (1927, 0.7), (1928, 0.7), (1929, 0.7), (1930, 0.7), (1931, 0.7), (1933, 0.7), (1935, 0.7), (1936, 0.7), (1937, 0.7), (1938, 0.7), (1939, 0.7), (1942, 0.7), (1945, 0.7), (1946, 0.7), (1947, 0.7), (1949, 0.7), (1951, 0.7), (1955, 0.7), (1956, 0.7), (1958, 0.7), (1959, 0.7), (1960, 0.7), (1961, 0.7), (1962, 0.7), (1963, 0.7), (1964, 0.7), (1965, 0.7), (1966, 0.7), (1969, 0.7), (1970, 0.7), (1972, 0.7), (1973, 0.7), (1975, 0.7), (1976, 0.7), (1978, 0.7), (1981, 0.7), (1982, 0.7), (1984, 0.7), (1988, 0.7), (1995, 0.7), (1997, 0.7), (1998, 0.7), (2005, 0.7), (2007, 0.7), (2010, 0.7), (2011, 0.7), (2013, 0.7), (2014, 0.7), (2018, 0.7), (2019, 0.7), (2020, 0.7), (2022, 0.7), (2024, 0.7), (2027, 0.7), (2029, 0.7), (2030, 0.7), (2036, 0.7), (2039, 0.7), (2040, 0.7), (2041, 0.7), (2044, 0.7), (2045, 0.7), (2047, 0.7), (2048, 0.7), (2049, 0.7), (2051, 0.7), (2053, 0.7), (2057, 0.7), (2058, 0.7), (2060, 0.7), (2063, 0.7), (2064, 0.7), (2067, 0.7), (2071, 0.7), (2072, 0.7), (2073, 0.7), (2074, 0.7), (2076, 0.7), (2078, 0.7), (2081, 0.7), (2083, 0.7), (2084, 0.7), (2085, 0.7), (2086, 0.7), (2088, 0.7), (2089, 0.7), (2091, 0.7), (2092, 0.7), (2095, 0.7), (2097, 0.7), (2098, 0.7), (2099, 0.7), (2101, 0.7), (2105, 0.7), (2106, 0.7), (2107, 0.7), (2111, 0.7), (2113, 0.7), (2115, 0.7), (2117, 0.7), (2120, 0.7), (2121, 0.7), (2126, 0.7), (2128, 0.7), (2129, 0.7), (2134, 0.7), (2135, 0.7), (2136, 0.7), (2137, 0.7), (2143, 0.7), (2145, 0.7), (2147, 0.7), (2148, 0.7), (2153, 0.7), (2155, 0.7), (2157, 0.7), (2158, 0.7), (2165, 0.7), (2166, 0.7), (2168, 0.7), (2173, 0.7), (2177, 0.7), (2179, 0.7), (2182, 0.7), (2183, 0.7), (2186, 0.7), (2188, 0.7), (2190, 0.7), (2191, 0.7), (2192, 0.7), (2193, 0.7), (2194, 0.7), (2195, 0.7), (2197, 0.7), (2199, 0.7), (2201, 0.7), (2203, 0.7), (2205, 0.7), (2206, 0.7), (2207, 0.7), (2208, 0.7), (2211, 0.7), (2212, 0.7), (2215, 0.7), (2223, 0.7), (2224, 0.7), (2225, 0.7), (2227, 0.7), (2228, 0.7), (2229, 0.7), (2230, 0.7), (2231, 0.7), (2236, 0.7), (2237, 0.7), (2238, 0.7), (2250, 0.7), (2252, 0.7), (2253, 0.7), (2254, 0.7), (2261, 0.7), (2262, 0.7), (2265, 0.7), (2266, 0.7), (2270, 0.7), (2272, 0.7), (2273, 0.7), (2275, 0.7), (2280, 0.7), (2282, 0.7), (2285, 0.7), (2290, 0.7), (2294, 0.7), (2297, 0.7), (2301, 0.7), (2303, 0.7), (2305, 0.7), (2307, 0.7), (2308, 0.7), (2312, 0.7), (2313, 0.7), (2315, 0.7), (2325, 0.7), (2329, 0.7), (2331, 0.7), (2333, 0.7), (2346, 0.7), (2347, 0.7), (2349, 0.7), (2351, 0.7), (2352, 0.7), (2353, 0.7), (2354, 0.7), (2355, 0.7), (2357, 0.7), (2358, 0.7), (2359, 0.7), (2360, 0.7), (2361, 0.7), (2362, 0.7), (2363, 0.7), (2365, 0.7), (2366, 0.7), (2367, 0.7), (2368, 0.7), (2371, 0.7), (2372, 0.7), (2374, 0.7), (2376, 0.7), (2377, 0.7), (2379, 0.7), (2381, 0.7), (2382, 0.7), (2388, 0.7), (2390, 0.7), (2391, 0.7), (2392, 0.7), (2394, 0.7), (2395, 0.7), (2396, 0.7), (2399, 0.7), (2400, 0.7), (2402, 0.7), (2403, 0.7), (2405, 0.7), (2406, 0.7), (2409, 0.7), (2410, 0.7), (2418, 0.7), (2419, 0.7), (2420, 0.7), (2421, 0.7), (2423, 0.7), (2424, 0.7), (2425, 0.7), (2426, 0.7), (2435, 0.7), (2436, 0.7), (2437, 0.7), (2438, 0.7), (2439, 0.7), (2440, 0.7), (2441, 0.7), (2443, 0.7), (2446, 0.7), (2447, 0.7), (2448, 0.7), (2450, 0.7), (2452, 0.7), (2455, 0.7), (2456, 0.7), (2457, 0.7), (2459, 0.7), (2460, 0.7), (2461, 0.7), (2462, 0.7), (2469, 0.7), (2470, 0.7), (2474, 0.7), (2475, 0.7), (2476, 0.7), (2477, 0.7), (2480, 0.7), (2481, 0.7), (2483, 0.7), (2484, 0.7), (2486, 0.7), (2488, 0.7), (2489, 0.7), (2491, 0.7), (2492, 0.7), (2494, 0.7), (2495, 0.7), (2496, 0.7), (2499, 0.7), (2500, 0.7), (2501, 0.7), (2504, 0.7), (2505, 0.7), (2511, 0.7), (2513, 0.7), (2514, 0.7), (2516, 0.7), (2518, 0.7), (2519, 0.7), (2520, 0.7), (2526, 0.7), (2528, 0.7), (2530, 0.7), (2532, 0.7), (2533, 0.7), (2534, 0.7), (2541, 0.7), (2543, 0.7), (2545, 0.7), (2546, 0.7), (2548, 0.7), (2549, 0.7), (2554, 0.7), (2573, 0.7), (2577, 0.7), (2578, 0.7), (2582, 0.7), (2583, 0.7), (2584, 0.7), (2585, 0.7), (2589, 0.7), (2590, 0.7), (2591, 0.7), (2592, 0.7), (2593, 0.7), (2594, 0.7), (2596, 0.7), (2602, 0.7), (2604, 0.7), (2608, 0.7), (2609, 0.7), (2610, 0.7), (2611, 0.7), (2612, 0.7), (2613, 0.7), (2616, 0.7), (2617, 0.7), (2618, 0.7), (2619, 0.7), (2624, 0.7), (2625, 0.7), (2627, 0.7), (2628, 0.7), (2631, 0.7), (2632, 0.7), (2636, 0.7), (2637, 0.7), (2638, 0.7), (2645, 0.7), (2652, 0.7), (2653, 0.7), (2656, 0.7), (2657, 0.7), (2659, 0.7), (2661, 0.7), (2663, 0.7), (2665, 0.7), (2667, 0.7), (2669, 0.7), (2670, 0.7), (2671, 0.7), (2672, 0.7), (2673, 0.7), (2674, 0.7), (2675, 0.7), (2676, 0.7), (2677, 0.7), (2678, 0.7), (2679, 0.7), (2680, 0.7), (2681, 0.7), (2682, 0.7), (2683, 0.7), (2684, 0.7), (2685, 0.7), (2686, 0.7), (2688, 0.7), (2694, 0.7), (2697, 0.7), (2699, 0.7), (2702, 0.7), (2704, 0.7), (2705, 0.7), (2706, 0.7), (2707, 0.7), (2708, 0.7), (2709, 0.7), (2714, 0.7), (2722, 0.7), (2725, 0.7), (2727, 0.7), (2728, 0.7), (2730, 0.7), (2731, 0.7), (2733, 0.7), (2734, 0.7), (2736, 0.7), (2737, 0.7), (2738, 0.7), (2739, 0.7), (2740, 0.7), (2741, 0.7), (2744, 0.7), (2745, 0.7), (2747, 0.7), (2749, 0.7), (2752, 0.7), (2753, 0.7), (2754, 0.7), (2757, 0.7), (2760, 0.7), (2761, 0.7), (2763, 0.7), (2765, 0.7), (2768, 0.7), (2769, 0.7), (2773, 0.7), (2774, 0.7), (2775, 0.7), (2782, 0.7), (2783, 0.7), (2784, 0.7), (2787, 0.7), (2788, 0.7), (2789, 0.7), (2796, 0.7), (2798, 0.7), (2800, 0.7), (2801, 0.7), (2803, 0.7), (2805, 0.7), (2807, 0.7), (2808, 0.7), (2809, 0.7), (2812, 0.7), (2813, 0.7), (2821, 0.7), (2824, 0.7), (2829, 0.7), (2834, 0.7), (2835, 0.7), (2836, 0.7), (2837, 0.7), (2842, 0.7), (2843, 0.7), (2846, 0.7), (2848, 0.7), (2852, 0.7), (2854, 0.7), (2857, 0.7), (2858, 0.7), (2860, 0.7), (2866, 0.7), (2867, 0.7), (2868, 0.7), (2873, 0.7), (2874, 0.7), (2875, 0.7), (2876, 0.7), (2878, 0.7), (2879, 0.7), (2881, 0.7), (2882, 0.7), (2884, 0.7), (2886, 0.7), (2887, 0.7), (2888, 0.7), (2890, 0.7), (2899, 0.7), (2900, 0.7), (2902, 0.7), (2904, 0.7), (2905, 0.7), (2907, 0.7), (2908, 0.7), (2909, 0.7), (2912, 0.7), (2916, 0.7), (2918, 0.7), (2922, 0.7), (2923, 0.7), (2924, 0.7), (2925, 0.7), (2926, 0.7), (2927, 0.7), (2928, 0.7), (2930, 0.7), (2931, 0.7), (2932, 0.7), (2933, 0.7), (2934, 0.7), (2935, 0.7), (2936, 0.7), (2937, 0.7), (2938, 0.7), (2939, 0.7), (2940, 0.7), (2942, 0.7), (2945, 0.7), (2946, 0.7), (2947, 0.7), (2949, 0.7), (2952, 0.7), (2953, 0.7), (2954, 0.7), (2955, 0.7), (2961, 0.7), (2963, 0.7), (2964, 0.7), (2965, 0.7), (2967, 0.7), (2969, 0.7), (2970, 0.7), (2975, 0.7), (2980, 0.7), (2984, 0.7), (2985, 0.7), (2986, 0.7), (2987, 0.7), (2990, 0.7), (2994, 0.7), (2995, 0.7), (2997, 0.7), (3002, 0.7), (3003, 0.7), (3004, 0.7), (3005, 0.7), (3006, 0.7), (3008, 0.7), (3009, 0.7), (3012, 0.7), (3015, 0.7), (3016, 0.7), (3018, 0.7), (3020, 0.7), (3022, 0.7), (3024, 0.7), (3029, 0.7), (3030, 0.7), (3032, 0.7), (3036, 0.7), (3038, 0.7), (3039, 0.7), (3040, 0.7), (3042, 0.7), (3044, 0.7), (3045, 0.7), (3049, 0.7), (3050, 0.7), (3051, 0.7), (3054, 0.7), (3058, 0.7), (3059, 0.7), (3062, 0.7), (3063, 0.7), (3064, 0.7), (3065, 0.7), (3066, 0.7), (3067, 0.7), (3068, 0.7), (3071, 0.7), (3072, 0.7), (3073, 0.7), (3074, 0.7), (3077, 0.7), (3082, 0.7), (3083, 0.7), (3084, 0.7), (3089, 0.7), (3092, 0.7), (3094, 0.7), (3096, 0.7), (3099, 0.7), (3100, 0.7), (3104, 0.7), (3110, 0.7), (3111, 0.7), (3114, 0.7), (3120, 0.7), (3122, 0.7), (3125, 0.7), (3126, 0.7), (3129, 0.7), (3137, 0.7), (3138, 0.7), (3142, 0.7), (3143, 0.7), (3144, 0.7), (3145, 0.7), (3147, 0.7), (3148, 0.7), (3150, 0.7), (3151, 0.7), (3152, 0.7), (3153, 0.7), (3154, 0.7), (3155, 0.7), (3156, 0.7), (3157, 0.7), (3159, 0.7), (3163, 0.7), (3164, 0.7), (3166, 0.7), (3173, 0.7), (3174, 0.7), (3175, 0.7), (3177, 0.7), (3180, 0.7), (3181, 0.7), (3182, 0.7), (3184, 0.7), (3191, 0.7), (3193, 0.7), (3198, 0.7), (3199, 0.7), (3202, 0.7), (3206, 0.7), (3208, 0.7), (3213, 0.7), (3214, 0.7), (3215, 0.7), (3219, 0.7), (3220, 0.7), (3221, 0.7), (3222, 0.7), (3224, 0.7), (3225, 0.7), (3226, 0.7), (3227, 0.7), (3228, 0.7), (3229, 0.7), (3230, 0.7), (3231, 0.7), (3232, 0.7), (3236, 0.7), (3237, 0.7), (3239, 0.7), (3246, 0.7), (3247, 0.7), (3249, 0.7), (3252, 0.7), (3253, 0.7), (3255, 0.7), (3260, 0.7), (3261, 0.7), (3265, 0.7), (3269, 0.7), (3270, 0.7), (3271, 0.7), (3272, 0.7), (3275, 0.7), (3276, 0.7), (3277, 0.7), (3278, 0.7), (3279, 0.7), (3280, 0.7), (3281, 0.7), (3283, 0.7), (3286, 0.7), (3287, 0.7), (3291, 0.7), (3294, 0.7), (3296, 0.7), (3297, 0.7), (3298, 0.7), (3303, 0.7), (3305, 0.7), (3306, 0.7), (3308, 0.7), (3309, 0.7), (3310, 0.7), (3313, 0.7), (3314, 0.7), (3315, 0.7), (3316, 0.7), (3317, 0.7), (3318, 0.7), (3319, 0.7), (3321, 0.7), (3322, 0.7), (3323, 0.7), (3324, 0.7), (3325, 0.7), (3326, 0.7), (3327, 0.7), (3330, 0.7), (3331, 0.7), (3332, 0.7), (3334, 0.7), (3336, 0.7), (3342, 0.7), (3344, 0.7), (3347, 0.7), (3350, 0.7), (3351, 0.7), (3353, 0.7), (3354, 0.7), (3355, 0.7), (3366, 0.7), (3367, 0.7), (3368, 0.7), (3370, 0.7), (3371, 0.7), (3372, 0.7), (3374, 0.7), (3375, 0.7), (3379, 0.7), (3381, 0.7), (3382, 0.7), (3383, 0.7), (3385, 0.7), (3386, 0.7), (3387, 0.7), (3388, 0.7), (3396, 0.7), (3397, 0.7), (3404, 0.7), (3407, 0.7), (3409, 0.7), (3410, 0.7), (3411, 0.7), (3412, 0.7), (3415, 0.7), (3425, 0.7), (3427, 0.7), (3428, 0.7), (3429, 0.7), (3431, 0.7), (3433, 0.7), (3436, 0.7), (3440, 0.7), (3441, 0.7), (3442, 0.7), (3446, 0.7), (3448, 0.7), (3449, 0.7), (3452, 0.7), (3453, 0.7), (3456, 0.7), (3457, 0.7), (3458, 0.7), (3459, 0.7), (3460, 0.7), (3463, 0.7), (3465, 0.7), (3474, 0.7), (3475, 0.7), (3477, 0.7), (3478, 0.7), (3479, 0.7), (3482, 0.7), (3484, 0.7), (3486, 0.7), (3487, 0.7), (3488, 0.7), (3490, 0.7), (3491, 0.7), (3496, 0.7), (3497, 0.7), (3500, 0.7), (3501, 0.7), (3503, 0.7), (3509, 0.7), (3510, 0.7), (3513, 0.7), (3515, 0.7), (3518, 0.7), (3521, 0.7), (3523, 0.7), (3527, 0.7), (3530, 0.7), (3531, 0.7), (3532, 0.7), (3535, 0.7), (3538, 0.7), (3539, 0.7), (3540, 0.7), (3541, 0.7), (3543, 0.7), (3549, 0.7), (3551, 0.7), (3552, 0.7), (3566, 0.7), (3572, 0.7), (3573, 0.7), (3574, 0.7), (3576, 0.7), (3577, 0.7), (3581, 0.7), (3584, 0.7), (3585, 0.7), (3586, 0.7), (3587, 0.7), (3589, 0.7), (3594, 0.7), (3595, 0.7), (3601, 0.7), (3602, 0.7), (3606, 0.7), (3607, 0.7), (3608, 0.7), (3610, 0.7), (3611, 0.7), (3615, 0.7), (3617, 0.7), (3623, 0.7), (3625, 0.7), (3627, 0.7), (3628, 0.7), (3629, 0.7), (3632, 0.7), (3634, 0.7), (3635, 0.7), (3639, 0.7), (3640, 0.7), (3641, 0.7), (3642, 0.7), (3643, 0.7), (3644, 0.7), (3652, 0.7), (3655, 0.7), (3659, 0.7), (3661, 0.7), (3664, 0.7), (3666, 0.7), (3667, 0.7), (3668, 0.7), (3669, 0.7), (3672, 0.7), (3674, 0.7), (3677, 0.7), (3682, 0.7), (3686, 0.7), (3687, 0.7), (3695, 0.7), (3699, 0.7), (3700, 0.7), (3701, 0.7), (3703, 0.7), (3704, 0.7), (3708, 0.7), (3709, 0.7), (3712, 0.7), (3716, 0.7), (3718, 0.7), (3719, 0.7), (3725, 0.7), (3727, 0.7), (3729, 0.7), (3730, 0.7), (3731, 0.7), (3733, 0.7), (3736, 0.7), (3740, 0.7), (3741, 0.7), (3745, 0.7), (3747, 0.7), (3751, 0.7), (3752, 0.7), (3755, 0.7), (3762, 0.7), (3764, 0.7), (3765, 0.7), (3767, 0.7), (3769, 0.7), (3770, 0.7), (3771, 0.7), (3772, 0.7), (3781, 0.7), (3783, 0.7), (3784, 0.7), (3785, 0.7), (3786, 0.7), (3787, 0.7), (3789, 0.7), (3791, 0.7), (3793, 0.7), (3794, 0.7), (3796, 0.7), (3797, 0.7), (3798, 0.7), (3799, 0.7), (3800, 0.7), (3801, 0.7), (3802, 0.7), (3804, 0.7), (3805, 0.7), (3806, 0.7), (3807, 0.7), (3808, 0.7), (3809, 0.7), (3810, 0.7), (3814, 0.7), (3815, 0.7), (3817, 0.7), (3819, 0.7), (3822, 0.7), (3824, 0.7), (3826, 0.7), (3827, 0.7), (3842, 0.7), (3846, 0.7), (3847, 0.7), (3852, 0.7), (3861, 0.7), (3867, 0.7), (3868, 0.7), (3871, 0.7), (3880, 0.7), (3883, 0.7), (3885, 0.7), (3886, 0.7), (3887, 0.7), (3888, 0.7), (3891, 0.7), (3892, 0.7), (3893, 0.7), (3894, 0.7), (3895, 0.7), (3897, 0.7), (3899, 0.7), (3900, 0.7), (3901, 0.7), (3910, 0.7), (3912, 0.7), (3913, 0.7), (3918, 0.7), (3920, 0.7), (3921, 0.7), (3922, 0.7), (3923, 0.7), (3929, 0.7), (3930, 0.7), (3931, 0.7), (3935, 0.7), (3938, 0.7), (3946, 0.7), (3947, 0.7), (3948, 0.7), (3949, 0.7), (3951, 0.7), (3958, 0.7), (3959, 0.7), (3960, 0.7), (3962, 0.7), (3963, 0.7), (3969, 0.7), (3970, 0.7), (3977, 0.7), (3978, 0.7), (3979, 0.7), (3980, 0.7), (3984, 0.7), (3989, 0.7), (3990, 0.7), (3991, 0.7), (3993, 0.7), (3995, 0.7), (3996, 0.7), (4000, 0.7), (4004, 0.7), (4007, 0.7), (4008, 0.7), (4009, 0.7), (4011, 0.7), (4014, 0.7), (4015, 0.7), (4017, 0.7), (4018, 0.7), (4019, 0.7), (4020, 0.7), (4021, 0.7), (4022, 0.7), (4024, 0.7), (4025, 0.7), (4026, 0.7), (4028, 0.7), (4029, 0.7), (4030, 0.7), (4031, 0.7), (4036, 0.7), (4041, 0.7), (4042, 0.7), (4043, 0.7), (4045, 0.7), (4047, 0.7), (4048, 0.7), (4050, 0.7), (4051, 0.7), (4053, 0.7), (4056, 0.7), (4057, 0.7), (4063, 0.7), (4064, 0.7), (4067, 0.7), (4068, 0.7), (4069, 0.7), (4071, 0.7), (4072, 0.7), (4077, 0.7), (4078, 0.7), (4081, 0.7), (4083, 0.7), (4086, 0.7), (4088, 0.7), (4089, 0.7), (4090, 0.7), (4091, 0.7), (4092, 0.7), (4095, 0.7), (4098, 0.7), (4099, 0.7), (4100, 0.7), (4102, 0.7), (4105, 0.7), (4110, 0.7), (4111, 0.7), (4114, 0.7), (4120, 0.7), (4121, 0.7), (4122, 0.7), (4123, 0.7), (4126, 0.7), (4127, 0.7), (4128, 0.7), (4132, 0.7), (4133, 0.7), (4134, 0.7), (4135, 0.7), (4136, 0.7), (4140, 0.7), (4141, 0.7), (4142, 0.7), (4143, 0.7), (4145, 0.7), (4148, 0.7), (4149, 0.7), (4150, 0.7), (4152, 0.7), (4153, 0.7), (4154, 0.7), (4155, 0.7), (4156, 0.7), (4157, 0.7), (4158, 0.7), (4159, 0.7), (4160, 0.7), (4162, 0.7), (4163, 0.7), (4167, 0.7), (4168, 0.7), (4170, 0.7), (4171, 0.7), (4172, 0.7), (4176, 0.7), (4177, 0.7), (4178, 0.7), (4179, 0.7), (4180, 0.7), (4181, 0.7), (4183, 0.7), (4184, 0.7), (4185, 0.7), (4186, 0.7), (4189, 0.7), (4190, 0.7), (4191, 0.7), (4192, 0.7), (4193, 0.7), (4194, 0.7), (4195, 0.7), (4196, 0.7), (4197, 0.7), (4198, 0.7), (4201, 0.7), (4202, 0.7), (4205, 0.7), (4206, 0.7), (4208, 0.7), (4213, 0.7), (4214, 0.7), (4217, 0.7), (4221, 0.7), (4231, 0.7), (4232, 0.7), (4233, 0.7), (4235, 0.7), (4236, 0.7), (4238, 0.7), (4240, 0.7), (4242, 0.7), (4243, 0.7), (4244, 0.7), (4245, 0.7), (4247, 0.7), (4248, 0.7), (4249, 0.7), (4254, 0.7), (4255, 0.7), (4260, 0.7), (4263, 0.7), (4264, 0.7), (4265, 0.7), (4269, 0.7), (4270, 0.7), (4274, 0.7), (4275, 0.7), (4278, 0.7), (4282, 0.7), (4283, 0.7), (4284, 0.7), (4288, 0.7), (4289, 0.7), (4290, 0.7), (4291, 0.7), (4292, 0.7), (4294, 0.7), (4304, 0.7), (4305, 0.7), (4308, 0.7), (4310, 0.7), (4311, 0.7), (4312, 0.7), (4313, 0.7), (4316, 0.7), (4317, 0.7), (4318, 0.7), (4319, 0.7), (4322, 0.7), (4323, 0.7), (4324, 0.7), (4325, 0.7), (4326, 0.7), (4327, 0.7), (4329, 0.7), (4331, 0.7), (4332, 0.7), (4337, 0.7), (4338, 0.7), (4339, 0.7), (4345, 0.7), (4349, 0.7), (4351, 0.7), (4353, 0.7), (4354, 0.7), (4355, 0.7), (4356, 0.7), (4357, 0.7), (4358, 0.7), (4359, 0.7), (4364, 0.7), (4368, 0.7), (4369, 0.7), (4370, 0.7), (4372, 0.7), (4375, 0.7), (4377, 0.7), (4381, 0.7), (4384, 0.7), (4386, 0.7), (4387, 0.7), (4393, 0.7), (4394, 0.7), (4395, 0.7), (4396, 0.7), (4397, 0.7), (4401, 0.7), (4402, 0.7), (4404, 0.7), (4406, 0.7), (4408, 0.7), (4410, 0.7), (4412, 0.7), (4413, 0.7), (4414, 0.7), (4416, 0.7), (4418, 0.7), (4420, 0.7), (4430, 0.7), (4433, 0.7), (4434, 0.7), (4435, 0.7), (4436, 0.7), (4437, 0.7), (4438, 0.7), (4439, 0.7), (4444, 0.7), (4446, 0.7), (4447, 0.7), (4448, 0.7), (4453, 0.7), (4455, 0.7), (4459, 0.7), (4462, 0.7), (4465, 0.7), (4468, 0.7), (4470, 0.7), (4471, 0.7), (4472, 0.7), (4473, 0.7), (4477, 0.7), (4478, 0.7), (4479, 0.7), (4482, 0.7), (4483, 0.7), (4485, 0.7), (4486, 0.7), (4487, 0.7), (4489, 0.7), (4490, 0.7), (4491, 0.7), (4492, 0.7), (4495, 0.7), (4496, 0.7), (4498, 0.7), (4499, 0.7), (4500, 0.7), (4501, 0.7), (4502, 0.7), (4503, 0.7), (4504, 0.7), (4505, 0.7), (4506, 0.7), (4508, 0.7), (4510, 0.7), (4511, 0.7), (4514, 0.7), (4515, 0.7), (4517, 0.7), (4519, 0.7), (4520, 0.7), (4521, 0.7), (4522, 0.7), (4523, 0.7), (4528, 0.7), (4533, 0.7), (4534, 0.7), (4535, 0.7), (4536, 0.7), (4537, 0.7), (4540, 0.7), (4541, 0.7), (4542, 0.7), (4544, 0.7), (4547, 0.7), (4552, 0.7), (4553, 0.7), (4554, 0.7), (4556, 0.7), (4559, 0.7), (4561, 0.7), (4564, 0.7), (4571, 0.7), (4572, 0.7), (4573, 0.7), (4574, 0.7), (4575, 0.7), (4576, 0.7), (4577, 0.7), (4578, 0.7), (4580, 0.7), (4584, 0.7), (4588, 0.7), (4589, 0.7), (4591, 0.7), (4592, 0.7), (4593, 0.7), (4594, 0.7), (4595, 0.7), (4596, 0.7), (4597, 0.7), (4598, 0.7), (4601, 0.7), (4606, 0.7), (4610, 0.7), (4612, 0.7), (4613, 0.7), (4615, 0.7), (4617, 0.7), (4620, 0.7), (4622, 0.7), (4627, 0.7), (4628, 0.7), (4630, 0.7), (4634, 0.7), (4637, 0.7), (4638, 0.7), (4639, 0.7), (4642, 0.7), (4645, 0.7), (4647, 0.7), (4649, 0.7), (4653, 0.7), (4655, 0.7), (4656, 0.7), (4657, 0.7), (4658, 0.7), (4659, 0.7), (4660, 0.7), (4661, 0.7), (4662, 0.7), (4666, 0.7), (4668, 0.7), (4671, 0.7), (4673, 0.7), (4675, 0.7), (4676, 0.7), (4677, 0.7), (4678, 0.7), (4684, 0.7), (4687, 0.7), (4689, 0.7), (4691, 0.7), (4692, 0.7), (4693, 0.7), (4696, 0.7), (4697, 0.7), (4698, 0.7), (4700, 0.7), (4703, 0.7), (4704, 0.7), (4707, 0.7), (4708, 0.7), (4711, 0.7), (4715, 0.7), (4716, 0.7), (4718, 0.7), (4719, 0.7), (4721, 0.7), (4723, 0.7), (4726, 0.7), (4727, 0.7), (4728, 0.7), (4730, 0.7), (4734, 0.7), (4736, 0.7), (4738, 0.7), (4739, 0.7), (4743, 0.7), (4748, 0.7), (4749, 0.7), (4753, 0.7), (4754, 0.7), (4760, 0.7), (4762, 0.7), (4765, 0.7), (4766, 0.7), (4768, 0.7), (4774, 0.7), (4775, 0.7), (4776, 0.7), (4778, 0.7), (4780, 0.7), (4781, 0.7), (4782, 0.7), (4783, 0.7), (4784, 0.7), (4785, 0.7), (4786, 0.7), (4789, 0.7), (4790, 0.7), (4791, 0.7), (4792, 0.7), (4794, 0.7), (4795, 0.7), (4796, 0.7), (4799, 0.7), (4801, 0.7), (4803, 0.7), (4804, 0.7), (4808, 0.7), (4809, 0.7), (4811, 0.7), (4812, 0.7), (4828, 0.7), (4829, 0.7), (4832, 0.7), (4834, 0.7), (4836, 0.7), (4839, 0.7), (4844, 0.7), (4845, 0.7), (4846, 0.7), (4847, 0.7), (4852, 0.7), (4854, 0.7), (4855, 0.7), (4856, 0.7), (4857, 0.7), (4858, 0.7), (4860, 0.7), (4863, 0.7), (4864, 0.7), (4870, 0.7), (4872, 0.7), (4877, 0.7), (4884, 0.7), (4885, 0.7), (4886, 0.7), (4888, 0.7), (4889, 0.7), (4891, 0.7), (4892, 0.7), (4893, 0.7), (4894, 0.7), (4896, 0.7), (4897, 0.7), (4900, 0.7), (4901, 0.7), (4902, 0.7), (4903, 0.7), (4904, 0.7), (4905, 0.7), (4907, 0.7), (4911, 0.7), (4912, 0.7), (4914, 0.7), (4915, 0.7), (4917, 0.7), (4920, 0.7), (4923, 0.7), (4928, 0.7), (4929, 0.7), (4932, 0.7), (4933, 0.7), (4934, 0.7), (4935, 0.7), (4937, 0.7), (4939, 0.7), (4940, 0.7), (4943, 0.7), (4945, 0.7), (4948, 0.7), (4950, 0.7), (4951, 0.7), (4952, 0.7), (4953, 0.7), (4954, 0.7), (4955, 0.7), (4956, 0.7), (4957, 0.7), (4958, 0.7), (4960, 0.7), (4964, 0.7), (4970, 0.7), (4972, 0.7), (4976, 0.7), (4981, 0.7), (4982, 0.7), (4983, 0.7), (4984, 0.7), (4985, 0.7), (4987, 0.7), (4992, 0.7), (4993, 0.7), (4995, 0.7), (4999, 0.7), (5000, 0.7), (5002, 0.7), (5003, 0.7), (5006, 0.7), (5009, 0.7), (5010, 0.7), (5011, 0.7), (5012, 0.7), (5014, 0.7), (5016, 0.7), (5017, 0.7), (5018, 0.7), (5019, 0.7), (5020, 0.7), (5021, 0.7), (5022, 0.7), (5023, 0.7), (5025, 0.7), (5026, 0.7), (5027, 0.7), (5028, 0.7), (5029, 0.7), (5030, 0.7), (5031, 0.7), (5032, 0.7), (5034, 0.7), (5035, 0.7), (5038, 0.7), (5040, 0.7), (5042, 0.7), (5044, 0.7), (5045, 0.7), (5047, 0.7), (5048, 0.7), (5052, 0.7), (5055, 0.7), (5060, 0.7), (5061, 0.7), (5062, 0.7), (5063, 0.7), (5065, 0.7), (5066, 0.7), (5067, 0.7), (5070, 0.7), (5072, 0.7), (5075, 0.7), (5076, 0.7), (5080, 0.7), (5086, 0.7), (5091, 0.7), (5095, 0.7), (5096, 0.7), (5097, 0.7), (5099, 0.7), (5100, 0.7), (5102, 0.7), (5103, 0.7), (5107, 0.7), (5113, 0.7), (5115, 0.7), (5118, 0.7), (5123, 0.7), (5124, 0.7), (5126, 0.7), (5129, 0.7), (5132, 0.7), (5136, 0.7), (5137, 0.7), (5138, 0.7), (5142, 0.7), (5143, 0.7), (5146, 0.7), (5147, 0.7), (5151, 0.7), (5152, 0.7), (5153, 0.7), (5155, 0.7), (5157, 0.7), (5158, 0.7), (5159, 0.7), (5160, 0.7), (5161, 0.7), (5162, 0.7), (5163, 0.7), (5164, 0.7), (5165, 0.7), (5167, 0.7), (5168, 0.7), (5174, 0.7), (5177, 0.7), (5181, 0.7), (5183, 0.7), (5184, 0.7), (5186, 0.7), (5187, 0.7), (5189, 0.7), (5191, 0.7), (5200, 0.7), (5205, 0.7), (5209, 0.7), (5213, 0.7), (5219, 0.7), (5221, 0.7), (5222, 0.7), (5225, 0.7), (5226, 0.7), (5232, 0.7), (5233, 0.7), (5235, 0.7), (5236, 0.7), (5242, 0.7), (5247, 0.7), (5248, 0.7), (5250, 0.7), (5253, 0.7), (5255, 0.7), (5256, 0.7), (5257, 0.7), (5258, 0.7), (5259, 0.7), (5260, 0.7), (5264, 0.7), (5266, 0.7), (5267, 0.7), (5273, 0.7), (5276, 0.7), (5277, 0.7), (5278, 0.7), (5280, 0.7), (5282, 0.7), (5286, 0.7), (5287, 0.7), (5288, 0.7), (5290, 0.7), (5291, 0.7), (5304, 0.7), (5305, 0.7), (5306, 0.7), (5307, 0.7), (5308, 0.7), (5310, 0.7), (5311, 0.7), (5313, 0.7), (5314, 0.7), (5315, 0.7), (5322, 0.7), (5323, 0.7), (5324, 0.7), (5328, 0.7), (5330, 0.7), (5331, 0.7), (5333, 0.7), (5334, 0.7), (5335, 0.7), (5336, 0.7), (5339, 0.7), (5340, 0.7), (5341, 0.7), (5342, 0.7), (5346, 0.7), (5347, 0.7), (5350, 0.7), (5351, 0.7), (5352, 0.7), (5354, 0.7), (5355, 0.7), (5356, 0.7), (5359, 0.7), (5360, 0.7), (5361, 0.7), (5362, 0.7), (5363, 0.7), (5364, 0.7), (5366, 0.7), (5372, 0.7), (5374, 0.7), (5376, 0.7), (5378, 0.7), (5382, 0.7), (5383, 0.7), (5384, 0.7), (5386, 0.7), (5387, 0.7), (5392, 0.7), (5393, 0.7), (5394, 0.7), (5395, 0.7), (5397, 0.7), (5398, 0.7), (5402, 0.7), (5406, 0.7), (5409, 0.7), (5410, 0.7), (5411, 0.7), (5414, 0.7), (5415, 0.7), (5416, 0.7), (5420, 0.7), (5423, 0.7), (5424, 0.7), (5426, 0.7), (5427, 0.7), (5428, 0.7), (5429, 0.7), (5440, 0.7), (5441, 0.7), (5444, 0.7), (5446, 0.7), (5447, 0.7), (5449, 0.7), (5450, 0.7), (5451, 0.7), (5452, 0.7), (5454, 0.7), (5455, 0.7), (5456, 0.7), (5458, 0.7), (5462, 0.7), (5466, 0.7), (5467, 0.7), (5468, 0.7), (5479, 0.7), (5481, 0.7), (5483, 0.7), (5484, 0.7), (5487, 0.7), (5488, 0.7), (5489, 0.7), (5491, 0.7), (5492, 0.7), (5495, 0.7), (5498, 0.7), (5499, 0.7), (5501, 0.7), (5502, 0.7), (5504, 0.7), (5509, 0.7), (5511, 0.7), (5512, 0.7), (5513, 0.7), (5515, 0.7), (5516, 0.7), (5517, 0.7), (5518, 0.7), (5520, 0.7), (5521, 0.7), (5523, 0.7), (5524, 0.7), (5525, 0.7), (5528, 0.7), (5529, 0.7), (5531, 0.7), (5532, 0.7), (5533, 0.7), (5535, 0.7), (5536, 0.7), (5537, 0.7), (5538, 0.7), (5539, 0.7), (5540, 0.7), (5544, 0.7), (5547, 0.7), (5548, 0.7), (5549, 0.7), (5550, 0.7), (5551, 0.7), (5557, 0.7), (5560, 0.7), (5561, 0.7), (5566, 0.7), (5569, 0.7), (5571, 0.7), (5576, 0.7), (5579, 0.7), (5581, 0.7), (5583, 0.7), (5584, 0.7), (5589, 0.7), (5591, 0.7), (5592, 0.7), (5593, 0.7), (5594, 0.7), (5597, 0.7), (5600, 0.7), (5601, 0.7), (5603, 0.7), (5604, 0.7), (5605, 0.7), (5606, 0.7), (5607, 0.7), (5609, 0.7), (5612, 0.7), (5613, 0.7), (5615, 0.7), (5616, 0.7), (5620, 0.7), (5622, 0.7), (5625, 0.7), (5627, 0.7), (5628, 0.7), (5629, 0.7), (5633, 0.7), (5634, 0.7), (5637, 0.7), (5639, 0.7), (5641, 0.7), (5643, 0.7), (5644, 0.7), (5646, 0.7), (5651, 0.7), (5652, 0.7), (5658, 0.7), (5661, 0.7), (5664, 0.7), (5665, 0.7), (5666, 0.7), (5668, 0.7), (5669, 0.7), (5670, 0.7), (5671, 0.7), (5673, 0.7), (5674, 0.7), (5675, 0.7), (5676, 0.7), (5677, 0.7), (5679, 0.7), (5680, 0.7), (5682, 0.7), (5686, 0.7), (5689, 0.7), (5694, 0.7), (5698, 0.7), (5703, 0.7), (5705, 0.7), (5706, 0.7), (5708, 0.7), (5710, 0.7), (5712, 0.7), (5713, 0.7), (5717, 0.7), (5722, 0.7), (5723, 0.7), (5725, 0.7), (5726, 0.7), (5728, 0.7), (5745, 0.7), (5748, 0.7), (5750, 0.7), (5774, 0.7), (5776, 0.7), (5780, 0.7), (5781, 0.7), (5785, 0.7), (5812, 0.7), (5822, 0.7), (5823, 0.7), (5826, 0.7), (5836, 0.7), (5853, 0.7), (5861, 0.7), (5869, 0.7), (5892, 0.7), (5918, 0.7), (5934, 0.7), (5949, 0.7), (5961, 0.7), (5963, 0.7), (5988, 0.7), (6002, 0.7), (6005, 0.7), (6008, 0.7), (6014, 0.7), (6015, 0.7), (6020, 0.7), (6045, 0.7), (6075, 0.7), (6076, 0.7), (6086, 0.7), (6100, 0.7), (6103, 0.7), (6105, 0.7), (6107, 0.7), (6109, 0.7), (6117, 0.7), (6118, 0.7), (6122, 0.7), (6123, 0.7), (6125, 0.7), (6127, 0.7), (6190, 0.7), (6192, 0.7), (6205, 0.7), (6206, 0.7), (6214, 0.7), (6228, 0.7), (6244, 0.7), (6253, 0.7), (6266, 0.7), (6272, 0.7), (6278, 0.7), (6283, 0.7), (6293, 0.7), (6312, 0.7), (6327, 0.7), (6347, 0.7), (6352, 0.7), (6362, 0.7), (6373, 0.7), (6384, 0.7), (6403, 0.7), (6414, 0.7), (6415, 0.7), (6416, 0.7), (6426, 0.7), (6427, 0.7), (6430, 0.7), (6431, 0.7), (6450, 0.7), (6457, 0.7), (6473, 0.7), (6479, 0.7), (6482, 0.7), (6490, 0.7), (6511, 0.7), (6516, 0.7), (6539, 0.7), (6540, 0.7), (6542, 0.7), (6559, 0.7), (6561, 0.7), (6567, 0.7), (6577, 0.7), (6580, 0.7), (6581, 0.7), (6586, 0.7), (6587, 0.7), (6589, 0.7), (6591, 0.7), (6611, 0.7), (6620, 0.7), (6621, 0.7), (6639, 0.7), (6647, 0.7), (6664, 0.7), (6703, 0.7), (6704, 0.7), (6712, 0.7), (6737, 0.7), (6751, 0.7), (6769, 0.7), (6789, 0.7), (6791, 0.7), (6808, 0.7), (6816, 0.7), (6817, 0.7), (6824, 0.7), (6832, 0.7), (6841, 0.7), (6852, 0.7), (6853, 0.7), (6855, 0.7), (6856, 0.7), (6860, 0.7), (6883, 0.7), (6884, 0.7), (6888, 0.7), (6894, 0.7), (6904, 0.7), (6921, 0.7), (6923, 0.7), (6932, 0.7), (6933, 0.7), (6941, 0.7), (6944, 0.7), (6959, 0.7), (6969, 0.7), (6981, 0.7), (6984, 0.7), (6995, 0.7), (7006, 0.7), (7012, 0.7), (7014, 0.7), (7023, 0.7), (7039, 0.7), (7040, 0.7), (7044, 0.7), (7061, 0.7), (7063, 0.7), (7067, 0.7), (7080, 0.7), (7081, 0.7), (7087, 0.7), (7092, 0.7), (7095, 0.7), (7103, 0.7), (7107, 0.7), (7125, 0.7), (7150, 0.7), (7157, 0.7), (7178, 0.7), (7180, 0.7), (7182, 0.7), (7183, 0.7), (7189, 0.7), (7190, 0.7), (7193, 0.7), (7197, 0.7), (7209, 0.7), (7211, 0.7), (7214, 0.7), (7222, 0.7), (7244, 0.7), (7250, 0.7), (7259, 0.7), (7264, 0.7), (7269, 0.7), (7273, 0.7), (7292, 0.7), (7301, 0.7), (7302, 0.7), (7303, 0.7), (7309, 0.7), (7325, 0.7), (7326, 0.7), (7359, 0.7), (7404, 0.7), (7408, 0.7), (7414, 0.7), (7434, 0.7), (7469, 0.7), (7486, 0.7), (7487, 0.7), (7490, 0.7), (7513, 0.7), (7525, 0.7), (7526, 0.7), (7530, 0.7), (7571, 0.7), (7572, 0.7), (7590, 0.7), (7591, 0.7), (7609, 0.7), (7630, 0.7), (7634, 0.7), (7635, 0.7), (7642, 0.7), (7650, 0.7), (7651, 0.7), (7677, 0.7), (7678, 0.7), (7679, 0.7), (7692, 0.7), (7707, 0.7), (7729, 0.7), (7741, 0.7), (7774, 0.7), (7779, 0.7), (7792, 0.7), (7797, 0.7), (7810, 0.7), (7823, 0.7), (7826, 0.7), (7827, 0.7), (7828, 0.7), (7829, 0.7), (7830, 0.7), (7837, 0.7), (7838, 0.7), (7839, 0.7), (7840, 0.7), (7841, 0.7), (7849, 0.7), (7850, 0.7), (7854, 0.7), (7884, 0.7), (7887, 0.7), (7888, 0.7), (7889, 0.7), (7890, 0.7), (7915, 0.7), (7916, 0.7), (7925, 0.7), (7931, 0.7), (7933, 0.7), (7946, 0.7), (7955, 0.7), (7960, 0.7), (7965, 0.7), (7967, 0.7), (7979, 0.7), (7993, 0.7), (7995, 0.7), (7996, 0.7), (7999, 0.7), (8004, 0.7), (8008, 0.7), (8011, 0.7), (8014, 0.7), (8017, 0.7), (8029, 0.7), (8034, 0.7), (8040, 0.7), (8049, 0.7), (8051, 0.7), (8078, 0.7), (8085, 0.7), (8086, 0.7), (8087, 0.7), (8090, 0.7), (8091, 0.7), (8098, 0.7), (8100, 0.7), (8101, 0.7), (8102, 0.7), (8103, 0.7), (8104, 0.7), (8112, 0.7), (8125, 0.7), (8136, 0.7), (8146, 0.7), (8155, 0.7), (8159, 0.7), (8160, 0.7), (8170, 0.7), (8177, 0.7), (8178, 0.7), (8186, 0.7), (8188, 0.7), (8195, 0.7), (8198, 0.7), (8199, 0.7), (8200, 0.7), (8206, 0.7), (8207, 0.7), (8208, 0.7), (8209, 0.7), (8210, 0.7), (8211, 0.7), (8217, 0.7), (8232, 0.7), (8233, 0.7), (8234, 0.7), (8235, 0.7), (8236, 0.7), (8237, 0.7), (8251, 0.7), (8252, 0.7), (8253, 0.7), (8254, 0.7), (8255, 0.7), (8256, 0.7), (8257, 0.7), (8280, 0.7), (8345, 0.7), (8349, 0.7), (8363, 0.7), (8366, 0.7), (8367, 0.7), (8368, 0.7), (8369, 0.7), (8373, 0.7), (8374, 0.7), (8375, 0.7), (8376, 0.7), (8407, 0.7), (8408, 0.7), (8412, 0.7), (8413, 0.7), (8414, 0.7), (8415, 0.7), (8416, 0.7), (8417, 0.7), (8432, 0.7), (8433, 0.7), (8434, 0.7), (8443, 0.7), (8450, 0.7), (8456, 0.7), (8457, 0.7), (8458, 0.7), (8459, 0.7), (8460, 0.7), (8465, 0.7), (8466, 0.7), (8467, 0.7), (8473, 0.7), (8475, 0.7), (8476, 0.7), (8478, 0.7), (8479, 0.7), (8481, 0.7), (8486, 0.7), (8487, 0.7), (8490, 0.7), (8492, 0.7), (8493, 0.7), (8494, 0.7), (8510, 0.7), (8512, 0.7), (8516, 0.7), (8519, 0.7), (8522, 0.7), (8529, 0.7), (8530, 0.7), (8536, 0.7), (8538, 0.7), (8556, 0.7), (8563, 0.7), (8564, 0.7), (8568, 0.7), (8579, 0.7), (8580, 0.7), (8583, 0.7), (8588, 0.7), (8589, 0.7), (8596, 0.7), (8600, 0.7), (8604, 0.7), (8606, 0.7), (8608, 0.7), (8609, 0.7), (8610, 0.7), (8611, 0.7), (8612, 0.7), (8614, 0.7), (8642, 0.7), (8646, 0.7), (8649, 0.7), (8654, 0.7), (8662, 0.7), (8664, 0.7), (8665, 0.7), (8672, 0.7), (8674, 0.7), (8675, 0.7), (8676, 0.7), (8684, 0.7), (8686, 0.7), (8690, 0.7), (8691, 0.7), (8692, 0.7), (8693, 0.7), (8694, 0.7), (8700, 0.7), (8701, 0.7), (8706, 0.7), (8708, 0.7), (8725, 0.7), (8726, 0.7), (8751, 0.7), (8755, 0.7), (8759, 0.7), (8760, 0.7), (8761, 0.7), (8762, 0.7), (8763, 0.7), (8764, 0.7), (8765, 0.7), (8766, 0.7), (8767, 0.7), (8768, 0.7), (8769, 0.7), (8771, 0.7), (8773, 0.7), (8778, 0.7), (8780, 0.7), (8790, 0.7), (8793, 0.7), (8796, 0.7), (8797, 0.7), (8799, 0.7), (8800, 0.7), (8801, 0.7), (8805, 0.7), (8817, 0.7), (8820, 0.7), (8823, 0.7), (8824, 0.7), (8825, 0.7), (8826, 0.7), (8832, 0.7), (8833, 0.7), (8835, 0.7), (8849, 0.7), (8853, 0.7), (8854, 0.7), (8855, 0.7), (8856, 0.7), (8859, 0.7), (8861, 0.7), (8863, 0.7), (8872, 0.7), (8889, 0.7), (8903, 0.7), (8904, 0.7), (8911, 0.7), (8912, 0.7), (8913, 0.7), (8915, 0.7), (8920, 0.7), (8927, 0.7), (8928, 0.7), (8932, 0.7), (8934, 0.7), (8937, 0.7), (8938, 0.7), (8941, 0.7), (8942, 0.7), (8953, 0.7), (8954, 0.7), (8966, 0.7), (8970, 0.7), (8974, 0.7), (8975, 0.7), (8978, 0.7), (8980, 0.7), (8987, 0.7), (8988, 0.7), (8989, 0.7), (8990, 0.7), (8993, 0.7), (8994, 0.7), (8995, 0.7), (8997, 0.7), (8998, 0.7), (8999, 0.7), (9000, 0.7), (9013, 0.7), (9015, 0.7), (9016, 0.7), (9019, 0.7), (9020, 0.7), (9021, 0.7), (9043, 0.7), (9053, 0.7), (9057, 0.7), (9058, 0.7), (9061, 0.7), (9072, 0.7), (9074, 0.7), (9078, 0.7), (9081, 0.7), (9084, 0.7), (9092, 0.7), (9107, 0.7), (9109, 0.7), (9119, 0.7), (9120, 0.7), (9129, 0.7), (9140, 0.7), (9156, 0.7), (9157, 0.7), (9165, 0.7), (9167, 0.7), (9169, 0.7), (9171, 0.7), (9173, 0.7), (9185, 0.7), (9189, 0.7), (9193, 0.7), (9194, 0.7), (9195, 0.7), (9199, 0.7), (9205, 0.7), (9206, 0.7), (9207, 0.7), (9208, 0.7), (9209, 0.7), (9216, 0.7), (9224, 0.7), (9229, 0.7), (9234, 0.7), (9235, 0.7), (9237, 0.7), (9238, 0.7), (9242, 0.7), (9256, 0.7), (9272, 0.7), (9274, 0.7), (9279, 0.7), (9280, 0.7), (9281, 0.7), (9282, 0.7), (9288, 0.7), (9290, 0.7), (9291, 0.7), (9292, 0.7), (9293, 0.7), (9294, 0.7), (9296, 0.7), (9297, 0.7), (9298, 0.7), (9299, 0.7), (9300, 0.7), (9301, 0.7), (9305, 0.7), (9306, 0.7), (9308, 0.7), (9309, 0.7), (9310, 0.7), (9314, 0.7), (9328, 0.7), (9329, 0.7), (9331, 0.7), (9334, 0.7), (9335, 0.7), (9337, 0.7), (9345, 0.7), (9358, 0.7), (9360, 0.7), (9362, 0.7), (9367, 0.7), (9373, 0.7), (9374, 0.7), (9375, 0.7), (9378, 0.7), (9380, 0.7), (9388, 0.7), (9394, 0.7), (9395, 0.7), (9398, 0.7), (9403, 0.7), (9404, 0.7), (9409, 0.7), (9410, 0.7), (9412, 0.7), (9418, 0.7), (9428, 0.7), (9429, 0.7), (9430, 0.7), (9431, 0.7), (9445, 0.7), (9446, 0.7), (9460, 0.7), (9461, 0.7), (9491, 0.7), (9492, 0.7), (9498, 0.7), (9506, 0.7), (9507, 0.7), (9509, 0.7), (9511, 0.7), (9514, 0.7), (9515, 0.7), (9518, 0.7), (9519, 0.7), (9525, 0.7), (9526, 0.7), (9527, 0.7), (9530, 0.7), (9536, 0.7), (9537, 0.7), (9538, 0.7), (9539, 0.7), (9540, 0.7), (9541, 0.7), (9544, 0.7), (9557, 0.7), (9572, 0.7), (9586, 0.7), (9589, 0.7), (9603, 0.7), (9606, 0.7), (9607, 0.7), (9608, 0.7), (9610, 0.7), (9614, 0.7), (9619, 0.7), (9621, 0.7), (9622, 0.7), (9624, 0.7), (9625, 0.7), (9628, 0.7), (9641, 0.7), (9643, 0.7), (9644, 0.7), (9646, 0.7), (9649, 0.7), (9650, 0.7), (9651, 0.7), (9652, 0.7), (9653, 0.7), (9655, 0.7), (9656, 0.7), (9657, 0.7), (9659, 0.7), (9660, 0.7), (9661, 0.7), (9668, 0.7), (9674, 0.7), (9676, 0.7), (9679, 0.7), (9686, 0.7), (9687, 0.7), (9688, 0.7), (9689, 0.7), (9690, 0.7), (9691, 0.7), (9693, 0.7), (9694, 0.7), (9700, 0.7), (9702, 0.7), (9703, 0.7), (9710, 0.7), (9711, 0.7), (9712, 0.7), (9724, 0.7), (9727, 0.7), (9728, 0.7), (9737, 0.7), (9740, 0.7), (9745, 0.7), (9749, 0.7), (9750, 0.7), (9760, 0.7), (9764, 0.7), (9765, 0.7), (9768, 0.7), (9769, 0.7), (9777, 0.7), (9780, 0.7), (9783, 0.7), (9785, 0.7), (9786, 0.7), (9787, 0.7), (9788, 0.7), (9789, 0.7), (9790, 0.7), (9791, 0.7), (9792, 0.7), (9794, 0.7), (9796, 0.7), (9798, 0.7), (9799, 0.7), (9800, 0.7), (9816, 0.7), (9822, 0.7), (9824, 0.7), (9828, 0.7), (9832, 0.7), (9838, 0.7), (9839, 0.7), (9840, 0.7), (9841, 0.7), (9842, 0.7), (9843, 0.7), (9844, 0.7), (9845, 0.7), (9850, 0.7), (9851, 0.7), (9855, 0.7), (9856, 0.7), (9857, 0.7), (9860, 0.7), (9863, 0.7), (9864, 0.7), (9868, 0.7), (9869, 0.7), (9870, 0.7), (9872, 0.7), (9881, 0.7), (9883, 0.7), (9894, 0.7), (9897, 0.7), (9898, 0.7), (9899, 0.7), (9905, 0.7), (9912, 0.7), (9920, 0.7), (9921, 0.7), (9922, 0.7), (9931, 0.7), (9933, 0.7), (9955, 0.7), (9956, 0.7), (9957, 0.7), (9958, 0.7), (9965, 0.7), (9967, 0.7), (9968, 0.7), (9972, 0.7), (9973, 0.7), (9974, 0.7), (9975, 0.7), (9978, 0.7), (9989, 0.7), (9994, 0.7), (9998, 0.7), (10003, 0.7), (10006, 0.7), (10009, 0.7), (10010, 0.7), (10024, 0.7), (10025, 0.7), (10026, 0.7), (10035, 0.7), (10037, 0.7), (10038, 0.7), (10039, 0.7), (10047, 0.7), (10053, 0.7), (10054, 0.7), (10055, 0.7), (10056, 0.7), (10057, 0.7), (10060, 0.7), (10061, 0.7), (10062, 0.7), (10063, 0.7), (10066, 0.7), (10067, 0.7), (10068, 0.7), (10069, 0.7), (10070, 0.7), (10072, 0.7), (10082, 0.7), (10088, 0.7), (10089, 0.7), (10093, 0.7), (10102, 0.7), (10113, 0.7), (10114, 0.7), (10115, 0.7), (10116, 0.7), (10117, 0.7), (10118, 0.7), (10120, 0.7), (10121, 0.7), (10122, 0.7), (10123, 0.7), (10124, 0.7), (10131, 0.7), (10132, 0.7), (10133, 0.7), (10137, 0.7), (10151, 0.7), (10152, 0.7), (10153, 0.7), (10159, 0.7), (10171, 0.7), (10172, 0.7), (10181, 0.7), (10183, 0.7), (10184, 0.7), (10185, 0.7), (10186, 0.7), (10187, 0.7), (10188, 0.7), (10190, 0.7), (10198, 0.7), (10199, 0.7), (10200, 0.7), (10201, 0.7), (10202, 0.7), (10203, 0.7), (10205, 0.7), (10207, 0.7), (10208, 0.7), (10211, 0.7), (10212, 0.7), (10214, 0.7), (10215, 0.7), (10216, 0.7), (10220, 0.7), (10223, 0.7), (10225, 0.7), (10226, 0.7), (10228, 0.7), (10229, 0.7), (10231, 0.7), (10232, 0.7), (10238, 0.7), (10242, 0.7), (10243, 0.7), (10244, 0.7), (10245, 0.7), (10247, 0.7), (10251, 0.7), (10253, 0.7), (10258, 0.7), (10260, 0.7), (10266, 0.7), (10268, 0.7), (10269, 0.7), (10272, 0.7), (10277, 0.7), (10284, 0.7), (10285, 0.7), (10286, 0.7), (10287, 0.7), (10288, 0.7), (10292, 0.7), (10295, 0.7), (10296, 0.7), (10331, 0.7), (10338, 0.7), (10340, 0.7), (10341, 0.7), (10345, 0.7), (10346, 0.7), (10350, 0.7), (10352, 0.7), (10367, 0.7), (10368, 0.7), (10374, 0.7), (10376, 0.7), (10382, 0.7), (10384, 0.7), (10385, 0.7), (10389, 0.7), (10394, 0.7), (10395, 0.7), (10396, 0.7), (10402, 0.7), (10405, 0.7), (10411, 0.7), (10415, 0.7), (10416, 0.7), (10417, 0.7), (10419, 0.7), (10422, 0.7), (10424, 0.7), (10428, 0.7), (10437, 0.7), (10439, 0.7), (10440, 0.7), (10442, 0.7), (10455, 0.7), (10459, 0.7), (10461, 0.7), (10470, 0.7), (10480, 0.7), (10482, 0.7), (10486, 0.7), (10498, 0.7), (10500, 0.7), (10501, 0.7), (10503, 0.7), (10514, 0.7), (10515, 0.7), (10530, 0.7), (10539, 0.7), (10541, 0.7), (10542, 0.7), (10547, 0.7), (10557, 0.7), (10562, 0.7), (10565, 0.7), (10566, 0.7), (10567, 0.7), (10569, 0.7), (10584, 0.7), (10585, 0.7), (10596, 0.7), (10614, 0.7), (10618, 0.7), (10620, 0.7), (10624, 0.7), (10630, 0.7), (10635, 0.7), (10638, 0.7), (10639, 0.7), (10641, 0.7), (10647, 0.7), (10653, 0.7), (10654, 0.7), (10656, 0.7), (10658, 0.7), (10669, 0.7), (10670, 0.7), (10671, 0.7), (10674, 0.7), (10692, 0.7), (10694, 0.7), (10695, 0.7), (10696, 0.7), (10697, 0.7), (10702, 0.7), (10703, 0.7), (10710, 0.7), (10719, 0.7), (10728, 0.7), (10738, 0.7), (10739, 0.7), (10742, 0.7), (10748, 0.7), (10757, 0.7), (10758, 0.7), (10759, 0.7), (10760, 0.7), (10761, 0.7), (10762, 0.7), (10763, 0.7), (10764, 0.7), (10765, 0.7), (10767, 0.7), (10768, 0.7), (10769, 0.7), (10770, 0.7), (10771, 0.7), (10773, 0.7), (10774, 0.7), (10787, 0.7), (10788, 0.7), (10792, 0.7), (10793, 0.7), (10804, 0.7), (10809, 0.7), (10816, 0.7), (10827, 0.7), (10830, 0.7), (10843, 0.7), (10844, 0.7), (10845, 0.7), (10846, 0.7), (10854, 0.7), (10855, 0.7), (10856, 0.7), (10859, 0.7), (10867, 0.7), (10871, 0.7), (10872, 0.7), (10873, 0.7), (10874, 0.7), (10883, 0.7), (10886, 0.7), (10888, 0.7), (10889, 0.7), (10890, 0.7), (10891, 0.7), (10893, 0.7), (10895, 0.7), (10899, 0.7), (10900, 0.7), (10902, 0.7), (10903, 0.7), (10909, 0.7), (10914, 0.7), (10915, 0.7), (10919, 0.7), (10924, 0.7), (10925, 0.7), (10926, 0.7), (10938, 0.7), (10939, 0.7), (10940, 0.7), (10943, 0.7), (10945, 0.7), (10954, 0.7), (10975, 0.7), (10976, 0.7), (10977, 0.7), (10984, 0.7), (10992, 0.7), (10993, 0.7), (10995, 0.7), (10996, 0.7), (11005, 0.7), (11016, 0.7), (11017, 0.7), (11026, 0.7), (11027, 0.7), (11028, 0.7), (11029, 0.7), (11031, 0.7), (11034, 0.7), (11038, 0.7), (11048, 0.7), (11056, 0.7), (11058, 0.7), (11068, 0.7), (11069, 0.7), (11070, 0.7), (11072, 0.7), (11073, 0.7), (11085, 0.7), (11091, 0.7), (11095, 0.7), (11098, 0.7), (11102, 0.7), (11104, 0.7), (11105, 0.7), (11110, 0.7), (11128, 0.7), (11129, 0.7), (11131, 0.7), (11134, 0.7), (11135, 0.7), (11137, 0.7), (11138, 0.7), (11139, 0.7), (11140, 0.7), (11141, 0.7), (11142, 0.7), (11143, 0.7), (11157, 0.7), (11161, 0.7), (11170, 0.7), (11180, 0.7), (11191, 0.7), (11210, 0.7), (11216, 0.7), (11220, 0.7), (11222, 0.7), (11223, 0.7), (11224, 0.7), (11225, 0.7), (11230, 0.7), (11243, 0.7), (11247, 0.7), (11249, 0.7), (11252, 0.7), (11254, 0.7), (11255, 0.7), (11258, 0.7), (11261, 0.7), (11262, 0.7), (11263, 0.7), (11264, 0.7), (11265, 0.7), (11277, 0.7), (11278, 0.7), (11285, 0.7), (11286, 0.7), (11287, 0.7), (11290, 0.7), (11300, 0.7), (11306, 0.7), (11309, 0.7), (11311, 0.7), (11314, 0.7), (11321, 0.7), (11325, 0.7), (11327, 0.7), (11331, 0.7), (11334, 0.7), (11342, 0.7), (11345, 0.7), (11350, 0.7), (11351, 0.7), (11355, 0.7), (11368, 0.7), (11369, 0.7), (11370, 0.7), (11375, 0.7), (11380, 0.7), (11387, 0.7), (11394, 0.7), (11395, 0.7), (11396, 0.7), (11397, 0.7), (11401, 0.7), (11403, 0.7), (11414, 0.7), (11440, 0.7), (11447, 0.7), (11449, 0.7), (11451, 0.7), (11453, 0.7), (11466, 0.7), (11472, 0.7), (11473, 0.7), (11474, 0.7), (11476, 0.7), (11482, 0.7), (11485, 0.7), (11492, 0.7), (11504, 0.7), (11505, 0.7), (11511, 0.7), (11513, 0.7), (11514, 0.7), (11515, 0.7), (11516, 0.7), (11520, 0.7), (11523, 0.7), (11527, 0.7), (11528, 0.7), (11529, 0.7), (11541, 0.7), (11547, 0.7), (11548, 0.7), (11550, 0.7), (11551, 0.7), (11552, 0.7), (11558, 0.7), (11560, 0.7), (11570, 0.7), (11575, 0.7), (11577, 0.7), (11587, 0.7), (11588, 0.7), (11590, 0.7), (11596, 0.7), (11601, 0.7), (11603, 0.7), (11609, 0.7), (11610, 0.7), (11623, 0.7), (11625, 0.7), (11627, 0.7), (11628, 0.7), (11633, 0.7), (11645, 0.7), (11647, 0.7), (11650, 0.7), (11658, 0.7), (11659, 0.7), (11660, 0.7), (11661, 0.7), (11666, 0.7), (11669, 0.7), (11694, 0.7), (11695, 0.7), (11699, 0.7), (11707, 0.7), (11708, 0.7), (11711, 0.7), (11722, 0.7), (11728, 0.7), (11729, 0.7), (11745, 0.7), (11746, 0.7), (11749, 0.7), (11760, 0.7), (11762, 0.7), (11763, 0.7), (11764, 0.7), (11765, 0.7), (11766, 0.7), (11768, 0.7), (11772, 0.7), (11773, 0.7), (11780, 0.7), (11803, 0.7), (11818, 0.7), (11820, 0.7), (11824, 0.7), (11836, 0.7), (11841, 0.7), (11857, 0.7), (11859, 0.7), (11871, 0.7), (11872, 0.7), (11876, 0.7), (11877, 0.7), (11878, 0.7), (11884, 0.7), (11891, 0.7), (11892, 0.7), (11893, 0.7), (11895, 0.7), (11896, 0.7), (11897, 0.7), (11898, 0.7), (11899, 0.7), (11900, 0.7), (11901, 0.7), (11902, 0.7), (11903, 0.7), (11904, 0.7), (11905, 0.7), (11906, 0.7), (11907, 0.7), (11908, 0.7), (11909, 0.7), (11910, 0.7), (11911, 0.7), (11912, 0.7), (11914, 0.7), (11915, 0.7), (11916, 0.7), (11917, 0.7), (11918, 0.7), (11919, 0.7), (11920, 0.7), (11921, 0.7), (11922, 0.7), (11923, 0.7), (11924, 0.7), (11925, 0.7), (11926, 0.7), (11927, 0.7), (11928, 0.7), (11929, 0.7), (11930, 0.7), (11931, 0.7), (11932, 0.7), (11938, 0.7), (11944, 0.7), (11947, 0.7), (11950, 0.7), (11954, 0.7), (11961, 0.7), (11963, 0.7), (11972, 0.7), (11974, 0.7), (11985, 0.7), (11998, 0.7), (12006, 0.7), (12024, 0.7), (12030, 0.7), (12036, 0.7), (12044, 0.7), (12056, 0.7), (12060, 0.7), (12067, 0.7), (12068, 0.7), (12072, 0.7), (12079, 0.7), (12082, 0.7), (12083, 0.7), (12087, 0.7), (12093, 0.7), (12099, 0.7), (12118, 0.7), (12122, 0.7), (12150, 0.7), (12155, 0.7), (12157, 0.7), (12161, 0.7), (12166, 0.7), (12176, 0.7), (12179, 0.7), (12184, 0.7), (12186, 0.7), (12188, 0.7), (12194, 0.7), (12221, 0.7), (12222, 0.7), (12226, 0.7), (12227, 0.7), (12230, 0.7), (12231, 0.7), (12232, 0.7), (12233, 0.7), (12242, 0.7), (12244, 0.7), (12260, 0.7), (12262, 0.7), (12263, 0.7), (12265, 0.7), (12269, 0.7), (12270, 0.7), (12274, 0.7), (12282, 0.7), (12301, 0.7), (12305, 0.7), (12307, 0.7), (12308, 0.7), (12312, 0.7), (12315, 0.7), (12317, 0.7), (12321, 0.7), (12322, 0.7), (12323, 0.7), (12329, 0.7), (12332, 0.7), (12335, 0.7), (12337, 0.7), (12340, 0.7), (12347, 0.7), (12350, 0.7), (12352, 0.7), (12353, 0.7), (12358, 0.7), (12359, 0.7), (12361, 0.7), (12367, 0.7), (12376, 0.7), (12380, 0.7), (12383, 0.7), (12384, 0.7), (12385, 0.7), (12386, 0.7), (12388, 0.7), (12389, 0.7), (12390, 0.7), (12391, 0.7), (12392, 0.7), (12393, 0.7), (12397, 0.7), (12405, 0.7), (12406, 0.7), (12410, 0.7), (12411, 0.7), (12412, 0.7), (12413, 0.7), (12415, 0.7), (12428, 0.7), (12432, 0.7), (12436, 0.7), (12439, 0.7), (12440, 0.7), (12442, 0.7), (12444, 0.7), (12446, 0.7), (12447, 0.7), (12448, 0.7), (12449, 0.7), (12452, 0.7), (12456, 0.7), (12458, 0.7), (12460, 0.7), (12472, 0.7), (12473, 0.7), (12474, 0.7), (12475, 0.7), (12476, 0.7), (12478, 0.7), (12479, 0.7), (12480, 0.7), (12484, 0.7), (12490, 0.7), (12497, 0.7), (12498, 0.7), (12500, 0.7), (12502, 0.7), (12503, 0.7), (12504, 0.7), (12508, 0.7), (12509, 0.7), (12512, 0.7), (12513, 0.7), (12516, 0.7), (12517, 0.7), (12524, 0.7), (12525, 0.7), (12526, 0.7), (12527, 0.7), (12528, 0.7), (12529, 0.7), (12530, 0.7), (12532, 0.7), (12533, 0.7), (12534, 0.7), (12535, 0.7), (12536, 0.7), (12538, 0.7), (12539, 0.7), (12540, 0.7), (12541, 0.7), (12542, 0.7), (12546, 0.7), (12552, 0.7), (12553, 0.7), (12556, 0.7), (12558, 0.7), (12559, 0.7), (12560, 0.7), (12561, 0.7), (12563, 0.7), (12564, 0.7), (12565, 0.7), (12567, 0.7), (12568, 0.7), (12570, 0.7), (12571, 0.7), (12572, 0.7), (12573, 0.7), (12575, 0.7), (12577, 0.7), (12578, 0.7), (12579, 0.7), (12581, 0.7), (12582, 0.7), (12584, 0.7), (12586, 0.7), (12588, 0.7), (12600, 0.7), (12607, 0.7), (12608, 0.7), (12610, 0.7), (12611, 0.7), (12616, 0.7), (12618, 0.7), (12620, 0.7), (12623, 0.7), (12624, 0.7), (12625, 0.7), (12626, 0.7), (12628, 0.7), (12629, 0.7), (12630, 0.7), (12631, 0.7), (12632, 0.7), (12636, 0.7), (12638, 0.7), (12640, 0.7), (12641, 0.7), (12642, 0.7), (12643, 0.7), (12649, 0.7), (12650, 0.7), (12651, 0.7), (12653, 0.7), (12656, 0.7), (12659, 0.7), (12660, 0.7), (12662, 0.7), (12667, 0.7), (12668, 0.7), (12669, 0.7), (12671, 0.7), (12672, 0.7), (12673, 0.7), (12674, 0.7), (12675, 0.7), (12676, 0.7), (12678, 0.7), (12679, 0.7), (12681, 0.7), (12682, 0.7), (12685, 0.7), (12691, 0.7), (12693, 0.7), (12695, 0.7), (12696, 0.7), (12697, 0.7), (12700, 0.7), (12702, 0.7), (12703, 0.7), (12704, 0.7), (12705, 0.7), (12706, 0.7), (12707, 0.7), (12709, 0.7), (12711, 0.7), (12712, 0.7), (12716, 0.7), (12722, 0.7), (12724, 0.7), (12725, 0.7), (12727, 0.7), (12728, 0.7), (12729, 0.7), (12732, 0.7), (12733, 0.7), (12736, 0.7), (12739, 0.7), (12740, 0.7), (12741, 0.7), (12743, 0.7), (12744, 0.7), (12745, 0.7), (12747, 0.7), (12748, 0.7), (12749, 0.7), (12750, 0.7), (12753, 0.7), (12756, 0.7), (12760, 0.7), (12762, 0.7), (12767, 0.7), (12768, 0.7), (12769, 0.7), (12770, 0.7), (12771, 0.7), (12772, 0.7), (12774, 0.7), (12776, 0.7), (12780, 0.7), (12781, 0.7), (12782, 0.7), (12783, 0.7), (12784, 0.7), (12786, 0.7), (12788, 0.7), (12792, 0.7), (12794, 0.7), (12795, 0.7), (12799, 0.7), (12802, 0.7), (12805, 0.7), (12806, 0.7), (12809, 0.7), (12814, 0.7), (12815, 0.7), (12817, 0.7), (12820, 0.7), (12825, 0.7), (12829, 0.7), (12830, 0.7), (12831, 0.7), (12834, 0.7), (12835, 0.7), (12836, 0.7), (12837, 0.7), (12840, 0.7), (12843, 0.7), (12846, 0.7), (12848, 0.7), (12853, 0.7), (12857, 0.7), (12861, 0.7), (12862, 0.7), (12864, 0.7), (12869, 0.7), (12871, 0.7), (12875, 0.7), (12878, 0.7), (12885, 0.7), (12886, 0.7), (12887, 0.7), (12888, 0.7), (12892, 0.7), (12894, 0.7), (12895, 0.7), (12896, 0.7), (12900, 0.7), (12901, 0.7), (12909, 0.7), (12912, 0.7), (12915, 0.7), (12917, 0.7), (12918, 0.7), (12919, 0.7), (12922, 0.7), (12925, 0.7), (12927, 0.7), (12929, 0.7), (12938, 0.7), (12939, 0.7), (12941, 0.7), (12950, 0.7), (12952, 0.7), (12953, 0.7), (12954, 0.7), (12955, 0.7), (12956, 0.7), (12957, 0.7), (12960, 0.7), (12963, 0.7), (12965, 0.7), (12966, 0.7), (12972, 0.7), (12973, 0.7), (12976, 0.7), (12978, 0.7), (12979, 0.7), (12980, 0.7), (12981, 0.7), (12982, 0.7), (12989, 0.7), (989, 0.6674238124719147), (1049, 0.6674238124719147), (1471, 0.6674238124719147), (1472, 0.6674238124719147), (2142, 0.6674238124719147), (2770, 0.6674238124719147), (2793, 0.6674238124719147), (2921, 0.6674238124719147), (2999, 0.6674238124719147), (3662, 0.6674238124719147), (3705, 0.6674238124719147), (3997, 0.6674238124719147), (4497, 0.6674238124719147), (4545, 0.6674238124719147), (5089, 0.6674238124719147), (5131, 0.6674238124719147), (5448, 0.6674238124719147), (5749, 0.6674238124719147), (5782, 0.6674238124719147), (5795, 0.6674238124719147), (5818, 0.6674238124719147), (5834, 0.6674238124719147), (5844, 0.6674238124719147), (5920, 0.6674238124719147), (5924, 0.6674238124719147), (5977, 0.6674238124719147), (5990, 0.6674238124719147), (6003, 0.6674238124719147), (6024, 0.6674238124719147), (6047, 0.6674238124719147), (6106, 0.6674238124719147), (6126, 0.6674238124719147), (6129, 0.6674238124719147), (6177, 0.6674238124719147), (6189, 0.6674238124719147), (6245, 0.6674238124719147), (6277, 0.6674238124719147), (6295, 0.6674238124719147), (6325, 0.6674238124719147), (6344, 0.6674238124719147), (6363, 0.6674238124719147), (6429, 0.6674238124719147), (6458, 0.6674238124719147), (6461, 0.6674238124719147), (6492, 0.6674238124719147), (6515, 0.6674238124719147), (6556, 0.6674238124719147), (6574, 0.6674238124719147), (6576, 0.6674238124719147), (6632, 0.6674238124719147), (6708, 0.6674238124719147), (6718, 0.6674238124719147), (6760, 0.6674238124719147), (6761, 0.6674238124719147), (6831, 0.6674238124719147), (6900, 0.6674238124719147), (6951, 0.6674238124719147), (6968, 0.6674238124719147), (6979, 0.6674238124719147), (6989, 0.6674238124719147), (7001, 0.6674238124719147), (7073, 0.6674238124719147), (7098, 0.6674238124719147), (7104, 0.6674238124719147), (7108, 0.6674238124719147), (7120, 0.6674238124719147), (7164, 0.6674238124719147), (7165, 0.6674238124719147), (7208, 0.6674238124719147), (7212, 0.6674238124719147), (7262, 0.6674238124719147), (7328, 0.6674238124719147), (7330, 0.6674238124719147), (7420, 0.6674238124719147), (7431, 0.6674238124719147), (7448, 0.6674238124719147), (7450, 0.6674238124719147), (7501, 0.6674238124719147), (7601, 0.6674238124719147), (7706, 0.6674238124719147), (7708, 0.6674238124719147), (7731, 0.6674238124719147), (7822, 0.6674238124719147), (7833, 0.6674238124719147), (7835, 0.6674238124719147), (7836, 0.6674238124719147), (7842, 0.6674238124719147), (7843, 0.6674238124719147), (7844, 0.6674238124719147), (7894, 0.6674238124719147), (7961, 0.6674238124719147), (7962, 0.6674238124719147), (7981, 0.6674238124719147), (7982, 0.6674238124719147), (7983, 0.6674238124719147), (8016, 0.6674238124719147), (8041, 0.6674238124719147), (8080, 0.6674238124719147), (8088, 0.6674238124719147), (8089, 0.6674238124719147), (8092, 0.6674238124719147), (8096, 0.6674238124719147), (8106, 0.6674238124719147), (8169, 0.6674238124719147), (8194, 0.6674238124719147), (8222, 0.6674238124719147), (8348, 0.6674238124719147), (8424, 0.6674238124719147), (8463, 0.6674238124719147), (8464, 0.6674238124719147), (8470, 0.6674238124719147), (8480, 0.6674238124719147), (8545, 0.6674238124719147), (8552, 0.6674238124719147), (8554, 0.6674238124719147), (8574, 0.6674238124719147), (8584, 0.6674238124719147), (8591, 0.6674238124719147), (8602, 0.6674238124719147), (8603, 0.6674238124719147), (8629, 0.6674238124719147), (8645, 0.6674238124719147), (8677, 0.6674238124719147), (8721, 0.6674238124719147), (8757, 0.6674238124719147), (8777, 0.6674238124719147), (8779, 0.6674238124719147), (8785, 0.6674238124719147), (8791, 0.6674238124719147), (8834, 0.6674238124719147), (8888, 0.6674238124719147), (8924, 0.6674238124719147), (8933, 0.6674238124719147), (8961, 0.6674238124719147), (8963, 0.6674238124719147), (8981, 0.6674238124719147), (8982, 0.6674238124719147), (9012, 0.6674238124719147), (9014, 0.6674238124719147), (9031, 0.6674238124719147), (9033, 0.6674238124719147), (9034, 0.6674238124719147), (9037, 0.6674238124719147), (9038, 0.6674238124719147), (9042, 0.6674238124719147), (9045, 0.6674238124719147), (9046, 0.6674238124719147), (9047, 0.6674238124719147), (9048, 0.6674238124719147), (9049, 0.6674238124719147), (9050, 0.6674238124719147), (9077, 0.6674238124719147), (9083, 0.6674238124719147), (9125, 0.6674238124719147), (9131, 0.6674238124719147), (9137, 0.6674238124719147), (9197, 0.6674238124719147), (9204, 0.6674238124719147), (9213, 0.6674238124719147), (9223, 0.6674238124719147), (9228, 0.6674238124719147), (9259, 0.6674238124719147), (9273, 0.6674238124719147), (9286, 0.6674238124719147), (9287, 0.6674238124719147), (9289, 0.6674238124719147), (9302, 0.6674238124719147), (9303, 0.6674238124719147), (9304, 0.6674238124719147), (9307, 0.6674238124719147), (9311, 0.6674238124719147), (9327, 0.6674238124719147), (9383, 0.6674238124719147), (9384, 0.6674238124719147), (9385, 0.6674238124719147), (9417, 0.6674238124719147), (9455, 0.6674238124719147), (9517, 0.6674238124719147), (9545, 0.6674238124719147), (9569, 0.6674238124719147), (9595, 0.6674238124719147), (9658, 0.6674238124719147), (9698, 0.6674238124719147), (9706, 0.6674238124719147), (9717, 0.6674238124719147), (9738, 0.6674238124719147), (9784, 0.6674238124719147), (9805, 0.6674238124719147), (9821, 0.6674238124719147), (9827, 0.6674238124719147), (9831, 0.6674238124719147), (9837, 0.6674238124719147), (9846, 0.6674238124719147), (9847, 0.6674238124719147), (9849, 0.6674238124719147), (9854, 0.6674238124719147), (9858, 0.6674238124719147), (9859, 0.6674238124719147), (9861, 0.6674238124719147), (9865, 0.6674238124719147), (9913, 0.6674238124719147), (9923, 0.6674238124719147), (9942, 0.6674238124719147), (9971, 0.6674238124719147), (9986, 0.6674238124719147), (9987, 0.6674238124719147), (9988, 0.6674238124719147), (9999, 0.6674238124719147), (10022, 0.6674238124719147), (10034, 0.6674238124719147), (10036, 0.6674238124719147), (10048, 0.6674238124719147), (10071, 0.6674238124719147), (10154, 0.6674238124719147), (10155, 0.6674238124719147), (10156, 0.6674238124719147), (10197, 0.6674238124719147), (10227, 0.6674238124719147), (10264, 0.6674238124719147), (10265, 0.6674238124719147), (10278, 0.6674238124719147), (10283, 0.6674238124719147), (10344, 0.6674238124719147), (10403, 0.6674238124719147), (10438, 0.6674238124719147), (10454, 0.6674238124719147), (10467, 0.6674238124719147), (10483, 0.6674238124719147), (10484, 0.6674238124719147), (10497, 0.6674238124719147), (10502, 0.6674238124719147), (10506, 0.6674238124719147), (10517, 0.6674238124719147), (10545, 0.6674238124719147), (10555, 0.6674238124719147), (10556, 0.6674238124719147), (10600, 0.6674238124719147), (10608, 0.6674238124719147), (10609, 0.6674238124719147), (10625, 0.6674238124719147), (10678, 0.6674238124719147), (10712, 0.6674238124719147), (10727, 0.6674238124719147), (10749, 0.6674238124719147), (10755, 0.6674238124719147), (10772, 0.6674238124719147), (10775, 0.6674238124719147), (10786, 0.6674238124719147), (10805, 0.6674238124719147), (10833, 0.6674238124719147), (10835, 0.6674238124719147), (10857, 0.6674238124719147), (10865, 0.6674238124719147), (10901, 0.6674238124719147), (10934, 0.6674238124719147), (10937, 0.6674238124719147), (10941, 0.6674238124719147), (10972, 0.6674238124719147), (10990, 0.6674238124719147), (10997, 0.6674238124719147), (11001, 0.6674238124719147), (11003, 0.6674238124719147), (11004, 0.6674238124719147), (11015, 0.6674238124719147), (11040, 0.6674238124719147), (11075, 0.6674238124719147), (11081, 0.6674238124719147), (11082, 0.6674238124719147), (11090, 0.6674238124719147), (11124, 0.6674238124719147), (11159, 0.6674238124719147), (11166, 0.6674238124719147), (11181, 0.6674238124719147), (11182, 0.6674238124719147), (11184, 0.6674238124719147), (11186, 0.6674238124719147), (11253, 0.6674238124719147), (11259, 0.6674238124719147), (11283, 0.6674238124719147), (11301, 0.6674238124719147), (11303, 0.6674238124719147), (11318, 0.6674238124719147), (11319, 0.6674238124719147), (11326, 0.6674238124719147), (11367, 0.6674238124719147), (11378, 0.6674238124719147), (11422, 0.6674238124719147), (11423, 0.6674238124719147), (11469, 0.6674238124719147), (11470, 0.6674238124719147), (11487, 0.6674238124719147), (11488, 0.6674238124719147), (11521, 0.6674238124719147), (11553, 0.6674238124719147), (11554, 0.6674238124719147), (11559, 0.6674238124719147), (11571, 0.6674238124719147), (11696, 0.6674238124719147), (11727, 0.6674238124719147), (11761, 0.6674238124719147), (11770, 0.6674238124719147), (11776, 0.6674238124719147), (11807, 0.6674238124719147), (11808, 0.6674238124719147), (11812, 0.6674238124719147), (11813, 0.6674238124719147), (11821, 0.6674238124719147), (11831, 0.6674238124719147), (11852, 0.6674238124719147), (11894, 0.6674238124719147), (11913, 0.6674238124719147), (11933, 0.6674238124719147), (11935, 0.6674238124719147), (12045, 0.6674238124719147), (12047, 0.6674238124719147), (12102, 0.6674238124719147), (12144, 0.6674238124719147), (12145, 0.6674238124719147), (12146, 0.6674238124719147), (12169, 0.6674238124719147), (12185, 0.6674238124719147), (12193, 0.6674238124719147), (12224, 0.6674238124719147), (12272, 0.6674238124719147), (12278, 0.6674238124719147), (12304, 0.6674238124719147), (12306, 0.6674238124719147), (12313, 0.6674238124719147), (12314, 0.6674238124719147), (12319, 0.6674238124719147), (12320, 0.6674238124719147), (12325, 0.6674238124719147), (12327, 0.6674238124719147), (12334, 0.6674238124719147), (12339, 0.6674238124719147), (12344, 0.6674238124719147), (12346, 0.6674238124719147), (12348, 0.6674238124719147), (12349, 0.6674238124719147), (12351, 0.6674238124719147), (12354, 0.6674238124719147), (12355, 0.6674238124719147), (12356, 0.6674238124719147), (12363, 0.6674238124719147), (12377, 0.6674238124719147), (12378, 0.6674238124719147), (12394, 0.6674238124719147), (12401, 0.6674238124719147), (12407, 0.6674238124719147), (12416, 0.6674238124719147), (12419, 0.6674238124719147), (12422, 0.6674238124719147), (12424, 0.6674238124719147), (12425, 0.6674238124719147), (12427, 0.6674238124719147), (12433, 0.6674238124719147), (12434, 0.6674238124719147), (12437, 0.6674238124719147), (12443, 0.6674238124719147), (12454, 0.6674238124719147), (12455, 0.6674238124719147), (12457, 0.6674238124719147), (12461, 0.6674238124719147), (12462, 0.6674238124719147), (12464, 0.6674238124719147), (12481, 0.6674238124719147), (12482, 0.6674238124719147), (12483, 0.6674238124719147), (12485, 0.6674238124719147), (12486, 0.6674238124719147), (12487, 0.6674238124719147), (12488, 0.6674238124719147), (12489, 0.6674238124719147), (12491, 0.6674238124719147), (12492, 0.6674238124719147), (12493, 0.6674238124719147), (12505, 0.6674238124719147), (12507, 0.6674238124719147), (12510, 0.6674238124719147), (12511, 0.6674238124719147), (12522, 0.6674238124719147), (12531, 0.6674238124719147), (12544, 0.6674238124719147), (12545, 0.6674238124719147), (12555, 0.6674238124719147), (12557, 0.6674238124719147), (12576, 0.6674238124719147), (12585, 0.6674238124719147), (12587, 0.6674238124719147), (12617, 0.6674238124719147), (12619, 0.6674238124719147), (12627, 0.6674238124719147), (12633, 0.6674238124719147), (12634, 0.6674238124719147), (12635, 0.6674238124719147), (12637, 0.6674238124719147), (12639, 0.6674238124719147), (12648, 0.6674238124719147), (12655, 0.6674238124719147), (12661, 0.6674238124719147), (12677, 0.6674238124719147), (12686, 0.6674238124719147), (12713, 0.6674238124719147), (12714, 0.6674238124719147), (12715, 0.6674238124719147), (12719, 0.6674238124719147), (12726, 0.6674238124719147), (12731, 0.6674238124719147), (12737, 0.6674238124719147), (12752, 0.6674238124719147), (12755, 0.6674238124719147), (12766, 0.6674238124719147), (12773, 0.6674238124719147), (12777, 0.6674238124719147), (12778, 0.6674238124719147), (12779, 0.6674238124719147), (12787, 0.6674238124719147), (12789, 0.6674238124719147), (12791, 0.6674238124719147), (12803, 0.6674238124719147), (12824, 0.6674238124719147), (12828, 0.6674238124719147), (12833, 0.6674238124719147), (12838, 0.6674238124719147), (12839, 0.6674238124719147), (12849, 0.6674238124719147), (12863, 0.6674238124719147), (12876, 0.6674238124719147), (12913, 0.6674238124719147), (12920, 0.6674238124719147), (12921, 0.6674238124719147), (12944, 0.6674238124719147), (12951, 0.6674238124719147), (12958, 0.6674238124719147), (12977, 0.6674238124719147), (12988, 0.6674238124719147), (6176, 0.6390096504226939), (6438, 0.6390096504226939), (8045, 0.6390096504226939), (8472, 0.6390096504226939), (8581, 0.6390096504226939), (8613, 0.6390096504226939), (9318, 0.6390096504226939), (9381, 0.6390096504226939), (9949, 0.6390096504226939), (10027, 0.6390096504226939), (10125, 0.6390096504226939), (11122, 0.6390096504226939), (11510, 0.6390096504226939), (11834, 0.6390096504226939), (12178, 0.6390096504226939), (12309, 0.6390096504226939), (12318, 0.6390096504226939), (12357, 0.6390096504226939), (12438, 0.6390096504226939), (12463, 0.6390096504226939), (12589, 0.6390096504226939), (12614, 0.6390096504226939), (12692, 0.6390096504226939), (12720, 0.6390096504226939), (12751, 0.6390096504226939), (12775, 0.6390096504226939), (12798, 0.6390096504226939), (12801, 0.6390096504226939), (12804, 0.6390096504226939), (12807, 0.6390096504226939), (12808, 0.6390096504226939), (12818, 0.6390096504226939), (12826, 0.6390096504226939), (12844, 0.6390096504226939), (7963, 0.6139406135149206), (7980, 0.6139406135149206), (8250, 0.6139406135149206), (8469, 0.6139406135149206), (8590, 0.6139406135149206), (9035, 0.6139406135149206), (9036, 0.6139406135149206), (9654, 0.6139406135149206), (10021, 0.6139406135149206), (11012, 0.6139406135149206), (11371, 0.6139406135149206), (11962, 0.6139406135149206), (12328, 0.6139406135149206), (12343, 0.6139406135149206), (12400, 0.6139406135149206), (12409, 0.6139406135149206), (12421, 0.6139406135149206), (12431, 0.6139406135149206), (12435, 0.6139406135149206), (12521, 0.6139406135149206), (12765, 0.6139406135149206), (12873, 0.6139406135149206), (7, 0.6), (9, 0.6), (10, 0.6), (15, 0.6), (26, 0.6), (27, 0.6), (28, 0.6), (41, 0.6), (42, 0.6), (93, 0.6), (116, 0.6), (119, 0.6), (127, 0.6), (148, 0.6), (160, 0.6), (223, 0.6), (244, 0.6), (245, 0.6), (249, 0.6), (257, 0.6), (267, 0.6), (282, 0.6), (314, 0.6), (339, 0.6), (426, 0.6), (430, 0.6), (447, 0.6), (451, 0.6), (454, 0.6), (472, 0.6), (474, 0.6), (476, 0.6), (517, 0.6), (532, 0.6), (544, 0.6), (588, 0.6), (626, 0.6), (638, 0.6), (640, 0.6), (645, 0.6), (668, 0.6), (669, 0.6), (670, 0.6), (698, 0.6), (707, 0.6), (739, 0.6), (764, 0.6), (776, 0.6), (814, 0.6), (836, 0.6), (864, 0.6), (893, 0.6), (913, 0.6), (922, 0.6), (926, 0.6), (936, 0.6), (972, 0.6), (979, 0.6), (997, 0.6), (1001, 0.6), (1027, 0.6), (1084, 0.6), (1095, 0.6), (1099, 0.6), (1107, 0.6), (1129, 0.6), (1139, 0.6), (1140, 0.6), (1142, 0.6), (1157, 0.6), (1176, 0.6), (1192, 0.6), (1215, 0.6), (1240, 0.6), (1261, 0.6), (1312, 0.6), (1328, 0.6), (1350, 0.6), (1368, 0.6), (1413, 0.6), (1419, 0.6), (1420, 0.6), (1421, 0.6), (1428, 0.6), (1430, 0.6), (1433, 0.6), (1473, 0.6), (1474, 0.6), (1482, 0.6), (1509, 0.6), (1532, 0.6), (1543, 0.6), (1548, 0.6), (1553, 0.6), (1555, 0.6), (1557, 0.6), (1558, 0.6), (1575, 0.6), (1616, 0.6), (1624, 0.6), (1633, 0.6), (1637, 0.6), (1662, 0.6), (1666, 0.6), (1758, 0.6), (1786, 0.6), (1795, 0.6), (1796, 0.6), (1820, 0.6), (1837, 0.6), (1848, 0.6), (1850, 0.6), (1863, 0.6), (1879, 0.6), (1888, 0.6), (1889, 0.6), (1911, 0.6), (1912, 0.6), (1920, 0.6), (1926, 0.6), (1944, 0.6), (1957, 0.6), (1974, 0.6), (1983, 0.6), (1986, 0.6), (1996, 0.6), (2008, 0.6), (2034, 0.6), (2037, 0.6), (2038, 0.6), (2050, 0.6), (2077, 0.6), (2112, 0.6), (2124, 0.6), (2125, 0.6), (2127, 0.6), (2133, 0.6), (2138, 0.6), (2140, 0.6), (2144, 0.6), (2160, 0.6), (2170, 0.6), (2216, 0.6), (2217, 0.6), (2220, 0.6), (2241, 0.6), (2244, 0.6), (2274, 0.6), (2288, 0.6), (2293, 0.6), (2310, 0.6), (2320, 0.6), (2322, 0.6), (2332, 0.6), (2348, 0.6), (2407, 0.6), (2431, 0.6), (2433, 0.6), (2485, 0.6), (2540, 0.6), (2563, 0.6), (2567, 0.6), (2568, 0.6), (2569, 0.6), (2575, 0.6), (2579, 0.6), (2621, 0.6), (2623, 0.6), (2639, 0.6), (2646, 0.6), (2648, 0.6), (2696, 0.6), (2698, 0.6), (2756, 0.6), (2764, 0.6), (2776, 0.6), (2797, 0.6), (2799, 0.6), (2817, 0.6), (2894, 0.6), (2895, 0.6), (2901, 0.6), (2929, 0.6), (3014, 0.6), (3078, 0.6), (3080, 0.6), (3088, 0.6), (3123, 0.6), (3135, 0.6), (3136, 0.6), (3139, 0.6), (3171, 0.6), (3185, 0.6), (3186, 0.6), (3204, 0.6), (3212, 0.6), (3233, 0.6), (3234, 0.6), (3240, 0.6), (3244, 0.6), (3289, 0.6), (3311, 0.6), (3329, 0.6), (3346, 0.6), (3369, 0.6), (3376, 0.6), (3391, 0.6), (3399, 0.6), (3402, 0.6), (3403, 0.6), (3473, 0.6), (3504, 0.6), (3506, 0.6), (3537, 0.6), (3548, 0.6), (3580, 0.6), (3670, 0.6), (3679, 0.6), (3696, 0.6), (3721, 0.6), (3724, 0.6), (3728, 0.6), (3738, 0.6), (3757, 0.6), (3758, 0.6), (3775, 0.6), (3777, 0.6), (3780, 0.6), (3856, 0.6), (3857, 0.6), (3858, 0.6), (3862, 0.6), (3865, 0.6), (3875, 0.6), (3877, 0.6), (3881, 0.6), (3898, 0.6), (3914, 0.6), (3928, 0.6), (3971, 0.6), (3976, 0.6), (3985, 0.6), (3992, 0.6), (4001, 0.6), (4037, 0.6), (4038, 0.6), (4052, 0.6), (4058, 0.6), (4059, 0.6), (4104, 0.6), (4112, 0.6), (4125, 0.6), (4131, 0.6), (4144, 0.6), (4175, 0.6), (4204, 0.6), (4212, 0.6), (4219, 0.6), (4226, 0.6), (4227, 0.6), (4241, 0.6), (4286, 0.6), (4342, 0.6), (4347, 0.6), (4365, 0.6), (4373, 0.6), (4390, 0.6), (4427, 0.6), (4429, 0.6), (4469, 0.6), (4525, 0.6), (4532, 0.6), (4557, 0.6), (4558, 0.6), (4565, 0.6), (4583, 0.6), (4599, 0.6), (4616, 0.6), (4618, 0.6), (4623, 0.6), (4632, 0.6), (4633, 0.6), (4654, 0.6), (4669, 0.6), (4682, 0.6), (4683, 0.6), (4690, 0.6), (4722, 0.6), (4779, 0.6), (4806, 0.6), (4810, 0.6), (4813, 0.6), (4815, 0.6), (4819, 0.6), (4823, 0.6), (4878, 0.6), (4887, 0.6), (4899, 0.6), (4910, 0.6), (4918, 0.6), (4925, 0.6), (4926, 0.6), (4938, 0.6), (4973, 0.6), (4977, 0.6), (4978, 0.6), (4979, 0.6), (5005, 0.6), (5039, 0.6), (5058, 0.6), (5077, 0.6), (5078, 0.6), (5079, 0.6), (5088, 0.6), (5108, 0.6), (5112, 0.6), (5117, 0.6), (5121, 0.6), (5122, 0.6), (5127, 0.6), (5128, 0.6), (5130, 0.6), (5134, 0.6), (5141, 0.6), (5180, 0.6), (5223, 0.6), (5234, 0.6), (5243, 0.6), (5261, 0.6), (5268, 0.6), (5271, 0.6), (5289, 0.6), (5302, 0.6), (5319, 0.6), (5329, 0.6), (5357, 0.6), (5375, 0.6), (5391, 0.6), (5432, 0.6), (5434, 0.6), (5461, 0.6), (5463, 0.6), (5469, 0.6), (5478, 0.6), (5486, 0.6), (5505, 0.6), (5506, 0.6), (5543, 0.6), (5553, 0.6), (5565, 0.6), (5568, 0.6), (5578, 0.6), (5586, 0.6), (5657, 0.6), (5684, 0.6), (5687, 0.6), (5696, 0.6), (5701, 0.6), (5751, 0.6), (5753, 0.6), (5754, 0.6), (5755, 0.6), (5756, 0.6), (5757, 0.6), (5759, 0.6), (5760, 0.6), (5763, 0.6), (5764, 0.6), (5765, 0.6), (5766, 0.6), (5768, 0.6), (5770, 0.6), (5773, 0.6), (5777, 0.6), (5778, 0.6), (5779, 0.6), (5783, 0.6), (5784, 0.6), (5787, 0.6), (5788, 0.6), (5790, 0.6), (5791, 0.6), (5792, 0.6), (5793, 0.6), (5794, 0.6), (5798, 0.6), (5799, 0.6), (5800, 0.6), (5801, 0.6), (5802, 0.6), (5804, 0.6), (5805, 0.6), (5806, 0.6), (5807, 0.6), (5808, 0.6), (5809, 0.6), (5810, 0.6), (5811, 0.6), (5813, 0.6), (5814, 0.6), (5815, 0.6), (5819, 0.6), (5820, 0.6), (5821, 0.6), (5824, 0.6), (5825, 0.6), (5827, 0.6), (5828, 0.6), (5829, 0.6), (5832, 0.6), (5833, 0.6), (5837, 0.6), (5838, 0.6), (5839, 0.6), (5842, 0.6), (5845, 0.6), (5846, 0.6), (5849, 0.6), (5850, 0.6), (5854, 0.6), (5855, 0.6), (5856, 0.6), (5859, 0.6), (5860, 0.6), (5864, 0.6), (5865, 0.6), (5867, 0.6), (5868, 0.6), (5870, 0.6), (5871, 0.6), (5872, 0.6), (5873, 0.6), (5874, 0.6), (5875, 0.6), (5876, 0.6), (5877, 0.6), (5878, 0.6), (5879, 0.6), (5880, 0.6), (5881, 0.6), (5882, 0.6), (5883, 0.6), (5887, 0.6), (5890, 0.6), (5891, 0.6), (5893, 0.6), (5894, 0.6), (5895, 0.6), (5897, 0.6), (5899, 0.6), (5901, 0.6), (5902, 0.6), (5904, 0.6), (5906, 0.6), (5907, 0.6), (5908, 0.6), (5910, 0.6), (5911, 0.6), (5913, 0.6), (5917, 0.6), (5921, 0.6), (5923, 0.6), (5926, 0.6), (5927, 0.6), (5928, 0.6), (5929, 0.6), (5930, 0.6), (5931, 0.6), (5932, 0.6), (5933, 0.6), (5936, 0.6), (5937, 0.6), (5938, 0.6), (5939, 0.6), (5942, 0.6), (5943, 0.6), (5945, 0.6), (5946, 0.6), (5947, 0.6), (5948, 0.6), (5952, 0.6), (5953, 0.6), (5955, 0.6), (5956, 0.6), (5957, 0.6), (5958, 0.6), (5960, 0.6), (5962, 0.6), (5964, 0.6), (5966, 0.6), (5967, 0.6), (5968, 0.6), (5969, 0.6), (5971, 0.6), (5972, 0.6), (5973, 0.6), (5974, 0.6), (5980, 0.6), (5981, 0.6), (5982, 0.6), (5983, 0.6), (5985, 0.6), (5987, 0.6), (5989, 0.6), (5991, 0.6), (5994, 0.6), (5996, 0.6), (5997, 0.6), (5998, 0.6), (6001, 0.6), (6004, 0.6), (6006, 0.6), (6009, 0.6), (6010, 0.6), (6011, 0.6), (6012, 0.6), (6016, 0.6), (6017, 0.6), (6018, 0.6), (6019, 0.6), (6022, 0.6), (6023, 0.6), (6026, 0.6), (6027, 0.6), (6028, 0.6), (6029, 0.6), (6030, 0.6), (6032, 0.6), (6033, 0.6), (6034, 0.6), (6035, 0.6), (6037, 0.6), (6038, 0.6), (6040, 0.6), (6041, 0.6), (6042, 0.6), (6043, 0.6), (6044, 0.6), (6046, 0.6), (6048, 0.6), (6052, 0.6), (6053, 0.6), (6054, 0.6), (6055, 0.6), (6057, 0.6), (6058, 0.6), (6059, 0.6), (6060, 0.6), (6062, 0.6), (6063, 0.6), (6064, 0.6), (6065, 0.6), (6067, 0.6), (6070, 0.6), (6074, 0.6), (6077, 0.6), (6079, 0.6), (6081, 0.6), (6082, 0.6), (6083, 0.6), (6084, 0.6), (6085, 0.6), (6087, 0.6), (6088, 0.6), (6089, 0.6), (6090, 0.6), (6092, 0.6), (6094, 0.6), (6095, 0.6), (6097, 0.6), (6098, 0.6), (6099, 0.6), (6104, 0.6), (6108, 0.6), (6110, 0.6), (6111, 0.6), (6112, 0.6), (6113, 0.6), (6116, 0.6), (6119, 0.6), (6120, 0.6), (6124, 0.6), (6128, 0.6), (6131, 0.6), (6135, 0.6), (6137, 0.6), (6138, 0.6), (6139, 0.6), (6141, 0.6), (6143, 0.6), (6144, 0.6), (6147, 0.6), (6148, 0.6), (6149, 0.6), (6150, 0.6), (6151, 0.6), (6152, 0.6), (6153, 0.6), (6154, 0.6), (6155, 0.6), (6156, 0.6), (6158, 0.6), (6159, 0.6), (6160, 0.6), (6161, 0.6), (6166, 0.6), (6167, 0.6), (6169, 0.6), (6170, 0.6), (6173, 0.6), (6175, 0.6), (6178, 0.6), (6179, 0.6), (6180, 0.6), (6181, 0.6), (6182, 0.6), (6184, 0.6), (6186, 0.6), (6188, 0.6), (6193, 0.6), (6194, 0.6), (6196, 0.6), (6197, 0.6), (6198, 0.6), (6199, 0.6), (6200, 0.6), (6202, 0.6), (6203, 0.6), (6204, 0.6), (6207, 0.6), (6209, 0.6), (6211, 0.6), (6212, 0.6), (6213, 0.6), (6218, 0.6), (6220, 0.6), (6221, 0.6), (6222, 0.6), (6224, 0.6), (6225, 0.6), (6226, 0.6), (6229, 0.6), (6230, 0.6), (6231, 0.6), (6232, 0.6), (6233, 0.6), (6235, 0.6), (6237, 0.6), (6240, 0.6), (6241, 0.6), (6248, 0.6), (6249, 0.6), (6252, 0.6), (6254, 0.6), (6257, 0.6), (6258, 0.6), (6260, 0.6), (6261, 0.6), (6262, 0.6), (6263, 0.6), (6264, 0.6), (6269, 0.6), (6270, 0.6), (6273, 0.6), (6274, 0.6), (6275, 0.6), (6276, 0.6), (6279, 0.6), (6280, 0.6), (6281, 0.6), (6282, 0.6), (6284, 0.6), (6285, 0.6), (6287, 0.6), (6288, 0.6), (6289, 0.6), (6290, 0.6), (6291, 0.6), (6292, 0.6), (6294, 0.6), (6297, 0.6), (6298, 0.6), (6301, 0.6), (6304, 0.6), (6307, 0.6), (6308, 0.6), (6310, 0.6), (6311, 0.6), (6313, 0.6), (6315, 0.6), (6316, 0.6), (6320, 0.6), (6321, 0.6), (6322, 0.6), (6330, 0.6), (6331, 0.6), (6333, 0.6), (6334, 0.6), (6336, 0.6), (6337, 0.6), (6338, 0.6), (6339, 0.6), (6341, 0.6), (6342, 0.6), (6343, 0.6), (6345, 0.6), (6350, 0.6), (6351, 0.6), (6354, 0.6), (6355, 0.6), (6356, 0.6), (6360, 0.6), (6364, 0.6), (6365, 0.6), (6367, 0.6), (6368, 0.6), (6370, 0.6), (6371, 0.6), (6372, 0.6), (6374, 0.6), (6377, 0.6), (6378, 0.6), (6379, 0.6), (6380, 0.6), (6382, 0.6), (6383, 0.6), (6385, 0.6), (6386, 0.6), (6389, 0.6), (6391, 0.6), (6392, 0.6), (6393, 0.6), (6394, 0.6), (6395, 0.6), (6396, 0.6), (6397, 0.6), (6399, 0.6), (6401, 0.6), (6404, 0.6), (6405, 0.6), (6407, 0.6), (6409, 0.6), (6411, 0.6), (6412, 0.6), (6417, 0.6), (6418, 0.6), (6419, 0.6), (6420, 0.6), (6421, 0.6), (6432, 0.6), (6433, 0.6), (6434, 0.6), (6435, 0.6), (6436, 0.6), (6440, 0.6), (6441, 0.6), (6442, 0.6), (6445, 0.6), (6446, 0.6), (6447, 0.6), (6448, 0.6), (6449, 0.6), (6451, 0.6), (6452, 0.6), (6454, 0.6), (6455, 0.6), (6459, 0.6), (6462, 0.6), (6463, 0.6), (6467, 0.6), (6468, 0.6), (6469, 0.6), (6470, 0.6), (6471, 0.6), (6472, 0.6), (6476, 0.6), (6477, 0.6), (6478, 0.6), (6480, 0.6), (6483, 0.6), (6485, 0.6), (6487, 0.6), (6489, 0.6), (6493, 0.6), (6494, 0.6), (6495, 0.6), (6496, 0.6), (6497, 0.6), (6499, 0.6), (6500, 0.6), (6501, 0.6), (6502, 0.6), (6503, 0.6), (6504, 0.6), (6509, 0.6), (6510, 0.6), (6512, 0.6), (6514, 0.6), (6517, 0.6), (6518, 0.6), (6520, 0.6), (6521, 0.6), (6522, 0.6), (6523, 0.6), (6524, 0.6), (6526, 0.6), (6527, 0.6), (6530, 0.6), (6531, 0.6), (6532, 0.6), (6534, 0.6), (6535, 0.6), (6541, 0.6), (6543, 0.6), (6545, 0.6), (6546, 0.6), (6547, 0.6), (6548, 0.6), (6549, 0.6), (6550, 0.6), (6551, 0.6), (6552, 0.6), (6553, 0.6), (6554, 0.6), (6555, 0.6), (6558, 0.6), (6560, 0.6), (6562, 0.6), (6563, 0.6), (6564, 0.6), (6565, 0.6), (6573, 0.6), (6578, 0.6), (6579, 0.6), (6585, 0.6), (6588, 0.6), (6592, 0.6), (6594, 0.6), (6595, 0.6), (6596, 0.6), (6598, 0.6), (6600, 0.6), (6602, 0.6), (6603, 0.6), (6606, 0.6), (6607, 0.6), (6608, 0.6), (6610, 0.6), (6613, 0.6), (6614, 0.6), (6615, 0.6), (6616, 0.6), (6617, 0.6), (6619, 0.6), (6622, 0.6), (6623, 0.6), (6624, 0.6), (6625, 0.6), (6634, 0.6), (6635, 0.6), (6636, 0.6), (6637, 0.6), (6638, 0.6), (6640, 0.6), (6642, 0.6), (6643, 0.6), (6644, 0.6), (6645, 0.6), (6646, 0.6), (6648, 0.6), (6652, 0.6), (6653, 0.6), (6654, 0.6), (6655, 0.6), (6656, 0.6), (6657, 0.6), (6658, 0.6), (6659, 0.6), (6662, 0.6), (6663, 0.6), (6665, 0.6), (6666, 0.6), (6668, 0.6), (6669, 0.6), (6671, 0.6), (6674, 0.6), (6675, 0.6), (6676, 0.6), (6677, 0.6), (6679, 0.6), (6680, 0.6), (6682, 0.6), (6683, 0.6), (6686, 0.6), (6688, 0.6), (6690, 0.6), (6691, 0.6), (6692, 0.6), (6693, 0.6), (6694, 0.6), (6697, 0.6), (6699, 0.6), (6700, 0.6), (6701, 0.6), (6706, 0.6), (6707, 0.6), (6710, 0.6), (6714, 0.6), (6715, 0.6), (6716, 0.6), (6719, 0.6), (6724, 0.6), (6725, 0.6), (6727, 0.6), (6731, 0.6), (6733, 0.6), (6734, 0.6), (6735, 0.6), (6736, 0.6), (6738, 0.6), (6739, 0.6), (6740, 0.6), (6742, 0.6), (6745, 0.6), (6748, 0.6), (6749, 0.6), (6750, 0.6), (6752, 0.6), (6753, 0.6), (6754, 0.6), (6755, 0.6), (6757, 0.6), (6759, 0.6), (6765, 0.6), (6766, 0.6), (6767, 0.6), (6768, 0.6), (6770, 0.6), (6771, 0.6), (6772, 0.6), (6774, 0.6), (6775, 0.6), (6776, 0.6), (6778, 0.6), (6779, 0.6), (6780, 0.6), (6782, 0.6), (6784, 0.6), (6787, 0.6), (6788, 0.6), (6793, 0.6), (6794, 0.6), (6795, 0.6), (6797, 0.6), (6798, 0.6), (6799, 0.6), (6800, 0.6), (6801, 0.6), (6802, 0.6), (6803, 0.6), (6804, 0.6), (6805, 0.6), (6806, 0.6), (6807, 0.6), (6809, 0.6), (6810, 0.6), (6811, 0.6), (6812, 0.6), (6814, 0.6), (6815, 0.6), (6818, 0.6), (6819, 0.6), (6820, 0.6), (6821, 0.6), (6822, 0.6), (6823, 0.6), (6825, 0.6), (6826, 0.6), (6827, 0.6), (6828, 0.6), (6835, 0.6), (6836, 0.6), (6837, 0.6), (6838, 0.6), (6842, 0.6), (6844, 0.6), (6847, 0.6), (6848, 0.6), (6849, 0.6), (6850, 0.6), (6854, 0.6), (6858, 0.6), (6859, 0.6), (6863, 0.6), (6864, 0.6), (6865, 0.6), (6866, 0.6), (6867, 0.6), (6868, 0.6), (6869, 0.6), (6870, 0.6), (6872, 0.6), (6879, 0.6), (6881, 0.6), (6886, 0.6), (6887, 0.6), (6889, 0.6), (6890, 0.6), (6891, 0.6), (6893, 0.6), (6895, 0.6), (6905, 0.6), (6906, 0.6), (6907, 0.6), (6908, 0.6), (6911, 0.6), (6912, 0.6), (6914, 0.6), (6915, 0.6), (6916, 0.6), (6918, 0.6), (6924, 0.6), (6926, 0.6), (6927, 0.6), (6928, 0.6), (6929, 0.6), (6930, 0.6), (6931, 0.6), (6934, 0.6), (6935, 0.6), (6936, 0.6), (6937, 0.6), (6938, 0.6), (6939, 0.6), (6943, 0.6), (6945, 0.6), (6946, 0.6), (6947, 0.6), (6948, 0.6), (6950, 0.6), (6952, 0.6), (6953, 0.6), (6954, 0.6), (6955, 0.6), (6956, 0.6), (6957, 0.6), (6958, 0.6), (6960, 0.6), (6961, 0.6), (6962, 0.6), (6963, 0.6), (6964, 0.6), (6965, 0.6), (6966, 0.6), (6971, 0.6), (6975, 0.6), (6976, 0.6), (6977, 0.6), (6978, 0.6), (6982, 0.6), (6983, 0.6), (6985, 0.6), (6986, 0.6), (6991, 0.6), (6992, 0.6), (6993, 0.6), (6999, 0.6), (7000, 0.6), (7002, 0.6), (7003, 0.6), (7004, 0.6), (7005, 0.6), (7008, 0.6), (7010, 0.6), (7013, 0.6), (7015, 0.6), (7017, 0.6), (7019, 0.6), (7025, 0.6), (7027, 0.6), (7028, 0.6), (7030, 0.6), (7032, 0.6), (7033, 0.6), (7035, 0.6), (7037, 0.6), (7042, 0.6), (7045, 0.6), (7046, 0.6), (7050, 0.6), (7052, 0.6), (7055, 0.6), (7056, 0.6), (7058, 0.6), (7059, 0.6), (7062, 0.6), (7064, 0.6), (7068, 0.6), (7069, 0.6), (7077, 0.6), (7078, 0.6), (7083, 0.6), (7084, 0.6), (7085, 0.6), (7086, 0.6), (7088, 0.6), (7090, 0.6), (7091, 0.6), (7093, 0.6), (7094, 0.6), (7096, 0.6), (7099, 0.6), (7100, 0.6), (7101, 0.6), (7105, 0.6), (7106, 0.6), (7114, 0.6), (7115, 0.6), (7116, 0.6), (7117, 0.6), (7118, 0.6), (7121, 0.6), (7122, 0.6), (7123, 0.6), (7128, 0.6), (7129, 0.6), (7130, 0.6), (7131, 0.6), (7132, 0.6), (7134, 0.6), (7136, 0.6), (7137, 0.6), (7138, 0.6), (7140, 0.6), (7141, 0.6), (7143, 0.6), (7144, 0.6), (7145, 0.6), (7147, 0.6), (7148, 0.6), (7149, 0.6), (7152, 0.6), (7153, 0.6), (7155, 0.6), (7156, 0.6), (7159, 0.6), (7160, 0.6), (7162, 0.6), (7168, 0.6), (7169, 0.6), (7170, 0.6), (7173, 0.6), (7174, 0.6), (7179, 0.6), (7184, 0.6), (7185, 0.6), (7186, 0.6), (7187, 0.6), (7188, 0.6), (7191, 0.6), (7192, 0.6), (7195, 0.6), (7198, 0.6), (7199, 0.6), (7201, 0.6), (7202, 0.6), (7203, 0.6), (7204, 0.6), (7205, 0.6), (7215, 0.6), (7217, 0.6), (7218, 0.6), (7219, 0.6), (7221, 0.6), (7224, 0.6), (7225, 0.6), (7226, 0.6), (7227, 0.6), (7228, 0.6), (7229, 0.6), (7230, 0.6), (7231, 0.6), (7232, 0.6), (7234, 0.6), (7238, 0.6), (7239, 0.6), (7241, 0.6), (7242, 0.6), (7243, 0.6), (7245, 0.6), (7246, 0.6), (7247, 0.6), (7248, 0.6), (7249, 0.6), (7252, 0.6), (7253, 0.6), (7254, 0.6), (7256, 0.6), (7257, 0.6), (7258, 0.6), (7260, 0.6), (7261, 0.6), (7263, 0.6), (7266, 0.6), (7270, 0.6), (7271, 0.6), (7276, 0.6), (7278, 0.6), (7279, 0.6), (7280, 0.6), (7282, 0.6), (7284, 0.6), (7285, 0.6), (7286, 0.6), (7287, 0.6), (7288, 0.6), (7289, 0.6), (7293, 0.6), (7294, 0.6), (7296, 0.6), (7299, 0.6), (7304, 0.6), (7305, 0.6), (7306, 0.6), (7308, 0.6), (7310, 0.6), (7311, 0.6), (7312, 0.6), (7313, 0.6), (7315, 0.6), (7319, 0.6), (7320, 0.6), (7321, 0.6), (7324, 0.6), (7327, 0.6), (7333, 0.6), (7334, 0.6), (7338, 0.6), (7339, 0.6), (7341, 0.6), (7342, 0.6), (7343, 0.6), (7344, 0.6), (7347, 0.6), (7348, 0.6), (7350, 0.6), (7352, 0.6), (7353, 0.6), (7356, 0.6), (7357, 0.6), (7360, 0.6), (7361, 0.6), (7366, 0.6), (7367, 0.6), (7368, 0.6), (7375, 0.6), (7376, 0.6), (7379, 0.6), (7380, 0.6), (7381, 0.6), (7382, 0.6), (7383, 0.6), (7384, 0.6), (7386, 0.6), (7387, 0.6), (7391, 0.6), (7393, 0.6), (7394, 0.6), (7395, 0.6), (7396, 0.6), (7397, 0.6), (7398, 0.6), (7401, 0.6), (7405, 0.6), (7407, 0.6), (7410, 0.6), (7411, 0.6), (7412, 0.6), (7416, 0.6), (7417, 0.6), (7419, 0.6), (7421, 0.6), (7422, 0.6), (7424, 0.6), (7425, 0.6), (7426, 0.6), (7427, 0.6), (7428, 0.6), (7432, 0.6), (7433, 0.6), (7435, 0.6), (7437, 0.6), (7438, 0.6), (7442, 0.6), (7444, 0.6), (7445, 0.6), (7446, 0.6), (7447, 0.6), (7449, 0.6), (7451, 0.6), (7454, 0.6), (7455, 0.6), (7458, 0.6), (7460, 0.6), (7462, 0.6), (7467, 0.6), (7468, 0.6), (7470, 0.6), (7471, 0.6), (7476, 0.6), (7478, 0.6), (7481, 0.6), (7482, 0.6), (7483, 0.6), (7485, 0.6), (7488, 0.6), (7489, 0.6), (7491, 0.6), (7493, 0.6), (7494, 0.6), (7495, 0.6), (7496, 0.6), (7497, 0.6), (7498, 0.6), (7499, 0.6), (7500, 0.6), (7503, 0.6), (7504, 0.6), (7508, 0.6), (7510, 0.6), (7511, 0.6), (7512, 0.6), (7515, 0.6), (7517, 0.6), (7518, 0.6), (7519, 0.6), (7521, 0.6), (7522, 0.6), (7523, 0.6), (7524, 0.6), (7527, 0.6), (7529, 0.6), (7531, 0.6), (7532, 0.6), (7534, 0.6), (7536, 0.6), (7538, 0.6), (7539, 0.6), (7542, 0.6), (7546, 0.6), (7549, 0.6), (7551, 0.6), (7552, 0.6), (7553, 0.6), (7554, 0.6), (7555, 0.6), (7556, 0.6), (7560, 0.6), (7561, 0.6), (7562, 0.6), (7564, 0.6), (7565, 0.6), (7567, 0.6), (7569, 0.6), (7570, 0.6), (7573, 0.6), (7574, 0.6), (7575, 0.6), (7577, 0.6), (7579, 0.6), (7580, 0.6), (7581, 0.6), (7582, 0.6), (7584, 0.6), (7585, 0.6), (7586, 0.6), (7587, 0.6), (7588, 0.6), (7589, 0.6), (7592, 0.6), (7593, 0.6), (7594, 0.6), (7595, 0.6), (7597, 0.6), (7598, 0.6), (7599, 0.6), (7600, 0.6), (7602, 0.6), (7603, 0.6), (7604, 0.6), (7607, 0.6), (7608, 0.6), (7610, 0.6), (7611, 0.6), (7612, 0.6), (7615, 0.6), (7617, 0.6), (7618, 0.6), (7619, 0.6), (7620, 0.6), (7621, 0.6), (7623, 0.6), (7625, 0.6), (7629, 0.6), (7631, 0.6), (7632, 0.6), (7638, 0.6), (7639, 0.6), (7640, 0.6), (7641, 0.6), (7643, 0.6), (7644, 0.6), (7645, 0.6), (7646, 0.6), (7647, 0.6), (7649, 0.6), (7652, 0.6), (7655, 0.6), (7656, 0.6), (7657, 0.6), (7658, 0.6), (7660, 0.6), (7661, 0.6), (7664, 0.6), (7666, 0.6), (7667, 0.6), (7668, 0.6), (7670, 0.6), (7671, 0.6), (7672, 0.6), (7674, 0.6), (7675, 0.6), (7676, 0.6), (7680, 0.6), (7681, 0.6), (7682, 0.6), (7683, 0.6), (7684, 0.6), (7685, 0.6), (7687, 0.6), (7688, 0.6), (7690, 0.6), (7693, 0.6), (7694, 0.6), (7696, 0.6), (7697, 0.6), (7698, 0.6), (7700, 0.6), (7703, 0.6), (7704, 0.6), (7711, 0.6), (7712, 0.6), (7714, 0.6), (7715, 0.6), (7716, 0.6), (7717, 0.6), (7718, 0.6), (7721, 0.6), (7722, 0.6), (7723, 0.6), (7724, 0.6), (7726, 0.6), (7730, 0.6), (7733, 0.6), (7736, 0.6), (7737, 0.6), (7738, 0.6), (7740, 0.6), (7742, 0.6), (7744, 0.6), (7747, 0.6), (7749, 0.6), (7750, 0.6), (7751, 0.6), (7752, 0.6), (7753, 0.6), (7754, 0.6), (7757, 0.6), (7758, 0.6), (7759, 0.6), (7760, 0.6), (7764, 0.6), (7766, 0.6), (7768, 0.6), (7769, 0.6), (7772, 0.6), (7773, 0.6), (7776, 0.6), (7777, 0.6), (7778, 0.6), (7781, 0.6), (7784, 0.6), (7785, 0.6), (7786, 0.6), (7787, 0.6), (7788, 0.6), (7789, 0.6), (7791, 0.6), (7793, 0.6), (7794, 0.6), (7796, 0.6), (7799, 0.6), (7801, 0.6), (7805, 0.6), (7806, 0.6), (7809, 0.6), (7811, 0.6), (7812, 0.6), (7813, 0.6), (7814, 0.6), (7815, 0.6), (7816, 0.6), (7817, 0.6), (7818, 0.6), (7820, 0.6), (7821, 0.6), (7824, 0.6), (7825, 0.6), (7831, 0.6), (7832, 0.6), (7834, 0.6), (7845, 0.6), (7846, 0.6), (7847, 0.6), (7852, 0.6), (7853, 0.6), (7855, 0.6), (7856, 0.6), (7858, 0.6), (7859, 0.6), (7860, 0.6), (7861, 0.6), (7863, 0.6), (7864, 0.6), (7865, 0.6), (7866, 0.6), (7867, 0.6), (7868, 0.6), (7869, 0.6), (7870, 0.6), (7871, 0.6), (7873, 0.6), (7874, 0.6), (7875, 0.6), (7876, 0.6), (7878, 0.6), (7879, 0.6), (7880, 0.6), (7881, 0.6), (7883, 0.6), (7885, 0.6), (7886, 0.6), (7892, 0.6), (7893, 0.6), (7895, 0.6), (7896, 0.6), (7898, 0.6), (7899, 0.6), (7900, 0.6), (7901, 0.6), (7902, 0.6), (7903, 0.6), (7904, 0.6), (7906, 0.6), (7907, 0.6), (7908, 0.6), (7909, 0.6), (7910, 0.6), (7911, 0.6), (7912, 0.6), (7913, 0.6), (7914, 0.6), (7918, 0.6), (7919, 0.6), (7920, 0.6), (7921, 0.6), (7922, 0.6), (7923, 0.6), (7924, 0.6), (7926, 0.6), (7927, 0.6), (7928, 0.6), (7929, 0.6), (7930, 0.6), (7932, 0.6), (7934, 0.6), (7935, 0.6), (7937, 0.6), (7940, 0.6), (7941, 0.6), (7942, 0.6), (7943, 0.6), (7945, 0.6), (7948, 0.6), (7949, 0.6), (7950, 0.6), (7951, 0.6), (7952, 0.6), (7953, 0.6), (7954, 0.6), (7958, 0.6), (7959, 0.6), (7964, 0.6), (7966, 0.6), (7968, 0.6), (7969, 0.6), (7970, 0.6), (7971, 0.6), (7974, 0.6), (7976, 0.6), (7977, 0.6), (7978, 0.6), (7986, 0.6), (7987, 0.6), (7988, 0.6), (7989, 0.6), (7990, 0.6), (7991, 0.6), (7992, 0.6), (7994, 0.6), (7997, 0.6), (7998, 0.6), (8000, 0.6), (8001, 0.6), (8002, 0.6), (8003, 0.6), (8005, 0.6), (8006, 0.6), (8007, 0.6), (8009, 0.6), (8010, 0.6), (8012, 0.6), (8013, 0.6), (8015, 0.6), (8018, 0.6), (8019, 0.6), (8020, 0.6), (8021, 0.6), (8022, 0.6), (8023, 0.6), (8024, 0.6), (8025, 0.6), (8026, 0.6), (8028, 0.6), (8030, 0.6), (8031, 0.6), (8032, 0.6), (8033, 0.6), (8035, 0.6), (8037, 0.6), (8038, 0.6), (8039, 0.6), (8043, 0.6), (8044, 0.6), (8046, 0.6), (8047, 0.6), (8048, 0.6), (8050, 0.6), (8052, 0.6), (8055, 0.6), (8056, 0.6), (8058, 0.6), (8059, 0.6), (8060, 0.6), (8061, 0.6), (8062, 0.6), (8064, 0.6), (8066, 0.6), (8071, 0.6), (8072, 0.6), (8073, 0.6), (8075, 0.6), (8077, 0.6), (8079, 0.6), (8081, 0.6), (8082, 0.6), (8093, 0.6), (8094, 0.6), (8095, 0.6), (8097, 0.6), (8099, 0.6), (8105, 0.6), (8108, 0.6), (8109, 0.6), (8110, 0.6), (8111, 0.6), (8113, 0.6), (8114, 0.6), (8115, 0.6), (8116, 0.6), (8118, 0.6), (8119, 0.6), (8120, 0.6), (8121, 0.6), (8123, 0.6), (8124, 0.6), (8126, 0.6), (8127, 0.6), (8128, 0.6), (8130, 0.6), (8131, 0.6), (8134, 0.6), (8138, 0.6), (8139, 0.6), (8140, 0.6), (8141, 0.6), (8145, 0.6), (8147, 0.6), (8148, 0.6), (8149, 0.6), (8150, 0.6), (8151, 0.6), (8152, 0.6), (8153, 0.6), (8154, 0.6), (8156, 0.6), (8157, 0.6), (8158, 0.6), (8161, 0.6), (8162, 0.6), (8163, 0.6), (8164, 0.6), (8165, 0.6), (8166, 0.6), (8167, 0.6), (8168, 0.6), (8172, 0.6), (8173, 0.6), (8174, 0.6), (8175, 0.6), (8176, 0.6), (8179, 0.6), (8180, 0.6), (8183, 0.6), (8185, 0.6), (8187, 0.6), (8189, 0.6), (8190, 0.6), (8191, 0.6), (8193, 0.6), (8196, 0.6), (8197, 0.6), (8201, 0.6), (8202, 0.6), (8203, 0.6), (8204, 0.6), (8205, 0.6), (8212, 0.6), (8213, 0.6), (8214, 0.6), (8215, 0.6), (8216, 0.6), (8218, 0.6), (8219, 0.6), (8221, 0.6), (8223, 0.6), (8224, 0.6), (8225, 0.6), (8226, 0.6), (8227, 0.6), (8228, 0.6), (8230, 0.6), (8238, 0.6), (8239, 0.6), (8241, 0.6), (8242, 0.6), (8243, 0.6), (8245, 0.6), (8246, 0.6), (8247, 0.6), (8248, 0.6), (8249, 0.6), (8258, 0.6), (8259, 0.6), (8260, 0.6), (8261, 0.6), (8262, 0.6), (8263, 0.6), (8264, 0.6), (8265, 0.6), (8266, 0.6), (8267, 0.6), (8268, 0.6), (8269, 0.6), (8270, 0.6), (8271, 0.6), (8272, 0.6), (8273, 0.6), (8274, 0.6), (8275, 0.6), (8276, 0.6), (8277, 0.6), (8278, 0.6), (8279, 0.6), (8281, 0.6), (8282, 0.6), (8283, 0.6), (8284, 0.6), (8285, 0.6), (8286, 0.6), (8287, 0.6), (8288, 0.6), (8289, 0.6), (8290, 0.6), (8291, 0.6), (8292, 0.6), (8293, 0.6), (8294, 0.6), (8295, 0.6), (8296, 0.6), (8297, 0.6), (8298, 0.6), (8299, 0.6), (8300, 0.6), (8301, 0.6), (8303, 0.6), (8304, 0.6), (8305, 0.6), (8306, 0.6), (8308, 0.6), (8309, 0.6), (8310, 0.6), (8311, 0.6), (8312, 0.6), (8313, 0.6), (8314, 0.6), (8315, 0.6), (8316, 0.6), (8317, 0.6), (8318, 0.6), (8319, 0.6), (8320, 0.6), (8321, 0.6), (8322, 0.6), (8323, 0.6), (8324, 0.6), (8325, 0.6), (8326, 0.6), (8327, 0.6), (8329, 0.6), (8330, 0.6), (8331, 0.6), (8333, 0.6), (8334, 0.6), (8335, 0.6), (8336, 0.6), (8337, 0.6), (8338, 0.6), (8339, 0.6), (8341, 0.6), (8342, 0.6), (8343, 0.6), (8344, 0.6), (8346, 0.6), (8351, 0.6), (8352, 0.6), (8353, 0.6), (8354, 0.6), (8355, 0.6), (8356, 0.6), (8358, 0.6), (8359, 0.6), (8360, 0.6), (8361, 0.6), (8362, 0.6), (8364, 0.6), (8365, 0.6), (8370, 0.6), (8371, 0.6), (8372, 0.6), (8377, 0.6), (8378, 0.6), (8381, 0.6), (8385, 0.6), (8394, 0.6), (8398, 0.6), (8401, 0.6), (8402, 0.6), (8405, 0.6), (8406, 0.6), (8409, 0.6), (8410, 0.6), (8411, 0.6), (8419, 0.6), (8420, 0.6), (8421, 0.6), (8422, 0.6), (8425, 0.6), (8426, 0.6), (8427, 0.6), (8429, 0.6), (8435, 0.6), (8436, 0.6), (8437, 0.6), (8438, 0.6), (8444, 0.6), (8445, 0.6), (8446, 0.6), (8447, 0.6), (8448, 0.6), (8449, 0.6), (8451, 0.6), (8452, 0.6), (8461, 0.6), (8462, 0.6), (8468, 0.6), (8477, 0.6), (8482, 0.6), (8483, 0.6), (8484, 0.6), (8485, 0.6), (8488, 0.6), (8489, 0.6), (8495, 0.6), (8497, 0.6), (8498, 0.6), (8503, 0.6), (8504, 0.6), (8505, 0.6), (8506, 0.6), (8507, 0.6), (8508, 0.6), (8509, 0.6), (8511, 0.6), (8513, 0.6), (8514, 0.6), (8515, 0.6), (8517, 0.6), (8520, 0.6), (8521, 0.6), (8523, 0.6), (8524, 0.6), (8525, 0.6), (8526, 0.6), (8527, 0.6), (8528, 0.6), (8531, 0.6), (8532, 0.6), (8533, 0.6), (8534, 0.6), (8535, 0.6), (8537, 0.6), (8539, 0.6), (8540, 0.6), (8541, 0.6), (8542, 0.6), (8546, 0.6), (8547, 0.6), (8548, 0.6), (8550, 0.6), (8551, 0.6), (8553, 0.6), (8555, 0.6), (8557, 0.6), (8558, 0.6), (8560, 0.6), (8561, 0.6), (8562, 0.6), (8565, 0.6), (8566, 0.6), (8567, 0.6), (8570, 0.6), (8572, 0.6), (8573, 0.6), (8575, 0.6), (8576, 0.6), (8577, 0.6), (8578, 0.6), (8582, 0.6), (8585, 0.6), (8586, 0.6), (8587, 0.6), (8593, 0.6), (8594, 0.6), (8595, 0.6), (8601, 0.6), (8607, 0.6), (8615, 0.6), (8616, 0.6), (8617, 0.6), (8618, 0.6), (8619, 0.6), (8620, 0.6), (8622, 0.6), (8623, 0.6), (8624, 0.6), (8625, 0.6), (8626, 0.6), (8627, 0.6), (8628, 0.6), (8630, 0.6), (8631, 0.6), (8632, 0.6), (8633, 0.6), (8634, 0.6), (8636, 0.6), (8637, 0.6), (8638, 0.6), (8639, 0.6), (8640, 0.6), (8641, 0.6), (8644, 0.6), (8648, 0.6), (8650, 0.6), (8652, 0.6), (8653, 0.6), (8655, 0.6), (8656, 0.6), (8658, 0.6), (8659, 0.6), (8660, 0.6), (8661, 0.6), (8663, 0.6), (8666, 0.6), (8667, 0.6), (8668, 0.6), (8669, 0.6), (8670, 0.6), (8671, 0.6), (8685, 0.6), (8687, 0.6), (8688, 0.6), (8689, 0.6), (8695, 0.6), (8696, 0.6), (8699, 0.6), (8702, 0.6), (8703, 0.6), (8704, 0.6), (8705, 0.6), (8707, 0.6), (8709, 0.6), (8710, 0.6), (8711, 0.6), (8712, 0.6), (8714, 0.6), (8715, 0.6), (8716, 0.6), (8717, 0.6), (8720, 0.6), (8722, 0.6), (8723, 0.6), (8727, 0.6), (8730, 0.6), (8731, 0.6), (8732, 0.6), (8733, 0.6), (8734, 0.6), (8735, 0.6), (8736, 0.6), (8737, 0.6), (8738, 0.6), (8739, 0.6), (8740, 0.6), (8742, 0.6), (8744, 0.6), (8745, 0.6), (8746, 0.6), (8747, 0.6), (8748, 0.6), (8749, 0.6), (8750, 0.6), (8752, 0.6), (8753, 0.6), (8754, 0.6), (8756, 0.6), (8758, 0.6), (8770, 0.6), (8772, 0.6), (8774, 0.6), (8775, 0.6), (8776, 0.6), (8781, 0.6), (8783, 0.6), (8784, 0.6), (8787, 0.6), (8792, 0.6), (8794, 0.6), (8795, 0.6), (8798, 0.6), (8802, 0.6), (8803, 0.6), (8804, 0.6), (8806, 0.6), (8809, 0.6), (8810, 0.6), (8811, 0.6), (8813, 0.6), (8814, 0.6), (8815, 0.6), (8818, 0.6), (8819, 0.6), (8821, 0.6), (8822, 0.6), (8827, 0.6), (8828, 0.6), (8829, 0.6), (8831, 0.6), (8836, 0.6), (8837, 0.6), (8838, 0.6), (8839, 0.6), (8840, 0.6), (8841, 0.6), (8842, 0.6), (8843, 0.6), (8847, 0.6), (8848, 0.6), (8851, 0.6), (8852, 0.6), (8857, 0.6), (8858, 0.6), (8860, 0.6), (8864, 0.6), (8865, 0.6), (8866, 0.6), (8867, 0.6), (8868, 0.6), (8870, 0.6), (8873, 0.6), (8874, 0.6), (8875, 0.6), (8877, 0.6), (8878, 0.6), (8879, 0.6), (8881, 0.6), (8882, 0.6), (8883, 0.6), (8884, 0.6), (8885, 0.6), (8886, 0.6), (8887, 0.6), (8890, 0.6), (8891, 0.6), (8892, 0.6), (8893, 0.6), (8894, 0.6), (8895, 0.6), (8896, 0.6), (8897, 0.6), (8898, 0.6), (8899, 0.6), (8902, 0.6), (8905, 0.6), (8906, 0.6), (8908, 0.6), (8909, 0.6), (8910, 0.6), (8917, 0.6), (8918, 0.6), (8921, 0.6), (8923, 0.6), (8925, 0.6), (8926, 0.6), (8929, 0.6), (8930, 0.6), (8931, 0.6), (8935, 0.6), (8936, 0.6), (8940, 0.6), (8943, 0.6), (8944, 0.6), (8945, 0.6), (8946, 0.6), (8947, 0.6), (8948, 0.6), (8949, 0.6), (8950, 0.6), (8951, 0.6), (8952, 0.6), (8955, 0.6), (8957, 0.6), (8958, 0.6), (8964, 0.6), (8965, 0.6), (8967, 0.6), (8969, 0.6), (8971, 0.6), (8972, 0.6), (8973, 0.6), (8976, 0.6), (8977, 0.6), (8983, 0.6), (8984, 0.6), (8985, 0.6), (8986, 0.6), (8992, 0.6), (8996, 0.6), (9001, 0.6), (9002, 0.6), (9003, 0.6), (9004, 0.6), (9005, 0.6), (9006, 0.6), (9007, 0.6), (9009, 0.6), (9010, 0.6), (9011, 0.6), (9017, 0.6), (9018, 0.6), (9024, 0.6), (9026, 0.6), (9027, 0.6), (9029, 0.6), (9030, 0.6), (9032, 0.6), (9040, 0.6), (9041, 0.6), (9044, 0.6), (9051, 0.6), (9056, 0.6), (9059, 0.6), (9060, 0.6), (9062, 0.6), (9063, 0.6), (9064, 0.6), (9065, 0.6), (9066, 0.6), (9067, 0.6), (9068, 0.6), (9069, 0.6), (9070, 0.6), (9071, 0.6), (9073, 0.6), (9075, 0.6), (9076, 0.6), (9079, 0.6), (9080, 0.6), (9082, 0.6), (9085, 0.6), (9087, 0.6), (9090, 0.6), (9091, 0.6), (9093, 0.6), (9094, 0.6), (9095, 0.6), (9096, 0.6), (9097, 0.6), (9099, 0.6), (9100, 0.6), (9101, 0.6), (9102, 0.6), (9103, 0.6), (9104, 0.6), (9105, 0.6), (9106, 0.6), (9110, 0.6), (9111, 0.6), (9112, 0.6), (9113, 0.6), (9114, 0.6), (9115, 0.6), (9116, 0.6), (9117, 0.6), (9118, 0.6), (9121, 0.6), (9122, 0.6), (9123, 0.6), (9124, 0.6), (9126, 0.6), (9127, 0.6), (9128, 0.6), (9130, 0.6), (9132, 0.6), (9133, 0.6), (9134, 0.6), (9135, 0.6), (9136, 0.6), (9138, 0.6), (9139, 0.6), (9141, 0.6), (9142, 0.6), (9143, 0.6), (9150, 0.6), (9151, 0.6), (9152, 0.6), (9158, 0.6), (9159, 0.6), (9160, 0.6), (9161, 0.6), (9163, 0.6), (9166, 0.6), (9168, 0.6), (9170, 0.6), (9175, 0.6), (9177, 0.6), (9178, 0.6), (9179, 0.6), (9180, 0.6), (9182, 0.6), (9184, 0.6), (9186, 0.6), (9187, 0.6), (9190, 0.6), (9191, 0.6), (9192, 0.6), (9196, 0.6), (9198, 0.6), (9200, 0.6), (9201, 0.6), (9203, 0.6), (9210, 0.6), (9211, 0.6), (9212, 0.6), (9214, 0.6), (9215, 0.6), (9217, 0.6), (9218, 0.6), (9219, 0.6), (9220, 0.6), (9221, 0.6), (9222, 0.6), (9225, 0.6), (9226, 0.6), (9227, 0.6), (9230, 0.6), (9231, 0.6), (9232, 0.6), (9241, 0.6), (9243, 0.6), (9244, 0.6), (9245, 0.6), (9246, 0.6), (9247, 0.6), (9248, 0.6), (9249, 0.6), (9250, 0.6), (9251, 0.6), (9252, 0.6), (9254, 0.6), (9255, 0.6), (9257, 0.6), (9258, 0.6), (9260, 0.6), (9261, 0.6), (9262, 0.6), (9264, 0.6), (9266, 0.6), (9268, 0.6), (9270, 0.6), (9271, 0.6), (9275, 0.6), (9276, 0.6), (9277, 0.6), (9284, 0.6), (9312, 0.6), (9313, 0.6), (9315, 0.6), (9316, 0.6), (9317, 0.6), (9319, 0.6), (9321, 0.6), (9322, 0.6), (9323, 0.6), (9324, 0.6), (9325, 0.6), (9326, 0.6), (9332, 0.6), (9333, 0.6), (9336, 0.6), (9338, 0.6), (9340, 0.6), (9341, 0.6), (9342, 0.6), (9343, 0.6), (9344, 0.6), (9346, 0.6), (9347, 0.6), (9348, 0.6), (9349, 0.6), (9350, 0.6), (9351, 0.6), (9352, 0.6), (9353, 0.6), (9354, 0.6), (9355, 0.6), (9356, 0.6), (9357, 0.6), (9361, 0.6), (9363, 0.6), (9364, 0.6), (9365, 0.6), (9366, 0.6), (9368, 0.6), (9369, 0.6), (9370, 0.6), (9371, 0.6), (9372, 0.6), (9376, 0.6), (9377, 0.6), (9379, 0.6), (9382, 0.6), (9387, 0.6), (9389, 0.6), (9390, 0.6), (9392, 0.6), (9393, 0.6), (9396, 0.6), (9397, 0.6), (9399, 0.6), (9400, 0.6), (9402, 0.6), (9405, 0.6), (9406, 0.6), (9407, 0.6), (9408, 0.6), (9411, 0.6), (9414, 0.6), (9415, 0.6), (9420, 0.6), (9421, 0.6), (9422, 0.6), (9423, 0.6), (9424, 0.6), (9425, 0.6), (9427, 0.6), (9432, 0.6), (9433, 0.6), (9434, 0.6), (9435, 0.6), (9436, 0.6), (9437, 0.6), (9438, 0.6), (9440, 0.6), (9441, 0.6), (9442, 0.6), (9443, 0.6), (9444, 0.6), (9447, 0.6), (9448, 0.6), (9449, 0.6), (9450, 0.6), (9451, 0.6), (9452, 0.6), (9453, 0.6), (9454, 0.6), (9457, 0.6), (9459, 0.6), (9462, 0.6), (9463, 0.6), (9464, 0.6), (9465, 0.6), (9466, 0.6), (9467, 0.6), (9468, 0.6), (9469, 0.6), (9470, 0.6), (9471, 0.6), (9472, 0.6), (9473, 0.6), (9474, 0.6), (9475, 0.6), (9476, 0.6), (9477, 0.6), (9478, 0.6), (9479, 0.6), (9480, 0.6), (9481, 0.6), (9482, 0.6), (9483, 0.6), (9484, 0.6), (9485, 0.6), (9486, 0.6), (9488, 0.6), (9489, 0.6), (9490, 0.6), (9495, 0.6), (9496, 0.6), (9497, 0.6), (9500, 0.6), (9501, 0.6), (9502, 0.6), (9503, 0.6), (9505, 0.6), (9508, 0.6), (9510, 0.6), (9512, 0.6), (9521, 0.6), (9523, 0.6), (9524, 0.6), (9528, 0.6), (9529, 0.6), (9532, 0.6), (9533, 0.6), (9534, 0.6), (9535, 0.6), (9542, 0.6), (9543, 0.6), (9546, 0.6), (9547, 0.6), (9548, 0.6), (9549, 0.6), (9550, 0.6), (9551, 0.6), (9552, 0.6), (9553, 0.6), (9554, 0.6), (9555, 0.6), (9556, 0.6), (9559, 0.6), (9560, 0.6), (9561, 0.6), (9566, 0.6), (9567, 0.6), (9568, 0.6), (9570, 0.6), (9571, 0.6), (9573, 0.6), (9574, 0.6), (9575, 0.6), (9576, 0.6), (9577, 0.6), (9578, 0.6), (9579, 0.6), (9580, 0.6), (9581, 0.6), (9582, 0.6), (9584, 0.6), (9588, 0.6), (9590, 0.6), (9591, 0.6), (9596, 0.6), (9597, 0.6), (9599, 0.6), (9600, 0.6), (9602, 0.6), (9604, 0.6), (9605, 0.6), (9611, 0.6), (9613, 0.6), (9615, 0.6), (9616, 0.6), (9617, 0.6), (9618, 0.6), (9620, 0.6), (9623, 0.6), (9626, 0.6), (9627, 0.6), (9629, 0.6), (9630, 0.6), (9631, 0.6), (9632, 0.6), (9633, 0.6), (9634, 0.6), (9637, 0.6), (9638, 0.6), (9639, 0.6), (9640, 0.6), (9642, 0.6), (9662, 0.6), (9664, 0.6), (9665, 0.6), (9667, 0.6), (9669, 0.6), (9670, 0.6), (9671, 0.6), (9672, 0.6), (9673, 0.6), (9677, 0.6), (9678, 0.6), (9680, 0.6), (9681, 0.6), (9682, 0.6), (9683, 0.6), (9684, 0.6), (9685, 0.6), (9695, 0.6), (9697, 0.6), (9699, 0.6), (9704, 0.6), (9707, 0.6), (9708, 0.6), (9709, 0.6), (9713, 0.6), (9714, 0.6), (9715, 0.6), (9716, 0.6), (9718, 0.6), (9719, 0.6), (9720, 0.6), (9721, 0.6), (9723, 0.6), (9725, 0.6), (9726, 0.6), (9729, 0.6), (9730, 0.6), (9731, 0.6), (9732, 0.6), (9733, 0.6), (9734, 0.6), (9735, 0.6), (9736, 0.6), (9739, 0.6), (9741, 0.6), (9742, 0.6), (9744, 0.6), (9746, 0.6), (9747, 0.6), (9748, 0.6), (9751, 0.6), (9752, 0.6), (9754, 0.6), (9756, 0.6), (9758, 0.6), (9759, 0.6), (9761, 0.6), (9762, 0.6), (9763, 0.6), (9766, 0.6), (9767, 0.6), (9773, 0.6), (9774, 0.6), (9775, 0.6), (9776, 0.6), (9778, 0.6), (9779, 0.6), (9781, 0.6), (9782, 0.6), (9795, 0.6), (9797, 0.6), (9803, 0.6), (9807, 0.6), (9808, 0.6), (9809, 0.6), (9811, 0.6), (9812, 0.6), (9813, 0.6), (9814, 0.6), (9815, 0.6), (9817, 0.6), (9818, 0.6), (9819, 0.6), (9820, 0.6), (9823, 0.6), (9829, 0.6), (9833, 0.6), (9834, 0.6), (9835, 0.6), (9836, 0.6), (9866, 0.6), (9873, 0.6), (9874, 0.6), (9875, 0.6), (9876, 0.6), (9877, 0.6), (9878, 0.6), (9879, 0.6), (9880, 0.6), (9882, 0.6), (9884, 0.6), (9885, 0.6), (9886, 0.6), (9887, 0.6), (9889, 0.6), (9890, 0.6), (9892, 0.6), (9893, 0.6), (9895, 0.6), (9896, 0.6), (9900, 0.6), (9901, 0.6), (9902, 0.6), (9903, 0.6), (9906, 0.6), (9907, 0.6), (9908, 0.6), (9909, 0.6), (9914, 0.6), (9915, 0.6), (9919, 0.6), (9924, 0.6), (9925, 0.6), (9926, 0.6), (9928, 0.6), (9930, 0.6), (9932, 0.6), (9934, 0.6), (9935, 0.6), (9937, 0.6), (9938, 0.6), (9939, 0.6), (9940, 0.6), (9944, 0.6), (9945, 0.6), (9946, 0.6), (9947, 0.6), (9948, 0.6), (9950, 0.6), (9951, 0.6), (9952, 0.6), (9954, 0.6), (9959, 0.6), (9960, 0.6), (9961, 0.6), (9962, 0.6), (9963, 0.6), (9964, 0.6), (9969, 0.6), (9976, 0.6), (9979, 0.6), (9980, 0.6), (9981, 0.6), (9983, 0.6), (9984, 0.6), (9985, 0.6), (9990, 0.6), (9992, 0.6), (9993, 0.6), (9995, 0.6), (9996, 0.6), (10000, 0.6), (10001, 0.6), (10002, 0.6), (10005, 0.6), (10008, 0.6), (10011, 0.6), (10012, 0.6), (10013, 0.6), (10016, 0.6), (10019, 0.6), (10020, 0.6), (10023, 0.6), (10028, 0.6), (10029, 0.6), (10031, 0.6), (10032, 0.6), (10033, 0.6), (10041, 0.6), (10042, 0.6), (10044, 0.6), (10045, 0.6), (10046, 0.6), (10049, 0.6), (10050, 0.6), (10052, 0.6), (10059, 0.6), (10064, 0.6), (10065, 0.6), (10073, 0.6), (10074, 0.6), (10075, 0.6), (10076, 0.6), (10078, 0.6), (10081, 0.6), (10083, 0.6), (10084, 0.6), (10086, 0.6), (10090, 0.6), (10091, 0.6), (10092, 0.6), (10094, 0.6), (10095, 0.6), (10096, 0.6), (10097, 0.6), (10098, 0.6), (10099, 0.6), (10100, 0.6), (10101, 0.6), (10103, 0.6), (10104, 0.6), (10105, 0.6), (10106, 0.6), (10107, 0.6), (10109, 0.6), (10110, 0.6), (10111, 0.6), (10119, 0.6), (10126, 0.6), (10127, 0.6), (10128, 0.6), (10129, 0.6), (10135, 0.6), (10138, 0.6), (10139, 0.6), (10140, 0.6), (10141, 0.6), (10142, 0.6), (10143, 0.6), (10144, 0.6), (10145, 0.6), (10146, 0.6), (10148, 0.6), (10149, 0.6), (10150, 0.6), (10157, 0.6), (10158, 0.6), (10160, 0.6), (10161, 0.6), (10162, 0.6), (10163, 0.6), (10164, 0.6), (10166, 0.6), (10167, 0.6), (10170, 0.6), (10174, 0.6), (10176, 0.6), (10177, 0.6), (10178, 0.6), (10191, 0.6), (10196, 0.6), (10204, 0.6), (10206, 0.6), (10209, 0.6), (10210, 0.6), (10213, 0.6), (10217, 0.6), (10218, 0.6), (10221, 0.6), (10222, 0.6), (10224, 0.6), (10234, 0.6), (10235, 0.6), (10236, 0.6), (10237, 0.6), (10239, 0.6), (10241, 0.6), (10246, 0.6), (10248, 0.6), (10249, 0.6), (10250, 0.6), (10252, 0.6), (10254, 0.6), (10255, 0.6), (10256, 0.6), (10259, 0.6), (10261, 0.6), (10263, 0.6), (10267, 0.6), (10270, 0.6), (10271, 0.6), (10273, 0.6), (10274, 0.6), (10275, 0.6), (10276, 0.6), (10279, 0.6), (10280, 0.6), (10281, 0.6), (10282, 0.6), (10289, 0.6), (10290, 0.6), (10291, 0.6), (10294, 0.6), (10297, 0.6), (10298, 0.6), (10299, 0.6), (10300, 0.6), (10301, 0.6), (10303, 0.6), (10304, 0.6), (10305, 0.6), (10306, 0.6), (10307, 0.6), (10308, 0.6), (10309, 0.6), (10310, 0.6), (10311, 0.6), (10312, 0.6), (10313, 0.6), (10315, 0.6), (10318, 0.6), (10320, 0.6), (10321, 0.6), (10322, 0.6), (10323, 0.6), (10324, 0.6), (10325, 0.6), (10326, 0.6), (10327, 0.6), (10328, 0.6), (10329, 0.6), (10330, 0.6), (10332, 0.6), (10333, 0.6), (10334, 0.6), (10335, 0.6), (10336, 0.6), (10337, 0.6), (10339, 0.6), (10342, 0.6), (10347, 0.6), (10348, 0.6), (10349, 0.6), (10353, 0.6), (10354, 0.6), (10356, 0.6), (10357, 0.6), (10358, 0.6), (10359, 0.6), (10360, 0.6), (10361, 0.6), (10362, 0.6), (10364, 0.6), (10365, 0.6), (10366, 0.6), (10369, 0.6), (10370, 0.6), (10371, 0.6), (10372, 0.6), (10373, 0.6), (10375, 0.6), (10377, 0.6), (10379, 0.6), (10380, 0.6), (10381, 0.6), (10383, 0.6), (10386, 0.6), (10387, 0.6), (10388, 0.6), (10390, 0.6), (10391, 0.6), (10392, 0.6), (10393, 0.6), (10397, 0.6), (10398, 0.6), (10399, 0.6), (10400, 0.6), (10404, 0.6), (10407, 0.6), (10408, 0.6), (10410, 0.6), (10412, 0.6), (10413, 0.6), (10414, 0.6), (10418, 0.6), (10420, 0.6), (10421, 0.6), (10423, 0.6), (10425, 0.6), (10426, 0.6), (10427, 0.6), (10432, 0.6), (10433, 0.6), (10434, 0.6), (10435, 0.6), (10436, 0.6), (10441, 0.6), (10443, 0.6), (10444, 0.6), (10445, 0.6), (10448, 0.6), (10449, 0.6), (10451, 0.6), (10452, 0.6), (10453, 0.6), (10456, 0.6), (10457, 0.6), (10460, 0.6), (10462, 0.6), (10463, 0.6), (10464, 0.6), (10465, 0.6), (10466, 0.6), (10468, 0.6), (10469, 0.6), (10471, 0.6), (10473, 0.6), (10474, 0.6), (10475, 0.6), (10477, 0.6), (10478, 0.6), (10479, 0.6), (10485, 0.6), (10487, 0.6), (10489, 0.6), (10490, 0.6), (10493, 0.6), (10494, 0.6), (10495, 0.6), (10496, 0.6), (10499, 0.6), (10504, 0.6), (10505, 0.6), (10507, 0.6), (10509, 0.6), (10510, 0.6), (10511, 0.6), (10512, 0.6), (10516, 0.6), (10519, 0.6), (10522, 0.6), (10524, 0.6), (10529, 0.6), (10531, 0.6), (10532, 0.6), (10534, 0.6), (10535, 0.6), (10537, 0.6), (10538, 0.6), (10540, 0.6), (10543, 0.6), (10544, 0.6), (10546, 0.6), (10548, 0.6), (10550, 0.6), (10551, 0.6), (10552, 0.6), (10553, 0.6), (10554, 0.6), (10558, 0.6), (10559, 0.6), (10560, 0.6), (10561, 0.6), (10564, 0.6), (10568, 0.6), (10570, 0.6), (10571, 0.6), (10572, 0.6), (10573, 0.6), (10574, 0.6), (10575, 0.6), (10576, 0.6), (10577, 0.6), (10579, 0.6), (10580, 0.6), (10581, 0.6), (10582, 0.6), (10583, 0.6), (10586, 0.6), (10587, 0.6), (10588, 0.6), (10589, 0.6), (10591, 0.6), (10592, 0.6), (10593, 0.6), (10594, 0.6), (10595, 0.6), (10598, 0.6), (10599, 0.6), (10604, 0.6), (10605, 0.6), (10606, 0.6), (10612, 0.6), (10613, 0.6), (10615, 0.6), (10616, 0.6), (10617, 0.6), (10619, 0.6), (10621, 0.6), (10622, 0.6), (10623, 0.6), (10628, 0.6), (10629, 0.6), (10631, 0.6), (10632, 0.6), (10633, 0.6), (10634, 0.6), (10636, 0.6), (10640, 0.6), (10645, 0.6), (10646, 0.6), (10648, 0.6), (10649, 0.6), (10650, 0.6), (10651, 0.6), (10652, 0.6), (10655, 0.6), (10657, 0.6), (10659, 0.6), (10660, 0.6), (10661, 0.6), (10662, 0.6), (10663, 0.6), (10664, 0.6), (10665, 0.6), (10666, 0.6), (10668, 0.6), (10672, 0.6), (10676, 0.6), (10677, 0.6), (10679, 0.6), (10680, 0.6), (10681, 0.6), (10682, 0.6), (10683, 0.6), (10684, 0.6), (10685, 0.6), (10687, 0.6), (10688, 0.6), (10690, 0.6), (10691, 0.6), (10693, 0.6), (10698, 0.6), (10699, 0.6), (10700, 0.6), (10701, 0.6), (10704, 0.6), (10706, 0.6), (10707, 0.6), (10708, 0.6), (10709, 0.6), (10711, 0.6), (10714, 0.6), (10715, 0.6), (10716, 0.6), (10717, 0.6), (10718, 0.6), (10721, 0.6), (10722, 0.6), (10723, 0.6), (10724, 0.6), (10725, 0.6), (10726, 0.6), (10729, 0.6), (10730, 0.6), (10731, 0.6), (10732, 0.6), (10733, 0.6), (10734, 0.6), (10740, 0.6), (10743, 0.6), (10744, 0.6), (10745, 0.6), (10747, 0.6), (10750, 0.6), (10751, 0.6), (10753, 0.6), (10754, 0.6), (10756, 0.6), (10777, 0.6), (10778, 0.6), (10779, 0.6), (10780, 0.6), (10782, 0.6), (10783, 0.6), (10784, 0.6), (10785, 0.6), (10789, 0.6), (10790, 0.6), (10791, 0.6), (10794, 0.6), (10796, 0.6), (10800, 0.6), (10802, 0.6), (10803, 0.6), (10808, 0.6), (10810, 0.6), (10811, 0.6), (10812, 0.6), (10813, 0.6), (10815, 0.6), (10817, 0.6), (10818, 0.6), (10819, 0.6), (10820, 0.6), (10821, 0.6), (10822, 0.6), (10823, 0.6), (10824, 0.6), (10825, 0.6), (10826, 0.6), (10828, 0.6), (10829, 0.6), (10834, 0.6), (10836, 0.6), (10837, 0.6), (10838, 0.6), (10841, 0.6), (10842, 0.6), (10848, 0.6), (10849, 0.6), (10851, 0.6), (10853, 0.6), (10858, 0.6), (10860, 0.6), (10861, 0.6), (10862, 0.6), (10863, 0.6), (10864, 0.6), (10869, 0.6), (10870, 0.6), (10875, 0.6), (10876, 0.6), (10877, 0.6), (10878, 0.6), (10879, 0.6), (10880, 0.6), (10881, 0.6), (10884, 0.6), (10885, 0.6), (10887, 0.6), (10892, 0.6), (10894, 0.6), (10896, 0.6), (10897, 0.6), (10898, 0.6), (10904, 0.6), (10905, 0.6), (10906, 0.6), (10907, 0.6), (10908, 0.6), (10910, 0.6), (10911, 0.6), (10912, 0.6), (10916, 0.6), (10917, 0.6), (10918, 0.6), (10920, 0.6), (10921, 0.6), (10922, 0.6), (10923, 0.6), (10928, 0.6), (10929, 0.6), (10930, 0.6), (10931, 0.6), (10932, 0.6), (10933, 0.6), (10935, 0.6), (10936, 0.6), (10942, 0.6), (10946, 0.6), (10948, 0.6), (10952, 0.6), (10953, 0.6), (10956, 0.6), (10957, 0.6), (10958, 0.6), (10959, 0.6), (10960, 0.6), (10961, 0.6), (10962, 0.6), (10963, 0.6), (10964, 0.6), (10965, 0.6), (10966, 0.6), (10970, 0.6), (10973, 0.6), (10974, 0.6), (10978, 0.6), (10979, 0.6), (10980, 0.6), (10981, 0.6), (10982, 0.6), (10983, 0.6), (10986, 0.6), (10987, 0.6), (10988, 0.6), (10989, 0.6), (10991, 0.6), (10994, 0.6), (10998, 0.6), (10999, 0.6), (11000, 0.6), (11002, 0.6), (11006, 0.6), (11007, 0.6), (11008, 0.6), (11009, 0.6), (11010, 0.6), (11013, 0.6), (11014, 0.6), (11018, 0.6), (11019, 0.6), (11020, 0.6), (11021, 0.6), (11022, 0.6), (11023, 0.6), (11024, 0.6), (11025, 0.6), (11030, 0.6), (11032, 0.6), (11033, 0.6), (11035, 0.6), (11036, 0.6), (11037, 0.6), (11039, 0.6), (11041, 0.6), (11042, 0.6), (11043, 0.6), (11045, 0.6), (11046, 0.6), (11047, 0.6), (11049, 0.6), (11050, 0.6), (11051, 0.6), (11052, 0.6), (11053, 0.6), (11054, 0.6), (11055, 0.6), (11059, 0.6), (11060, 0.6), (11061, 0.6), (11062, 0.6), (11063, 0.6), (11064, 0.6), (11065, 0.6), (11071, 0.6), (11074, 0.6), (11077, 0.6), (11079, 0.6), (11080, 0.6), (11083, 0.6), (11086, 0.6), (11087, 0.6), (11088, 0.6), (11089, 0.6), (11092, 0.6), (11093, 0.6), (11094, 0.6), (11096, 0.6), (11099, 0.6), (11100, 0.6), (11101, 0.6), (11103, 0.6), (11106, 0.6), (11107, 0.6), (11108, 0.6), (11109, 0.6), (11112, 0.6), (11113, 0.6), (11115, 0.6), (11116, 0.6), (11117, 0.6), (11118, 0.6), (11119, 0.6), (11121, 0.6), (11123, 0.6), (11126, 0.6), (11132, 0.6), (11133, 0.6), (11136, 0.6), (11144, 0.6), (11145, 0.6), (11146, 0.6), (11148, 0.6), (11149, 0.6), (11150, 0.6), (11152, 0.6), (11154, 0.6), (11155, 0.6), (11156, 0.6), (11160, 0.6), (11163, 0.6), (11164, 0.6), (11165, 0.6), (11167, 0.6), (11168, 0.6), (11169, 0.6), (11171, 0.6), (11173, 0.6), (11175, 0.6), (11177, 0.6), (11178, 0.6), (11183, 0.6), (11187, 0.6), (11188, 0.6), (11189, 0.6), (11190, 0.6), (11192, 0.6), (11193, 0.6), (11194, 0.6), (11196, 0.6), (11197, 0.6), (11199, 0.6), (11200, 0.6), (11201, 0.6), (11203, 0.6), (11205, 0.6), (11206, 0.6), (11208, 0.6), (11209, 0.6), (11211, 0.6), (11212, 0.6), (11213, 0.6), (11215, 0.6), (11218, 0.6), (11219, 0.6), (11221, 0.6), (11226, 0.6), (11227, 0.6), (11231, 0.6), (11232, 0.6), (11233, 0.6), (11234, 0.6), (11236, 0.6), (11237, 0.6), (11238, 0.6), (11239, 0.6), (11240, 0.6), (11244, 0.6), (11245, 0.6), (11246, 0.6), (11250, 0.6), (11251, 0.6), (11256, 0.6), (11257, 0.6), (11260, 0.6), (11266, 0.6), (11267, 0.6), (11268, 0.6), (11270, 0.6), (11271, 0.6), (11273, 0.6), (11274, 0.6), (11275, 0.6), (11276, 0.6), (11279, 0.6), (11282, 0.6), (11288, 0.6), (11289, 0.6), (11292, 0.6), (11293, 0.6), (11295, 0.6), (11297, 0.6), (11298, 0.6), (11299, 0.6), (11302, 0.6), (11304, 0.6), (11305, 0.6), (11307, 0.6), (11308, 0.6), (11312, 0.6), (11313, 0.6), (11315, 0.6), (11316, 0.6), (11320, 0.6), (11322, 0.6), (11323, 0.6), (11324, 0.6), (11328, 0.6), (11329, 0.6), (11330, 0.6), (11332, 0.6), (11333, 0.6), (11335, 0.6), (11336, 0.6), (11337, 0.6), (11338, 0.6), (11339, 0.6), (11340, 0.6), (11341, 0.6), (11346, 0.6), (11347, 0.6), (11348, 0.6), (11349, 0.6), (11354, 0.6), (11356, 0.6), (11357, 0.6), (11358, 0.6), (11359, 0.6), (11360, 0.6), (11362, 0.6), (11363, 0.6), (11364, 0.6), (11365, 0.6), (11366, 0.6), (11372, 0.6), (11373, 0.6), (11374, 0.6), (11379, 0.6), (11381, 0.6), (11384, 0.6), (11385, 0.6), (11386, 0.6), (11389, 0.6), (11390, 0.6), (11391, 0.6), (11392, 0.6), (11393, 0.6), (11399, 0.6), (11400, 0.6), (11402, 0.6), (11406, 0.6), (11407, 0.6), (11408, 0.6), (11409, 0.6), (11410, 0.6), (11411, 0.6), (11413, 0.6), (11417, 0.6), (11418, 0.6), (11419, 0.6), (11420, 0.6), (11424, 0.6), (11425, 0.6), (11426, 0.6), (11427, 0.6), (11428, 0.6), (11429, 0.6), (11431, 0.6), (11432, 0.6), (11433, 0.6), (11434, 0.6), (11435, 0.6), (11437, 0.6), (11438, 0.6), (11439, 0.6), (11441, 0.6), (11442, 0.6), (11445, 0.6), (11446, 0.6), (11448, 0.6), (11450, 0.6), (11452, 0.6), (11454, 0.6), (11456, 0.6), (11457, 0.6), (11458, 0.6), (11460, 0.6), (11462, 0.6), (11463, 0.6), (11465, 0.6), (11467, 0.6), (11468, 0.6), (11475, 0.6), (11477, 0.6), (11479, 0.6), (11481, 0.6), (11483, 0.6), (11484, 0.6), (11486, 0.6), (11491, 0.6), (11493, 0.6), (11496, 0.6), (11497, 0.6), (11498, 0.6), (11499, 0.6), (11500, 0.6), (11501, 0.6), (11503, 0.6), (11506, 0.6), (11507, 0.6), (11508, 0.6), (11512, 0.6), (11517, 0.6), (11518, 0.6), (11519, 0.6), (11522, 0.6), (11524, 0.6), (11525, 0.6), (11526, 0.6), (11530, 0.6), (11531, 0.6), (11532, 0.6), (11533, 0.6), (11535, 0.6), (11536, 0.6), (11537, 0.6), (11538, 0.6), (11539, 0.6), (11540, 0.6), (11542, 0.6), (11544, 0.6), (11545, 0.6), (11549, 0.6), (11555, 0.6), (11556, 0.6), (11557, 0.6), (11561, 0.6), (11562, 0.6), (11563, 0.6), (11564, 0.6), (11566, 0.6), (11567, 0.6), (11568, 0.6), (11569, 0.6), (11573, 0.6), (11576, 0.6), (11578, 0.6), (11579, 0.6), (11580, 0.6), (11582, 0.6), (11585, 0.6), (11589, 0.6), (11591, 0.6), (11593, 0.6), (11594, 0.6), (11595, 0.6), (11597, 0.6), (11598, 0.6), (11599, 0.6), (11602, 0.6), (11604, 0.6), (11608, 0.6), (11612, 0.6), (11613, 0.6), (11614, 0.6), (11615, 0.6), (11617, 0.6), (11618, 0.6), (11620, 0.6), (11621, 0.6), (11622, 0.6), (11624, 0.6), (11629, 0.6), (11630, 0.6), (11631, 0.6), (11632, 0.6), (11634, 0.6), (11637, 0.6), (11638, 0.6), (11639, 0.6), (11641, 0.6), (11642, 0.6), (11643, 0.6), (11644, 0.6), (11646, 0.6), (11648, 0.6), (11649, 0.6), (11651, 0.6), (11652, 0.6), (11653, 0.6), (11654, 0.6), (11655, 0.6), (11657, 0.6), (11662, 0.6), (11663, 0.6), (11664, 0.6), (11665, 0.6), (11668, 0.6), (11670, 0.6), (11671, 0.6), (11672, 0.6), (11673, 0.6), (11674, 0.6), (11675, 0.6), (11677, 0.6), (11678, 0.6), (11679, 0.6), (11680, 0.6), (11681, 0.6), (11682, 0.6), (11683, 0.6), (11684, 0.6), (11686, 0.6), (11687, 0.6), (11688, 0.6), (11689, 0.6), (11690, 0.6), (11691, 0.6), (11692, 0.6), (11693, 0.6), (11697, 0.6), (11698, 0.6), (11700, 0.6), (11701, 0.6), (11702, 0.6), (11703, 0.6), (11704, 0.6), (11705, 0.6), (11706, 0.6), (11709, 0.6), (11710, 0.6), (11712, 0.6), (11713, 0.6), (11715, 0.6), (11716, 0.6), (11717, 0.6), (11718, 0.6), (11720, 0.6), (11721, 0.6), (11723, 0.6), (11724, 0.6), (11725, 0.6), (11726, 0.6), (11730, 0.6), (11731, 0.6), (11732, 0.6), (11735, 0.6), (11737, 0.6), (11738, 0.6), (11739, 0.6), (11740, 0.6), (11741, 0.6), (11742, 0.6), (11744, 0.6), (11748, 0.6), (11750, 0.6), (11751, 0.6), (11753, 0.6), (11754, 0.6), (11755, 0.6), (11756, 0.6), (11757, 0.6), (11767, 0.6), (11769, 0.6), (11771, 0.6), (11777, 0.6), (11781, 0.6), (11782, 0.6), (11783, 0.6), (11784, 0.6), (11786, 0.6), (11788, 0.6), (11790, 0.6), (11793, 0.6), (11794, 0.6), (11796, 0.6), (11797, 0.6), (11799, 0.6), (11800, 0.6), (11805, 0.6), (11806, 0.6), (11809, 0.6), (11810, 0.6), (11811, 0.6), (11814, 0.6), (11815, 0.6), (11816, 0.6), (11817, 0.6), (11819, 0.6), (11823, 0.6), (11825, 0.6), (11827, 0.6), (11828, 0.6), (11829, 0.6), (11832, 0.6), (11833, 0.6), (11837, 0.6), (11838, 0.6), (11839, 0.6), (11840, 0.6), (11842, 0.6), (11844, 0.6), (11845, 0.6), (11847, 0.6), (11848, 0.6), (11849, 0.6), (11850, 0.6), (11851, 0.6), (11853, 0.6), (11854, 0.6), (11855, 0.6), (11856, 0.6), (11858, 0.6), (11860, 0.6), (11861, 0.6), (11862, 0.6), (11863, 0.6), (11864, 0.6), (11865, 0.6), (11867, 0.6), (11868, 0.6), (11869, 0.6), (11874, 0.6), (11875, 0.6), (11879, 0.6), (11880, 0.6), (11881, 0.6), (11882, 0.6), (11883, 0.6), (11886, 0.6), (11887, 0.6), (11888, 0.6), (11889, 0.6), (11890, 0.6), (11936, 0.6), (11937, 0.6), (11939, 0.6), (11940, 0.6), (11941, 0.6), (11942, 0.6), (11943, 0.6), (11945, 0.6), (11946, 0.6), (11948, 0.6), (11952, 0.6), (11955, 0.6), (11956, 0.6), (11959, 0.6), (11964, 0.6), (11965, 0.6), (11966, 0.6), (11967, 0.6), (11969, 0.6), (11970, 0.6), (11971, 0.6), (11973, 0.6), (11975, 0.6), (11976, 0.6), (11977, 0.6), (11978, 0.6), (11980, 0.6), (11981, 0.6), (11982, 0.6), (11983, 0.6), (11987, 0.6), (11988, 0.6), (11989, 0.6), (11991, 0.6), (11992, 0.6), (11993, 0.6), (11995, 0.6), (11996, 0.6), (11997, 0.6), (11999, 0.6), (12000, 0.6), (12003, 0.6), (12004, 0.6), (12007, 0.6), (12008, 0.6), (12009, 0.6), (12010, 0.6), (12011, 0.6), (12014, 0.6), (12015, 0.6), (12016, 0.6), (12017, 0.6), (12018, 0.6), (12019, 0.6), (12021, 0.6), (12022, 0.6), (12023, 0.6), (12025, 0.6), (12026, 0.6), (12027, 0.6), (12028, 0.6), (12029, 0.6), (12031, 0.6), (12032, 0.6), (12033, 0.6), (12034, 0.6), (12035, 0.6), (12037, 0.6), (12038, 0.6), (12039, 0.6), (12040, 0.6), (12042, 0.6), (12043, 0.6), (12046, 0.6), (12048, 0.6), (12049, 0.6), (12050, 0.6), (12051, 0.6), (12052, 0.6), (12053, 0.6), (12054, 0.6), (12055, 0.6), (12057, 0.6), (12058, 0.6), (12059, 0.6), (12062, 0.6), (12063, 0.6), (12066, 0.6), (12069, 0.6), (12070, 0.6), (12071, 0.6), (12073, 0.6), (12075, 0.6), (12076, 0.6), (12077, 0.6), (12078, 0.6), (12080, 0.6), (12081, 0.6), (12084, 0.6), (12085, 0.6), (12086, 0.6), (12088, 0.6), (12089, 0.6), (12090, 0.6), (12091, 0.6), (12092, 0.6), (12094, 0.6), (12096, 0.6), (12097, 0.6), (12098, 0.6), (12103, 0.6), (12104, 0.6), (12107, 0.6), (12108, 0.6), (12109, 0.6), (12110, 0.6), (12111, 0.6), (12113, 0.6), (12114, 0.6), (12115, 0.6), (12117, 0.6), (12120, 0.6), (12121, 0.6), (12124, 0.6), (12128, 0.6), (12129, 0.6), (12132, 0.6), (12133, 0.6), (12134, 0.6), (12135, 0.6), (12136, 0.6), (12137, 0.6), (12138, 0.6), (12139, 0.6), (12140, 0.6), (12141, 0.6), (12142, 0.6), (12143, 0.6), (12147, 0.6), (12148, 0.6), (12151, 0.6), (12152, 0.6), (12153, 0.6), (12154, 0.6), (12158, 0.6), (12159, 0.6), (12160, 0.6), (12163, 0.6), (12164, 0.6), (12165, 0.6), (12167, 0.6), (12168, 0.6), (12172, 0.6), (12173, 0.6), (12174, 0.6), (12175, 0.6), (12177, 0.6), (12180, 0.6), (12181, 0.6), (12182, 0.6), (12183, 0.6), (12190, 0.6), (12195, 0.6), (12196, 0.6), (12197, 0.6), (12198, 0.6), (12199, 0.6), (12200, 0.6), (12202, 0.6), (12203, 0.6), (12205, 0.6), (12207, 0.6), (12208, 0.6), (12209, 0.6), (12210, 0.6), (12212, 0.6), (12213, 0.6), (12215, 0.6), (12216, 0.6), (12218, 0.6), (12219, 0.6), (12220, 0.6), (12223, 0.6), (12228, 0.6), (12229, 0.6), (12234, 0.6), (12235, 0.6), (12236, 0.6), (12237, 0.6), (12238, 0.6), (12239, 0.6), (12240, 0.6), (12243, 0.6), (12245, 0.6), (12246, 0.6), (12247, 0.6), (12248, 0.6), (12249, 0.6), (12250, 0.6), (12251, 0.6), (12252, 0.6), (12253, 0.6), (12254, 0.6), (12256, 0.6), (12257, 0.6), (12258, 0.6), (12259, 0.6), (12261, 0.6), (12264, 0.6), (12266, 0.6), (12267, 0.6), (12271, 0.6), (12273, 0.6), (12275, 0.6), (12276, 0.6), (12277, 0.6), (12279, 0.6), (12280, 0.6), (12283, 0.6), (12284, 0.6), (12285, 0.6), (12287, 0.6), (12288, 0.6), (12291, 0.6), (12292, 0.6), (12293, 0.6), (12295, 0.6), (12297, 0.6), (12298, 0.6), (12299, 0.6), (12300, 0.6), (12302, 0.6), (12310, 0.6), (12316, 0.6), (12331, 0.6), (12336, 0.6), (12341, 0.6), (12342, 0.6), (12365, 0.6), (12366, 0.6), (12370, 0.6), (12373, 0.6), (12382, 0.6), (12396, 0.6), (12398, 0.6), (12399, 0.6), (12404, 0.6), (12414, 0.6), (12418, 0.6), (12466, 0.6), (12467, 0.6), (12468, 0.6), (12469, 0.6), (12470, 0.6), (12471, 0.6), (12495, 0.6), (12501, 0.6), (12520, 0.6), (12523, 0.6), (12537, 0.6), (12547, 0.6), (12548, 0.6), (12550, 0.6), (12551, 0.6), (12566, 0.6), (12594, 0.6), (12596, 0.6), (12597, 0.6), (12598, 0.6), (12599, 0.6), (12601, 0.6), (12603, 0.6), (12604, 0.6), (12606, 0.6), (12613, 0.6), (12621, 0.6), (12644, 0.6), (12645, 0.6), (12646, 0.6), (12647, 0.6), (12658, 0.6), (12680, 0.6), (12683, 0.6), (12684, 0.6), (12690, 0.6), (12694, 0.6), (12698, 0.6), (12699, 0.6), (12701, 0.6), (12723, 0.6), (12742, 0.6), (12754, 0.6), (12759, 0.6), (12785, 0.6), (12800, 0.6), (12811, 0.6), (12813, 0.6), (12816, 0.6), (12822, 0.6), (12823, 0.6), (12827, 0.6), (12832, 0.6), (12841, 0.6), (12851, 0.6), (12860, 0.6), (12868, 0.6), (12870, 0.6), (12872, 0.6), (12874, 0.6), (12910, 0.6), (12931, 0.6), (12932, 0.6), (12933, 0.6), (12934, 0.6), (12936, 0.6), (12937, 0.6), (12942, 0.6), (12943, 0.6), (12945, 0.6), (12946, 0.6), (12948, 0.6), (12959, 0.6), (12964, 0.6), (12967, 0.6), (12974, 0.6), (12984, 0.6), (12985, 0.6), (12990, 0.6), (1739, 0.5916079783099616), (5914, 0.5916079783099616), (5976, 0.5916079783099616), (6073, 0.5916079783099616), (7082, 0.5916079783099616), (7223, 0.5916079783099616), (9023, 0.5916079783099616), (10806, 0.5916079783099616), (12812, 0.5916079783099616), (12916, 0.5916079783099616), (12986, 0.5916079783099616), (5744, 0.5720775535473555), (5746, 0.5720775535473555), (5758, 0.5720775535473555), (5761, 0.5720775535473555), (5762, 0.5720775535473555), (5767, 0.5720775535473555), (5771, 0.5720775535473555), (5772, 0.5720775535473555), (5775, 0.5720775535473555), (5786, 0.5720775535473555), (5817, 0.5720775535473555), (5830, 0.5720775535473555), (5831, 0.5720775535473555), (5840, 0.5720775535473555), (5851, 0.5720775535473555), (5852, 0.5720775535473555), (5857, 0.5720775535473555), (5862, 0.5720775535473555), (5898, 0.5720775535473555), (5903, 0.5720775535473555), (5909, 0.5720775535473555), (5912, 0.5720775535473555), (5916, 0.5720775535473555), (5935, 0.5720775535473555), (5941, 0.5720775535473555), (5950, 0.5720775535473555), (5954, 0.5720775535473555), (5959, 0.5720775535473555), (5970, 0.5720775535473555), (5975, 0.5720775535473555), (5978, 0.5720775535473555), (5984, 0.5720775535473555), (5992, 0.5720775535473555), (5995, 0.5720775535473555), (6000, 0.5720775535473555), (6007, 0.5720775535473555), (6031, 0.5720775535473555), (6036, 0.5720775535473555), (6039, 0.5720775535473555), (6071, 0.5720775535473555), (6072, 0.5720775535473555), (6101, 0.5720775535473555), (6121, 0.5720775535473555), (6130, 0.5720775535473555), (6174, 0.5720775535473555), (6183, 0.5720775535473555), (6201, 0.5720775535473555), (6208, 0.5720775535473555), (6217, 0.5720775535473555), (6223, 0.5720775535473555), (6234, 0.5720775535473555), (6251, 0.5720775535473555), (6271, 0.5720775535473555), (6286, 0.5720775535473555), (6302, 0.5720775535473555), (6305, 0.5720775535473555), (6306, 0.5720775535473555), (6324, 0.5720775535473555), (6328, 0.5720775535473555), (6332, 0.5720775535473555), (6357, 0.5720775535473555), (6359, 0.5720775535473555), (6366, 0.5720775535473555), (6369, 0.5720775535473555), (6387, 0.5720775535473555), (6388, 0.5720775535473555), (6398, 0.5720775535473555), (6400, 0.5720775535473555), (6406, 0.5720775535473555), (6413, 0.5720775535473555), (6423, 0.5720775535473555), (6443, 0.5720775535473555), (6453, 0.5720775535473555), (6460, 0.5720775535473555), (6464, 0.5720775535473555), (6481, 0.5720775535473555), (6488, 0.5720775535473555), (6498, 0.5720775535473555), (6506, 0.5720775535473555), (6507, 0.5720775535473555), (6513, 0.5720775535473555), (6528, 0.5720775535473555), (6529, 0.5720775535473555), (6537, 0.5720775535473555), (6538, 0.5720775535473555), (6571, 0.5720775535473555), (6572, 0.5720775535473555), (6590, 0.5720775535473555), (6599, 0.5720775535473555), (6601, 0.5720775535473555), (6605, 0.5720775535473555), (6609, 0.5720775535473555), (6618, 0.5720775535473555), (6628, 0.5720775535473555), (6629, 0.5720775535473555), (6630, 0.5720775535473555), (6633, 0.5720775535473555), (6649, 0.5720775535473555), (6678, 0.5720775535473555), (6681, 0.5720775535473555), (6695, 0.5720775535473555), (6698, 0.5720775535473555), (6702, 0.5720775535473555), (6705, 0.5720775535473555), (6711, 0.5720775535473555), (6717, 0.5720775535473555), (6728, 0.5720775535473555), (6741, 0.5720775535473555), (6744, 0.5720775535473555), (6762, 0.5720775535473555), (6763, 0.5720775535473555), (6783, 0.5720775535473555), (6785, 0.5720775535473555), (6786, 0.5720775535473555), (6813, 0.5720775535473555), (6829, 0.5720775535473555), (6830, 0.5720775535473555), (6839, 0.5720775535473555), (6840, 0.5720775535473555), (6845, 0.5720775535473555), (6862, 0.5720775535473555), (6873, 0.5720775535473555), (6874, 0.5720775535473555), (6880, 0.5720775535473555), (6882, 0.5720775535473555), (6885, 0.5720775535473555), (6896, 0.5720775535473555), (6899, 0.5720775535473555), (6901, 0.5720775535473555), (6902, 0.5720775535473555), (6909, 0.5720775535473555), (6917, 0.5720775535473555), (6920, 0.5720775535473555), (6922, 0.5720775535473555), (6970, 0.5720775535473555), (6974, 0.5720775535473555), (6980, 0.5720775535473555), (6990, 0.5720775535473555), (6997, 0.5720775535473555), (6998, 0.5720775535473555), (7020, 0.5720775535473555), (7036, 0.5720775535473555), (7041, 0.5720775535473555), (7043, 0.5720775535473555), (7048, 0.5720775535473555), (7051, 0.5720775535473555), (7054, 0.5720775535473555), (7060, 0.5720775535473555), (7065, 0.5720775535473555), (7110, 0.5720775535473555), (7112, 0.5720775535473555), (7113, 0.5720775535473555), (7127, 0.5720775535473555), (7135, 0.5720775535473555), (7139, 0.5720775535473555), (7151, 0.5720775535473555), (7158, 0.5720775535473555), (7163, 0.5720775535473555), (7166, 0.5720775535473555), (7171, 0.5720775535473555), (7194, 0.5720775535473555), (7200, 0.5720775535473555), (7206, 0.5720775535473555), (7216, 0.5720775535473555), (7236, 0.5720775535473555), (7240, 0.5720775535473555), (7265, 0.5720775535473555), (7307, 0.5720775535473555), (7316, 0.5720775535473555), (7351, 0.5720775535473555), (7358, 0.5720775535473555), (7364, 0.5720775535473555), (7370, 0.5720775535473555), (7371, 0.5720775535473555), (7374, 0.5720775535473555), (7413, 0.5720775535473555), (7415, 0.5720775535473555), (7418, 0.5720775535473555), (7430, 0.5720775535473555), (7443, 0.5720775535473555), (7457, 0.5720775535473555), (7464, 0.5720775535473555), (7465, 0.5720775535473555), (7466, 0.5720775535473555), (7477, 0.5720775535473555), (7479, 0.5720775535473555), (7484, 0.5720775535473555), (7492, 0.5720775535473555), (7505, 0.5720775535473555), (7507, 0.5720775535473555), (7514, 0.5720775535473555), (7543, 0.5720775535473555), (7557, 0.5720775535473555), (7568, 0.5720775535473555), (7613, 0.5720775535473555), (7624, 0.5720775535473555), (7626, 0.5720775535473555), (7627, 0.5720775535473555), (7636, 0.5720775535473555), (7637, 0.5720775535473555), (7673, 0.5720775535473555), (7691, 0.5720775535473555), (7739, 0.5720775535473555), (7743, 0.5720775535473555), (7748, 0.5720775535473555), (7761, 0.5720775535473555), (7780, 0.5720775535473555), (7782, 0.5720775535473555), (7790, 0.5720775535473555), (7795, 0.5720775535473555), (7798, 0.5720775535473555), (7802, 0.5720775535473555), (7804, 0.5720775535473555), (7807, 0.5720775535473555), (7848, 0.5720775535473555), (7851, 0.5720775535473555), (7862, 0.5720775535473555), (7872, 0.5720775535473555), (7877, 0.5720775535473555), (7882, 0.5720775535473555), (7936, 0.5720775535473555), (7938, 0.5720775535473555), (7939, 0.5720775535473555), (7944, 0.5720775535473555), (7947, 0.5720775535473555), (7957, 0.5720775535473555), (7972, 0.5720775535473555), (7975, 0.5720775535473555), (8027, 0.5720775535473555), (8036, 0.5720775535473555), (8054, 0.5720775535473555), (8057, 0.5720775535473555), (8063, 0.5720775535473555), (8065, 0.5720775535473555), (8067, 0.5720775535473555), (8068, 0.5720775535473555), (8069, 0.5720775535473555), (8070, 0.5720775535473555), (8074, 0.5720775535473555), (8076, 0.5720775535473555), (8083, 0.5720775535473555), (8084, 0.5720775535473555), (8117, 0.5720775535473555), (8129, 0.5720775535473555), (8132, 0.5720775535473555), (8133, 0.5720775535473555), (8135, 0.5720775535473555), (8142, 0.5720775535473555), (8171, 0.5720775535473555), (8181, 0.5720775535473555), (8182, 0.5720775535473555), (8184, 0.5720775535473555), (8192, 0.5720775535473555), (8220, 0.5720775535473555), (8231, 0.5720775535473555), (8244, 0.5720775535473555), (8302, 0.5720775535473555), (8307, 0.5720775535473555), (8328, 0.5720775535473555), (8332, 0.5720775535473555), (8347, 0.5720775535473555), (8357, 0.5720775535473555), (8379, 0.5720775535473555), (8382, 0.5720775535473555), (8389, 0.5720775535473555), (8390, 0.5720775535473555), (8391, 0.5720775535473555), (8392, 0.5720775535473555), (8395, 0.5720775535473555), (8396, 0.5720775535473555), (8403, 0.5720775535473555), (8404, 0.5720775535473555), (8418, 0.5720775535473555), (8428, 0.5720775535473555), (8430, 0.5720775535473555), (8431, 0.5720775535473555), (8441, 0.5720775535473555), (8442, 0.5720775535473555), (8453, 0.5720775535473555), (8454, 0.5720775535473555), (8455, 0.5720775535473555), (8491, 0.5720775535473555), (8496, 0.5720775535473555), (8499, 0.5720775535473555), (8500, 0.5720775535473555), (8501, 0.5720775535473555), (8502, 0.5720775535473555), (8543, 0.5720775535473555), (8544, 0.5720775535473555), (8549, 0.5720775535473555), (8559, 0.5720775535473555), (8569, 0.5720775535473555), (8599, 0.5720775535473555), (8621, 0.5720775535473555), (8635, 0.5720775535473555), (8643, 0.5720775535473555), (8647, 0.5720775535473555), (8651, 0.5720775535473555), (8697, 0.5720775535473555), (8698, 0.5720775535473555), (8713, 0.5720775535473555), (8718, 0.5720775535473555), (8719, 0.5720775535473555), (8724, 0.5720775535473555), (8728, 0.5720775535473555), (8729, 0.5720775535473555), (8741, 0.5720775535473555), (8743, 0.5720775535473555), (8786, 0.5720775535473555), (8807, 0.5720775535473555), (8808, 0.5720775535473555), (8812, 0.5720775535473555), (8816, 0.5720775535473555), (8830, 0.5720775535473555), (8845, 0.5720775535473555), (8850, 0.5720775535473555), (8862, 0.5720775535473555), (8869, 0.5720775535473555), (8871, 0.5720775535473555), (8876, 0.5720775535473555), (8900, 0.5720775535473555), (8901, 0.5720775535473555), (8907, 0.5720775535473555), (8919, 0.5720775535473555), (8922, 0.5720775535473555), (8968, 0.5720775535473555), (8991, 0.5720775535473555), (9008, 0.5720775535473555), (9022, 0.5720775535473555), (9025, 0.5720775535473555), (9028, 0.5720775535473555), (9039, 0.5720775535473555), (9052, 0.5720775535473555), (9054, 0.5720775535473555), (9088, 0.5720775535473555), (9098, 0.5720775535473555), (9144, 0.5720775535473555), (9147, 0.5720775535473555), (9148, 0.5720775535473555), (9149, 0.5720775535473555), (9153, 0.5720775535473555), (9154, 0.5720775535473555), (9176, 0.5720775535473555), (9181, 0.5720775535473555), (9183, 0.5720775535473555), (9188, 0.5720775535473555), (9202, 0.5720775535473555), (9233, 0.5720775535473555), (9236, 0.5720775535473555), (9239, 0.5720775535473555), (9240, 0.5720775535473555), (9253, 0.5720775535473555), (9263, 0.5720775535473555), (9265, 0.5720775535473555), (9269, 0.5720775535473555), (9283, 0.5720775535473555), (9285, 0.5720775535473555), (9339, 0.5720775535473555), (9359, 0.5720775535473555), (9386, 0.5720775535473555), (9391, 0.5720775535473555), (9401, 0.5720775535473555), (9413, 0.5720775535473555), (9416, 0.5720775535473555), (9426, 0.5720775535473555), (9439, 0.5720775535473555), (9456, 0.5720775535473555), (9458, 0.5720775535473555), (9487, 0.5720775535473555), (9493, 0.5720775535473555), (9494, 0.5720775535473555), (9499, 0.5720775535473555), (9504, 0.5720775535473555), (9520, 0.5720775535473555), (9522, 0.5720775535473555), (9531, 0.5720775535473555), (9558, 0.5720775535473555), (9562, 0.5720775535473555), (9563, 0.5720775535473555), (9564, 0.5720775535473555), (9565, 0.5720775535473555), (9583, 0.5720775535473555), (9585, 0.5720775535473555), (9587, 0.5720775535473555), (9593, 0.5720775535473555), (9594, 0.5720775535473555), (9598, 0.5720775535473555), (9601, 0.5720775535473555), (9612, 0.5720775535473555), (9635, 0.5720775535473555), (9636, 0.5720775535473555), (9647, 0.5720775535473555), (9648, 0.5720775535473555), (9663, 0.5720775535473555), (9666, 0.5720775535473555), (9696, 0.5720775535473555), (9705, 0.5720775535473555), (9722, 0.5720775535473555), (9753, 0.5720775535473555), (9770, 0.5720775535473555), (9772, 0.5720775535473555), (9801, 0.5720775535473555), (9826, 0.5720775535473555), (9830, 0.5720775535473555), (9871, 0.5720775535473555), (9888, 0.5720775535473555), (9891, 0.5720775535473555), (9904, 0.5720775535473555), (9910, 0.5720775535473555), (9911, 0.5720775535473555), (9916, 0.5720775535473555), (9918, 0.5720775535473555), (9936, 0.5720775535473555), (9941, 0.5720775535473555), (9966, 0.5720775535473555), (9970, 0.5720775535473555), (9982, 0.5720775535473555), (9991, 0.5720775535473555), (9997, 0.5720775535473555), (10004, 0.5720775535473555), (10014, 0.5720775535473555), (10015, 0.5720775535473555), (10017, 0.5720775535473555), (10018, 0.5720775535473555), (10030, 0.5720775535473555), (10040, 0.5720775535473555), (10043, 0.5720775535473555), (10051, 0.5720775535473555), (10058, 0.5720775535473555), (10077, 0.5720775535473555), (10079, 0.5720775535473555), (10080, 0.5720775535473555), (10085, 0.5720775535473555), (10087, 0.5720775535473555), (10108, 0.5720775535473555), (10130, 0.5720775535473555), (10134, 0.5720775535473555), (10147, 0.5720775535473555), (10173, 0.5720775535473555), (10179, 0.5720775535473555), (10182, 0.5720775535473555), (10192, 0.5720775535473555), (10193, 0.5720775535473555), (10194, 0.5720775535473555), (10195, 0.5720775535473555), (10233, 0.5720775535473555), (10240, 0.5720775535473555), (10257, 0.5720775535473555), (10293, 0.5720775535473555), (10302, 0.5720775535473555), (10314, 0.5720775535473555), (10316, 0.5720775535473555), (10317, 0.5720775535473555), (10319, 0.5720775535473555), (10351, 0.5720775535473555), (10378, 0.5720775535473555), (10401, 0.5720775535473555), (10406, 0.5720775535473555), (10409, 0.5720775535473555), (10429, 0.5720775535473555), (10430, 0.5720775535473555), (10431, 0.5720775535473555), (10446, 0.5720775535473555), (10450, 0.5720775535473555), (10458, 0.5720775535473555), (10476, 0.5720775535473555), (10481, 0.5720775535473555), (10488, 0.5720775535473555), (10491, 0.5720775535473555), (10492, 0.5720775535473555), (10513, 0.5720775535473555), (10520, 0.5720775535473555), (10521, 0.5720775535473555), (10523, 0.5720775535473555), (10525, 0.5720775535473555), (10526, 0.5720775535473555), (10527, 0.5720775535473555), (10528, 0.5720775535473555), (10533, 0.5720775535473555), (10536, 0.5720775535473555), (10549, 0.5720775535473555), (10578, 0.5720775535473555), (10590, 0.5720775535473555), (10601, 0.5720775535473555), (10602, 0.5720775535473555), (10603, 0.5720775535473555), (10607, 0.5720775535473555), (10610, 0.5720775535473555), (10611, 0.5720775535473555), (10626, 0.5720775535473555), (10627, 0.5720775535473555), (10637, 0.5720775535473555), (10642, 0.5720775535473555), (10643, 0.5720775535473555), (10644, 0.5720775535473555), (10675, 0.5720775535473555), (10705, 0.5720775535473555), (10713, 0.5720775535473555), (10720, 0.5720775535473555), (10741, 0.5720775535473555), (10746, 0.5720775535473555), (10766, 0.5720775535473555), (10776, 0.5720775535473555), (10781, 0.5720775535473555), (10798, 0.5720775535473555), (10799, 0.5720775535473555), (10801, 0.5720775535473555), (10839, 0.5720775535473555), (10840, 0.5720775535473555), (10847, 0.5720775535473555), (10850, 0.5720775535473555), (10852, 0.5720775535473555), (10866, 0.5720775535473555), (10882, 0.5720775535473555), (10927, 0.5720775535473555), (10944, 0.5720775535473555), (10947, 0.5720775535473555), (10949, 0.5720775535473555), (10950, 0.5720775535473555), (10955, 0.5720775535473555), (10967, 0.5720775535473555), (10968, 0.5720775535473555), (10969, 0.5720775535473555), (11011, 0.5720775535473555), (11044, 0.5720775535473555), (11067, 0.5720775535473555), (11076, 0.5720775535473555), (11078, 0.5720775535473555), (11097, 0.5720775535473555), (11111, 0.5720775535473555), (11114, 0.5720775535473555), (11120, 0.5720775535473555), (11125, 0.5720775535473555), (11151, 0.5720775535473555), (11153, 0.5720775535473555), (11158, 0.5720775535473555), (11162, 0.5720775535473555), (11172, 0.5720775535473555), (11176, 0.5720775535473555), (11185, 0.5720775535473555), (11195, 0.5720775535473555), (11198, 0.5720775535473555), (11202, 0.5720775535473555), (11204, 0.5720775535473555), (11214, 0.5720775535473555), (11217, 0.5720775535473555), (11228, 0.5720775535473555), (11235, 0.5720775535473555), (11241, 0.5720775535473555), (11248, 0.5720775535473555), (11269, 0.5720775535473555), (11280, 0.5720775535473555), (11281, 0.5720775535473555), (11284, 0.5720775535473555), (11296, 0.5720775535473555), (11343, 0.5720775535473555), (11344, 0.5720775535473555), (11352, 0.5720775535473555), (11353, 0.5720775535473555), (11382, 0.5720775535473555), (11383, 0.5720775535473555), (11388, 0.5720775535473555), (11398, 0.5720775535473555), (11404, 0.5720775535473555), (11405, 0.5720775535473555), (11416, 0.5720775535473555), (11421, 0.5720775535473555), (11430, 0.5720775535473555), (11436, 0.5720775535473555), (11443, 0.5720775535473555), (11455, 0.5720775535473555), (11459, 0.5720775535473555), (11464, 0.5720775535473555), (11478, 0.5720775535473555), (11480, 0.5720775535473555), (11489, 0.5720775535473555), (11490, 0.5720775535473555), (11494, 0.5720775535473555), (11495, 0.5720775535473555), (11502, 0.5720775535473555), (11509, 0.5720775535473555), (11534, 0.5720775535473555), (11546, 0.5720775535473555), (11565, 0.5720775535473555), (11572, 0.5720775535473555), (11574, 0.5720775535473555), (11583, 0.5720775535473555), (11592, 0.5720775535473555), (11600, 0.5720775535473555), (11605, 0.5720775535473555), (11606, 0.5720775535473555), (11607, 0.5720775535473555), (11611, 0.5720775535473555), (11616, 0.5720775535473555), (11619, 0.5720775535473555), (11626, 0.5720775535473555), (11636, 0.5720775535473555), (11656, 0.5720775535473555), (11667, 0.5720775535473555), (11685, 0.5720775535473555), (11714, 0.5720775535473555), (11719, 0.5720775535473555), (11733, 0.5720775535473555), (11734, 0.5720775535473555), (11736, 0.5720775535473555), (11743, 0.5720775535473555), (11747, 0.5720775535473555), (11752, 0.5720775535473555), (11758, 0.5720775535473555), (11759, 0.5720775535473555), (11774, 0.5720775535473555), (11778, 0.5720775535473555), (11779, 0.5720775535473555), (11785, 0.5720775535473555), (11787, 0.5720775535473555), (11789, 0.5720775535473555), (11791, 0.5720775535473555), (11792, 0.5720775535473555), (11795, 0.5720775535473555), (11798, 0.5720775535473555), (11801, 0.5720775535473555), (11802, 0.5720775535473555), (11804, 0.5720775535473555), (11822, 0.5720775535473555), (11826, 0.5720775535473555), (11830, 0.5720775535473555), (11846, 0.5720775535473555), (11870, 0.5720775535473555), (11873, 0.5720775535473555), (11885, 0.5720775535473555), (11934, 0.5720775535473555), (11951, 0.5720775535473555), (11953, 0.5720775535473555), (11957, 0.5720775535473555), (11958, 0.5720775535473555), (11960, 0.5720775535473555), (11968, 0.5720775535473555), (11984, 0.5720775535473555), (11990, 0.5720775535473555), (12002, 0.5720775535473555), (12005, 0.5720775535473555), (12012, 0.5720775535473555), (12020, 0.5720775535473555), (12041, 0.5720775535473555), (12064, 0.5720775535473555), (12065, 0.5720775535473555), (12100, 0.5720775535473555), (12101, 0.5720775535473555), (12106, 0.5720775535473555), (12112, 0.5720775535473555), (12127, 0.5720775535473555), (12131, 0.5720775535473555), (12149, 0.5720775535473555), (12156, 0.5720775535473555), (12171, 0.5720775535473555), (12189, 0.5720775535473555), (12191, 0.5720775535473555), (12192, 0.5720775535473555), (12201, 0.5720775535473555), (12204, 0.5720775535473555), (12206, 0.5720775535473555), (12211, 0.5720775535473555), (12217, 0.5720775535473555), (12225, 0.5720775535473555), (12268, 0.5720775535473555), (12289, 0.5720775535473555), (12290, 0.5720775535473555), (12294, 0.5720775535473555), (12303, 0.5720775535473555), (12311, 0.5720775535473555), (12333, 0.5720775535473555), (12369, 0.5720775535473555), (12371, 0.5720775535473555), (12372, 0.5720775535473555), (12381, 0.5720775535473555), (12496, 0.5720775535473555), (12549, 0.5720775535473555), (12580, 0.5720775535473555), (12590, 0.5720775535473555), (12593, 0.5720775535473555), (12605, 0.5720775535473555), (12615, 0.5720775535473555), (12718, 0.5720775535473555), (12746, 0.5720775535473555), (12810, 0.5720775535473555), (12852, 0.5720775535473555), (12865, 0.5720775535473555), (12867, 0.5720775535473555), (12924, 0.5720775535473555), (12930, 0.5720775535473555), (12949, 0.5720775535473555), (12961, 0.5720775535473555), (12962, 0.5720775535473555), (12969, 0.5720775535473555), (2330, 0.5715476066494082), (5747, 0.5715476066494082), (6834, 0.5715476066494082), (7984, 0.5715476066494082), (8471, 0.5715476066494082), (8474, 0.5715476066494082), (8673, 0.5715476066494082), (8678, 0.5715476066494082), (8959, 0.5715476066494082), (8960, 0.5715476066494082), (8962, 0.5715476066494082), (9164, 0.5715476066494082), (9295, 0.5715476066494082), (9692, 0.5715476066494082), (9852, 0.5715476066494082), (9853, 0.5715476066494082), (9862, 0.5715476066494082), (10518, 0.5715476066494082), (11057, 0.5715476066494082), (11376, 0.5715476066494082), (12187, 0.5715476066494082), (12324, 0.5715476066494082), (12326, 0.5715476066494082), (12345, 0.5715476066494082), (12379, 0.5715476066494082), (12402, 0.5715476066494082), (12403, 0.5715476066494082), (12420, 0.5715476066494082), (12426, 0.5715476066494082), (12430, 0.5715476066494082), (12459, 0.5715476066494082), (12465, 0.5715476066494082), (12477, 0.5715476066494082), (12612, 0.5715476066494082), (12622, 0.5715476066494082), (12652, 0.5715476066494082), (12687, 0.5715476066494082), (12730, 0.5715476066494082), (12734, 0.5715476066494082), (12761, 0.5715476066494082), (12764, 0.5715476066494082), (12790, 0.5715476066494082), (12987, 0.5715476066494082), (12991, 0.5715476066494082), (5803, 0.5477225575051662), (6056, 0.5477225575051662), (6210, 0.5477225575051662), (6219, 0.5477225575051662), (6242, 0.5477225575051662), (6424, 0.5477225575051662), (6627, 0.5477225575051662), (6660, 0.5477225575051662), (6670, 0.5477225575051662), (6687, 0.5477225575051662), (6781, 0.5477225575051662), (7533, 0.5477225575051662), (7819, 0.5477225575051662), (7897, 0.5477225575051662), (7905, 0.5477225575051662), (9278, 0.5477225575051662), (9701, 0.5477225575051662), (9802, 0.5477225575051662), (9953, 0.5477225575051662), (10673, 0.5477225575051662), (10686, 0.5477225575051662), (10735, 0.5477225575051662), (10752, 0.5477225575051662), (12061, 0.5477225575051662), (12095, 0.5477225575051662), (12494, 0.5477225575051662), (12595, 0.5477225575051662), (12657, 0.5477225575051662), (5944, 0.5262348115842176), (6317, 0.5262348115842176), (6583, 0.5262348115842176), (7857, 0.5262348115842176), (12591, 0.5262348115842176), (12845, 0.5262348115842176), (11377, 0.5078333750770081), (12281, 0.5078333750770081), (12923, 0.5078333750770081), (5769, 0.50709255283711), (5789, 0.50709255283711), (5796, 0.50709255283711), (5797, 0.50709255283711), (5925, 0.50709255283711), (6162, 0.50709255283711), (6318, 0.50709255283711), (6444, 0.50709255283711), (6491, 0.50709255283711), (6796, 0.50709255283711), (6919, 0.50709255283711), (6972, 0.50709255283711), (7009, 0.50709255283711), (7440, 0.50709255283711), (7459, 0.50709255283711), (7596, 0.50709255283711), (7701, 0.50709255283711), (10363, 0.50709255283711), (11444, 0.50709255283711), (11635, 0.50709255283711), (12914, 0.50709255283711), (19, 0.5), (25, 0.5), (29, 0.5), (35, 0.5), (36, 0.5), (38, 0.5), (43, 0.5), (47, 0.5), (48, 0.5), (49, 0.5), (55, 0.5), (58, 0.5), (63, 0.5), (65, 0.5), (66, 0.5), (71, 0.5), (81, 0.5), (84, 0.5), (87, 0.5), (88, 0.5), (96, 0.5), (101, 0.5), (106, 0.5), (118, 0.5), (126, 0.5), (140, 0.5), (142, 0.5), (145, 0.5), (154, 0.5), (159, 0.5), (165, 0.5), (166, 0.5), (167, 0.5), (168, 0.5), (175, 0.5), (177, 0.5), (180, 0.5), (181, 0.5), (183, 0.5), (185, 0.5), (187, 0.5), (192, 0.5), (193, 0.5), (194, 0.5), (195, 0.5), (196, 0.5), (197, 0.5), (199, 0.5), (200, 0.5), (202, 0.5), (203, 0.5), (207, 0.5), (218, 0.5), (219, 0.5), (220, 0.5), (230, 0.5), (231, 0.5), (233, 0.5), (237, 0.5), (242, 0.5), (252, 0.5), (259, 0.5), (271, 0.5), (275, 0.5), (277, 0.5), (286, 0.5), (287, 0.5), (304, 0.5), (306, 0.5), (307, 0.5), (308, 0.5), (311, 0.5), (316, 0.5), (318, 0.5), (319, 0.5), (329, 0.5), (330, 0.5), (331, 0.5), (333, 0.5), (335, 0.5), (337, 0.5), (340, 0.5), (341, 0.5), (343, 0.5), (350, 0.5), (351, 0.5), (352, 0.5), (355, 0.5), (357, 0.5), (372, 0.5), (373, 0.5), (375, 0.5), (378, 0.5), (379, 0.5), (381, 0.5), (385, 0.5), (386, 0.5), (389, 0.5), (390, 0.5), (398, 0.5), (402, 0.5), (403, 0.5), (404, 0.5), (405, 0.5), (413, 0.5), (417, 0.5), (418, 0.5), (421, 0.5), (428, 0.5), (431, 0.5), (433, 0.5), (448, 0.5), (456, 0.5), (457, 0.5), (458, 0.5), (463, 0.5), (464, 0.5), (471, 0.5), (473, 0.5), (478, 0.5), (480, 0.5), (489, 0.5), (490, 0.5), (492, 0.5), (500, 0.5), (502, 0.5), (503, 0.5), (504, 0.5), (505, 0.5), (516, 0.5), (529, 0.5), (531, 0.5), (533, 0.5), (535, 0.5), (537, 0.5), (538, 0.5), (540, 0.5), (542, 0.5), (548, 0.5), (590, 0.5), (591, 0.5), (593, 0.5), (598, 0.5), (599, 0.5), (602, 0.5), (614, 0.5), (618, 0.5), (624, 0.5), (635, 0.5), (637, 0.5), (642, 0.5), (643, 0.5), (644, 0.5), (647, 0.5), (648, 0.5), (649, 0.5), (650, 0.5), (651, 0.5), (652, 0.5), (653, 0.5), (657, 0.5), (660, 0.5), (682, 0.5), (684, 0.5), (687, 0.5), (688, 0.5), (689, 0.5), (690, 0.5), (691, 0.5), (693, 0.5), (694, 0.5), (695, 0.5), (700, 0.5), (714, 0.5), (715, 0.5), (716, 0.5), (723, 0.5), (724, 0.5), (725, 0.5), (727, 0.5), (730, 0.5), (733, 0.5), (736, 0.5), (737, 0.5), (738, 0.5), (744, 0.5), (745, 0.5), (747, 0.5), (763, 0.5), (765, 0.5), (770, 0.5), (772, 0.5), (774, 0.5), (778, 0.5), (789, 0.5), (801, 0.5), (805, 0.5), (810, 0.5), (816, 0.5), (817, 0.5), (819, 0.5), (821, 0.5), (823, 0.5), (826, 0.5), (827, 0.5), (834, 0.5), (843, 0.5), (844, 0.5), (845, 0.5), (850, 0.5), (865, 0.5), (898, 0.5), (899, 0.5), (905, 0.5), (906, 0.5), (910, 0.5), (923, 0.5), (932, 0.5), (933, 0.5), (935, 0.5), (938, 0.5), (943, 0.5), (944, 0.5), (950, 0.5), (953, 0.5), (956, 0.5), (957, 0.5), (960, 0.5), (961, 0.5), (962, 0.5), (963, 0.5), (964, 0.5), (971, 0.5), (976, 0.5), (990, 0.5), (1000, 0.5), (1011, 0.5), (1014, 0.5), (1017, 0.5), (1018, 0.5), (1019, 0.5), (1020, 0.5), (1024, 0.5), (1025, 0.5), (1028, 0.5), (1029, 0.5), (1036, 0.5), (1043, 0.5), (1052, 0.5), (1055, 0.5), (1057, 0.5), (1060, 0.5), (1061, 0.5), (1062, 0.5), (1076, 0.5), (1077, 0.5), (1079, 0.5), (1083, 0.5), (1086, 0.5), (1091, 0.5), (1100, 0.5), (1121, 0.5), (1126, 0.5), (1131, 0.5), (1132, 0.5), (1133, 0.5), (1135, 0.5), (1136, 0.5), (1147, 0.5), (1150, 0.5), (1162, 0.5), (1174, 0.5), (1177, 0.5), (1178, 0.5), (1179, 0.5), (1195, 0.5), (1196, 0.5), (1197, 0.5), (1226, 0.5), (1229, 0.5), (1230, 0.5), (1239, 0.5), (1241, 0.5), (1243, 0.5), (1246, 0.5), (1247, 0.5), (1252, 0.5), (1253, 0.5), (1268, 0.5), (1272, 0.5), (1274, 0.5), (1276, 0.5), (1294, 0.5), (1329, 0.5), (1330, 0.5), (1335, 0.5), (1338, 0.5), (1339, 0.5), (1340, 0.5), (1341, 0.5), (1342, 0.5), (1345, 0.5), (1346, 0.5), (1347, 0.5), (1356, 0.5), (1358, 0.5), (1359, 0.5), (1360, 0.5), (1361, 0.5), (1362, 0.5), (1363, 0.5), (1364, 0.5), (1365, 0.5), (1366, 0.5), (1367, 0.5), (1369, 0.5), (1371, 0.5), (1372, 0.5), (1377, 0.5), (1389, 0.5), (1394, 0.5), (1396, 0.5), (1402, 0.5), (1404, 0.5), (1405, 0.5), (1423, 0.5), (1427, 0.5), (1432, 0.5), (1434, 0.5), (1439, 0.5), (1461, 0.5), (1462, 0.5), (1470, 0.5), (1475, 0.5), (1476, 0.5), (1479, 0.5), (1480, 0.5), (1481, 0.5), (1483, 0.5), (1488, 0.5), (1492, 0.5), (1494, 0.5), (1495, 0.5), (1498, 0.5), (1499, 0.5), (1506, 0.5), (1512, 0.5), (1515, 0.5), (1519, 0.5), (1520, 0.5), (1524, 0.5), (1537, 0.5), (1540, 0.5), (1541, 0.5), (1544, 0.5), (1546, 0.5), (1552, 0.5), (1554, 0.5), (1560, 0.5), (1562, 0.5), (1563, 0.5), (1571, 0.5), (1573, 0.5), (1578, 0.5), (1589, 0.5), (1590, 0.5), (1593, 0.5), (1597, 0.5), (1598, 0.5), (1608, 0.5), (1610, 0.5), (1611, 0.5), (1613, 0.5), (1618, 0.5), (1619, 0.5), (1621, 0.5), (1632, 0.5), (1634, 0.5), (1636, 0.5), (1640, 0.5), (1641, 0.5), (1642, 0.5), (1643, 0.5), (1649, 0.5), (1650, 0.5), (1651, 0.5), (1654, 0.5), (1656, 0.5), (1658, 0.5), (1659, 0.5), (1663, 0.5), (1664, 0.5), (1665, 0.5), (1667, 0.5), (1668, 0.5), (1671, 0.5), (1673, 0.5), (1682, 0.5), (1684, 0.5), (1689, 0.5), (1691, 0.5), (1694, 0.5), (1695, 0.5), (1697, 0.5), (1700, 0.5), (1701, 0.5), (1703, 0.5), (1705, 0.5), (1710, 0.5), (1717, 0.5), (1718, 0.5), (1726, 0.5), (1730, 0.5), (1735, 0.5), (1736, 0.5), (1746, 0.5), (1747, 0.5), (1748, 0.5), (1749, 0.5), (1751, 0.5), (1752, 0.5), (1754, 0.5), (1765, 0.5), (1766, 0.5), (1771, 0.5), (1775, 0.5), (1780, 0.5), (1784, 0.5), (1787, 0.5), (1789, 0.5), (1797, 0.5), (1809, 0.5), (1811, 0.5), (1812, 0.5), (1813, 0.5), (1822, 0.5), (1828, 0.5), (1830, 0.5), (1831, 0.5), (1832, 0.5), (1841, 0.5), (1843, 0.5), (1851, 0.5), (1857, 0.5), (1861, 0.5), (1866, 0.5), (1872, 0.5), (1873, 0.5), (1874, 0.5), (1875, 0.5), (1876, 0.5), (1881, 0.5), (1883, 0.5), (1884, 0.5), (1886, 0.5), (1887, 0.5), (1890, 0.5), (1892, 0.5), (1903, 0.5), (1919, 0.5), (1922, 0.5), (1924, 0.5), (1941, 0.5), (1943, 0.5), (1948, 0.5), (1952, 0.5), (1953, 0.5), (1967, 0.5), (1968, 0.5), (1971, 0.5), (1977, 0.5), (1979, 0.5), (1980, 0.5), (1985, 0.5), (1987, 0.5), (1992, 0.5), (1993, 0.5), (1999, 0.5), (2000, 0.5), (2001, 0.5), (2003, 0.5), (2004, 0.5), (2012, 0.5), (2015, 0.5), (2016, 0.5), (2021, 0.5), (2023, 0.5), (2025, 0.5), (2026, 0.5), (2028, 0.5), (2031, 0.5), (2035, 0.5), (2043, 0.5), (2046, 0.5), (2052, 0.5), (2056, 0.5), (2062, 0.5), (2066, 0.5), (2069, 0.5), (2080, 0.5), (2082, 0.5), (2087, 0.5), (2090, 0.5), (2094, 0.5), (2096, 0.5), (2100, 0.5), (2103, 0.5), (2104, 0.5), (2108, 0.5), (2110, 0.5), (2118, 0.5), (2119, 0.5), (2122, 0.5), (2123, 0.5), (2132, 0.5), (2139, 0.5), (2141, 0.5), (2146, 0.5), (2152, 0.5), (2156, 0.5), (2159, 0.5), (2162, 0.5), (2164, 0.5), (2167, 0.5), (2175, 0.5), (2176, 0.5), (2178, 0.5), (2180, 0.5), (2181, 0.5), (2185, 0.5), (2187, 0.5), (2198, 0.5), (2204, 0.5), (2210, 0.5), (2213, 0.5), (2218, 0.5), (2222, 0.5), (2226, 0.5), (2232, 0.5), (2234, 0.5), (2239, 0.5), (2240, 0.5), (2242, 0.5), (2245, 0.5), (2248, 0.5), (2251, 0.5), (2255, 0.5), (2256, 0.5), (2258, 0.5), (2260, 0.5), (2263, 0.5), (2267, 0.5), (2268, 0.5), (2269, 0.5), (2271, 0.5), (2277, 0.5), (2278, 0.5), (2279, 0.5), (2281, 0.5), (2283, 0.5), (2284, 0.5), (2287, 0.5), (2289, 0.5), (2291, 0.5), (2292, 0.5), (2295, 0.5), (2296, 0.5), (2299, 0.5), (2302, 0.5), (2304, 0.5), (2306, 0.5), (2309, 0.5), (2311, 0.5), (2314, 0.5), (2316, 0.5), (2317, 0.5), (2318, 0.5), (2321, 0.5), (2324, 0.5), (2326, 0.5), (2328, 0.5), (2334, 0.5), (2337, 0.5), (2338, 0.5), (2339, 0.5), (2340, 0.5), (2341, 0.5), (2342, 0.5), (2343, 0.5), (2344, 0.5), (2345, 0.5), (2364, 0.5), (2370, 0.5), (2385, 0.5), (2386, 0.5), (2389, 0.5), (2393, 0.5), (2397, 0.5), (2398, 0.5), (2412, 0.5), (2413, 0.5), (2414, 0.5), (2415, 0.5), (2416, 0.5), (2422, 0.5), (2427, 0.5), (2428, 0.5), (2429, 0.5), (2444, 0.5), (2445, 0.5), (2449, 0.5), (2451, 0.5), (2453, 0.5), (2454, 0.5), (2458, 0.5), (2463, 0.5), (2465, 0.5), (2466, 0.5), (2467, 0.5), (2471, 0.5), (2497, 0.5), (2502, 0.5), (2506, 0.5), (2507, 0.5), (2508, 0.5), (2509, 0.5), (2510, 0.5), (2512, 0.5), (2515, 0.5), (2517, 0.5), (2521, 0.5), (2523, 0.5), (2524, 0.5), (2525, 0.5), (2527, 0.5), (2529, 0.5), (2531, 0.5), (2535, 0.5), (2536, 0.5), (2539, 0.5), (2542, 0.5), (2544, 0.5), (2547, 0.5), (2551, 0.5), (2553, 0.5), (2558, 0.5), (2561, 0.5), (2562, 0.5), (2574, 0.5), (2581, 0.5), (2586, 0.5), (2587, 0.5), (2595, 0.5), (2597, 0.5), (2599, 0.5), (2600, 0.5), (2601, 0.5), (2603, 0.5), (2607, 0.5), (2614, 0.5), (2615, 0.5), (2620, 0.5), (2622, 0.5), (2626, 0.5), (2629, 0.5), (2630, 0.5), (2642, 0.5), (2654, 0.5), (2655, 0.5), (2658, 0.5), (2662, 0.5), (2664, 0.5), (2687, 0.5), (2689, 0.5), (2692, 0.5), (2695, 0.5), (2701, 0.5), (2703, 0.5), (2710, 0.5), (2717, 0.5), (2718, 0.5), (2719, 0.5), (2720, 0.5), (2721, 0.5), (2729, 0.5), (2735, 0.5), (2742, 0.5), (2743, 0.5), (2746, 0.5), (2748, 0.5), (2751, 0.5), (2755, 0.5), (2759, 0.5), (2762, 0.5), (2766, 0.5), (2767, 0.5), (2771, 0.5), (2772, 0.5), (2777, 0.5), (2779, 0.5), (2780, 0.5), (2781, 0.5), (2785, 0.5), (2786, 0.5), (2790, 0.5), (2791, 0.5), (2795, 0.5), (2802, 0.5), (2804, 0.5), (2811, 0.5), (2814, 0.5), (2815, 0.5), (2816, 0.5), (2822, 0.5), (2823, 0.5), (2826, 0.5), (2827, 0.5), (2830, 0.5), (2833, 0.5), (2838, 0.5), (2845, 0.5), (2847, 0.5), (2850, 0.5), (2851, 0.5), (2862, 0.5), (2863, 0.5), (2864, 0.5), (2870, 0.5), (2871, 0.5), (2877, 0.5), (2889, 0.5), (2891, 0.5), (2897, 0.5), (2903, 0.5), (2906, 0.5), (2914, 0.5), (2917, 0.5), (2919, 0.5), (2920, 0.5), (2943, 0.5), (2944, 0.5), (2948, 0.5), (2951, 0.5), (2956, 0.5), (2957, 0.5), (2958, 0.5), (2959, 0.5), (2960, 0.5), (2971, 0.5), (2972, 0.5), (2973, 0.5), (2976, 0.5), (2977, 0.5), (2978, 0.5), (2979, 0.5), (2981, 0.5), (2983, 0.5), (2989, 0.5), (2991, 0.5), (2992, 0.5), (2993, 0.5), (2996, 0.5), (3000, 0.5), (3007, 0.5), (3010, 0.5), (3017, 0.5), (3019, 0.5), (3023, 0.5), (3027, 0.5), (3028, 0.5), (3031, 0.5), (3033, 0.5), (3034, 0.5), (3035, 0.5), (3037, 0.5), (3041, 0.5), (3043, 0.5), (3047, 0.5), (3055, 0.5), (3056, 0.5), (3057, 0.5), (3061, 0.5), (3070, 0.5), (3075, 0.5), (3079, 0.5), (3086, 0.5), (3087, 0.5), (3090, 0.5), (3091, 0.5), (3095, 0.5), (3101, 0.5), (3102, 0.5), (3105, 0.5), (3115, 0.5), (3119, 0.5), (3121, 0.5), (3127, 0.5), (3128, 0.5), (3134, 0.5), (3140, 0.5), (3146, 0.5), (3149, 0.5), (3160, 0.5), (3162, 0.5), (3165, 0.5), (3169, 0.5), (3172, 0.5), (3176, 0.5), (3179, 0.5), (3183, 0.5), (3189, 0.5), (3190, 0.5), (3192, 0.5), (3203, 0.5), (3207, 0.5), (3210, 0.5), (3211, 0.5), (3216, 0.5), (3218, 0.5), (3223, 0.5), (3235, 0.5), (3241, 0.5), (3242, 0.5), (3245, 0.5), (3250, 0.5), (3251, 0.5), (3254, 0.5), (3256, 0.5), (3257, 0.5), (3258, 0.5), (3262, 0.5), (3263, 0.5), (3264, 0.5), (3266, 0.5), (3267, 0.5), (3268, 0.5), (3273, 0.5), (3282, 0.5), (3285, 0.5), (3288, 0.5), (3290, 0.5), (3292, 0.5), (3300, 0.5), (3302, 0.5), (3304, 0.5), (3307, 0.5), (3312, 0.5), (3320, 0.5), (3328, 0.5), (3333, 0.5), (3335, 0.5), (3348, 0.5), (3356, 0.5), (3357, 0.5), (3359, 0.5), (3360, 0.5), (3363, 0.5), (3364, 0.5), (3365, 0.5), (3377, 0.5), (3378, 0.5), (3380, 0.5), (3389, 0.5), (3390, 0.5), (3395, 0.5), (3398, 0.5), (3400, 0.5), (3406, 0.5), (3408, 0.5), (3413, 0.5), (3414, 0.5), (3416, 0.5), (3417, 0.5), (3418, 0.5), (3423, 0.5), (3426, 0.5), (3430, 0.5), (3432, 0.5), (3434, 0.5), (3437, 0.5), (3438, 0.5), (3443, 0.5), (3444, 0.5), (3445, 0.5), (3447, 0.5), (3451, 0.5), (3455, 0.5), (3462, 0.5), (3466, 0.5), (3468, 0.5), (3469, 0.5), (3471, 0.5), (3472, 0.5), (3476, 0.5), (3480, 0.5), (3485, 0.5), (3489, 0.5), (3492, 0.5), (3493, 0.5), (3494, 0.5), (3495, 0.5), (3502, 0.5), (3505, 0.5), (3507, 0.5), (3508, 0.5), (3511, 0.5), (3512, 0.5), (3514, 0.5), (3522, 0.5), (3524, 0.5), (3525, 0.5), (3526, 0.5), (3528, 0.5), (3533, 0.5), (3534, 0.5), (3536, 0.5), (3542, 0.5), (3544, 0.5), (3546, 0.5), (3547, 0.5), (3550, 0.5), (3555, 0.5), (3556, 0.5), (3557, 0.5), (3560, 0.5), (3565, 0.5), (3570, 0.5), (3571, 0.5), (3575, 0.5), (3579, 0.5), (3588, 0.5), (3590, 0.5), (3592, 0.5), (3593, 0.5), (3596, 0.5), (3604, 0.5), (3605, 0.5), (3609, 0.5), (3614, 0.5), (3616, 0.5), (3620, 0.5), (3621, 0.5), (3622, 0.5), (3624, 0.5), (3626, 0.5), (3631, 0.5), (3633, 0.5), (3636, 0.5), (3645, 0.5), (3646, 0.5), (3647, 0.5), (3649, 0.5), (3651, 0.5), (3653, 0.5), (3654, 0.5), (3656, 0.5), (3658, 0.5), (3660, 0.5), (3665, 0.5), (3678, 0.5), (3680, 0.5), (3681, 0.5), (3683, 0.5), (3684, 0.5), (3685, 0.5), (3688, 0.5), (3692, 0.5), (3706, 0.5), (3707, 0.5), (3710, 0.5), (3711, 0.5), (3713, 0.5), (3714, 0.5), (3715, 0.5), (3720, 0.5), (3732, 0.5), (3735, 0.5), (3737, 0.5), (3743, 0.5), (3748, 0.5), (3749, 0.5), (3761, 0.5), (3768, 0.5), (3778, 0.5), (3779, 0.5), (3782, 0.5), (3792, 0.5), (3795, 0.5), (3811, 0.5), (3812, 0.5), (3813, 0.5), (3816, 0.5), (3818, 0.5), (3821, 0.5), (3828, 0.5), (3829, 0.5), (3830, 0.5), (3831, 0.5), (3832, 0.5), (3833, 0.5), (3834, 0.5), (3835, 0.5), (3836, 0.5), (3837, 0.5), (3838, 0.5), (3839, 0.5), (3840, 0.5), (3841, 0.5), (3843, 0.5), (3844, 0.5), (3845, 0.5), (3850, 0.5), (3853, 0.5), (3854, 0.5), (3859, 0.5), (3864, 0.5), (3866, 0.5), (3872, 0.5), (3873, 0.5), (3874, 0.5), (3876, 0.5), (3879, 0.5), (3882, 0.5), (3884, 0.5), (3889, 0.5), (3896, 0.5), (3902, 0.5), (3903, 0.5), (3906, 0.5), (3907, 0.5), (3908, 0.5), (3911, 0.5), (3915, 0.5), (3916, 0.5), (3919, 0.5), (3927, 0.5), (3932, 0.5), (3933, 0.5), (3934, 0.5), (3936, 0.5), (3937, 0.5), (3940, 0.5), (3944, 0.5), (3945, 0.5), (3950, 0.5), (3952, 0.5), (3953, 0.5), (3954, 0.5), (3955, 0.5), (3961, 0.5), (3972, 0.5), (3974, 0.5), (3981, 0.5), (3983, 0.5), (3988, 0.5), (3994, 0.5), (3998, 0.5), (4003, 0.5), (4005, 0.5), (4006, 0.5), (4010, 0.5), (4013, 0.5), (4023, 0.5), (4027, 0.5), (4032, 0.5), (4034, 0.5), (4035, 0.5), (4039, 0.5), (4040, 0.5), (4044, 0.5), (4046, 0.5), (4049, 0.5), (4054, 0.5), (4055, 0.5), (4060, 0.5), (4061, 0.5), (4065, 0.5), (4066, 0.5), (4070, 0.5), (4073, 0.5), (4076, 0.5), (4079, 0.5), (4082, 0.5), (4084, 0.5), (4085, 0.5), (4093, 0.5), (4096, 0.5), (4097, 0.5), (4106, 0.5), (4108, 0.5), (4113, 0.5), (4115, 0.5), (4116, 0.5), (4117, 0.5), (4124, 0.5), (4129, 0.5), (4130, 0.5), (4138, 0.5), (4139, 0.5), (4161, 0.5), (4164, 0.5), (4165, 0.5), (4173, 0.5), (4174, 0.5), (4182, 0.5), (4187, 0.5), (4199, 0.5), (4200, 0.5), (4203, 0.5), (4207, 0.5), (4209, 0.5), (4211, 0.5), (4215, 0.5), (4216, 0.5), (4218, 0.5), (4222, 0.5), (4225, 0.5), (4228, 0.5), (4230, 0.5), (4234, 0.5), (4237, 0.5), (4239, 0.5), (4246, 0.5), (4250, 0.5), (4251, 0.5), (4252, 0.5), (4253, 0.5), (4257, 0.5), (4259, 0.5), (4261, 0.5), (4262, 0.5), (4266, 0.5), (4267, 0.5), (4277, 0.5), (4279, 0.5), (4281, 0.5), (4285, 0.5), (4287, 0.5), (4295, 0.5), (4301, 0.5), (4303, 0.5), (4306, 0.5), (4307, 0.5), (4309, 0.5), (4328, 0.5), (4333, 0.5), (4334, 0.5), (4335, 0.5), (4336, 0.5), (4346, 0.5), (4348, 0.5), (4350, 0.5), (4360, 0.5), (4366, 0.5), (4367, 0.5), (4371, 0.5), (4374, 0.5), (4376, 0.5), (4378, 0.5), (4383, 0.5), (4385, 0.5), (4388, 0.5), (4389, 0.5), (4398, 0.5), (4399, 0.5), (4400, 0.5), (4405, 0.5), (4417, 0.5), (4419, 0.5), (4422, 0.5), (4425, 0.5), (4431, 0.5), (4440, 0.5), (4442, 0.5), (4449, 0.5), (4450, 0.5), (4451, 0.5), (4457, 0.5), (4460, 0.5), (4463, 0.5), (4464, 0.5), (4466, 0.5), (4467, 0.5), (4475, 0.5), (4476, 0.5), (4481, 0.5), (4484, 0.5), (4488, 0.5), (4493, 0.5), (4494, 0.5), (4507, 0.5), (4509, 0.5), (4516, 0.5), (4518, 0.5), (4526, 0.5), (4530, 0.5), (4538, 0.5), (4546, 0.5), (4549, 0.5), (4550, 0.5), (4562, 0.5), (4563, 0.5), (4566, 0.5), (4570, 0.5), (4581, 0.5), (4582, 0.5), (4585, 0.5), (4586, 0.5), (4587, 0.5), (4590, 0.5), (4600, 0.5), (4602, 0.5), (4603, 0.5), (4604, 0.5), (4605, 0.5), (4607, 0.5), (4608, 0.5), (4609, 0.5), (4614, 0.5), (4619, 0.5), (4621, 0.5), (4624, 0.5), (4625, 0.5), (4629, 0.5), (4640, 0.5), (4643, 0.5), (4644, 0.5), (4650, 0.5), (4651, 0.5), (4652, 0.5), (4664, 0.5), (4665, 0.5), (4667, 0.5), (4670, 0.5), (4672, 0.5), (4679, 0.5), (4685, 0.5), (4695, 0.5), (4699, 0.5), (4701, 0.5), (4705, 0.5), (4706, 0.5), (4709, 0.5), (4710, 0.5), (4714, 0.5), (4717, 0.5), (4729, 0.5), (4731, 0.5), (4732, 0.5), (4737, 0.5), (4740, 0.5), (4745, 0.5), (4750, 0.5), (4751, 0.5), (4752, 0.5), (4755, 0.5), (4756, 0.5), (4757, 0.5), (4758, 0.5), (4759, 0.5), (4763, 0.5), (4764, 0.5), (4767, 0.5), (4771, 0.5), (4772, 0.5), (4773, 0.5), (4788, 0.5), (4798, 0.5), (4800, 0.5), (4805, 0.5), (4807, 0.5), (4821, 0.5), (4824, 0.5), (4825, 0.5), (4827, 0.5), (4831, 0.5), (4835, 0.5), (4837, 0.5), (4840, 0.5), (4841, 0.5), (4842, 0.5), (4843, 0.5), (4848, 0.5), (4849, 0.5), (4851, 0.5), (4853, 0.5), (4859, 0.5), (4862, 0.5), (4865, 0.5), (4866, 0.5), (4867, 0.5), (4868, 0.5), (4869, 0.5), (4871, 0.5), (4875, 0.5), (4876, 0.5), (4880, 0.5), (4881, 0.5), (4890, 0.5), (4895, 0.5), (4898, 0.5), (4906, 0.5), (4908, 0.5), (4921, 0.5), (4924, 0.5), (4927, 0.5), (4931, 0.5), (4936, 0.5), (4941, 0.5), (4942, 0.5), (4944, 0.5), (4949, 0.5), (4959, 0.5), (4965, 0.5), (4968, 0.5), (4980, 0.5), (4986, 0.5), (4988, 0.5), (4991, 0.5), (4997, 0.5), (4998, 0.5), (5007, 0.5), (5013, 0.5), (5015, 0.5), (5024, 0.5), (5041, 0.5), (5043, 0.5), (5046, 0.5), (5050, 0.5), (5053, 0.5), (5068, 0.5), (5069, 0.5), (5073, 0.5), (5074, 0.5), (5081, 0.5), (5082, 0.5), (5087, 0.5), (5090, 0.5), (5094, 0.5), (5098, 0.5), (5101, 0.5), (5106, 0.5), (5109, 0.5), (5110, 0.5), (5111, 0.5), (5119, 0.5), (5120, 0.5), (5125, 0.5), (5135, 0.5), (5139, 0.5), (5149, 0.5), (5150, 0.5), (5154, 0.5), (5170, 0.5), (5171, 0.5), (5172, 0.5), (5173, 0.5), (5175, 0.5), (5179, 0.5), (5185, 0.5), (5188, 0.5), (5190, 0.5), (5197, 0.5), (5201, 0.5), (5204, 0.5), (5207, 0.5), (5208, 0.5), (5212, 0.5), (5214, 0.5), (5215, 0.5), (5216, 0.5), (5218, 0.5), (5227, 0.5), (5229, 0.5), (5230, 0.5), (5237, 0.5), (5240, 0.5), (5244, 0.5), (5245, 0.5), (5246, 0.5), (5251, 0.5), (5252, 0.5), (5262, 0.5), (5265, 0.5), (5270, 0.5), (5275, 0.5), (5279, 0.5), (5281, 0.5), (5283, 0.5), (5284, 0.5), (5285, 0.5), (5292, 0.5), (5293, 0.5), (5294, 0.5), (5295, 0.5), (5298, 0.5), (5303, 0.5), (5309, 0.5), (5316, 0.5), (5317, 0.5), (5320, 0.5), (5326, 0.5), (5327, 0.5), (5332, 0.5), (5337, 0.5), (5338, 0.5), (5343, 0.5), (5345, 0.5), (5349, 0.5), (5353, 0.5), (5358, 0.5), (5365, 0.5), (5368, 0.5), (5369, 0.5), (5371, 0.5), (5373, 0.5), (5379, 0.5), (5388, 0.5), (5389, 0.5), (5390, 0.5), (5396, 0.5), (5399, 0.5), (5401, 0.5), (5403, 0.5), (5405, 0.5), (5407, 0.5), (5419, 0.5), (5430, 0.5), (5431, 0.5), (5433, 0.5), (5436, 0.5), (5439, 0.5), (5442, 0.5), (5443, 0.5), (5445, 0.5), (5459, 0.5), (5460, 0.5), (5465, 0.5), (5470, 0.5), (5471, 0.5), (5475, 0.5), (5480, 0.5), (5482, 0.5), (5497, 0.5), (5500, 0.5), (5503, 0.5), (5507, 0.5), (5508, 0.5), (5510, 0.5), (5522, 0.5), (5526, 0.5), (5527, 0.5), (5530, 0.5), (5541, 0.5), (5545, 0.5), (5546, 0.5), (5555, 0.5), (5559, 0.5), (5567, 0.5), (5573, 0.5), (5575, 0.5), (5580, 0.5), (5588, 0.5), (5590, 0.5), (5595, 0.5), (5596, 0.5), (5598, 0.5), (5610, 0.5), (5611, 0.5), (5614, 0.5), (5618, 0.5), (5621, 0.5), (5624, 0.5), (5630, 0.5), (5635, 0.5), (5638, 0.5), (5640, 0.5), (5642, 0.5), (5645, 0.5), (5647, 0.5), (5650, 0.5), (5653, 0.5), (5659, 0.5), (5663, 0.5), (5667, 0.5), (5678, 0.5), (5681, 0.5), (5683, 0.5), (5685, 0.5), (5690, 0.5), (5691, 0.5), (5692, 0.5), (5697, 0.5), (5699, 0.5), (5700, 0.5), (5702, 0.5), (5704, 0.5), (5709, 0.5), (5711, 0.5), (5716, 0.5), (5718, 0.5), (5719, 0.5), (5724, 0.5), (5729, 0.5), (5730, 0.5), (5731, 0.5), (5732, 0.5), (5734, 0.5), (5735, 0.5), (5736, 0.5), (5737, 0.5), (5738, 0.5), (5739, 0.5), (5740, 0.5), (5741, 0.5), (5742, 0.5), (5743, 0.5), (6021, 0.5), (6115, 0.5), (6163, 0.5), (6164, 0.5), (6185, 0.5), (6216, 0.5), (6243, 0.5), (6466, 0.5), (6474, 0.5), (6475, 0.5), (6519, 0.5), (6533, 0.5), (6536, 0.5), (6544, 0.5), (6575, 0.5), (6631, 0.5), (6650, 0.5), (6684, 0.5), (6709, 0.5), (6713, 0.5), (6729, 0.5), (6732, 0.5), (6846, 0.5), (6861, 0.5), (6910, 0.5), (6925, 0.5), (6940, 0.5), (6973, 0.5), (7018, 0.5), (7057, 0.5), (7074, 0.5), (7109, 0.5), (7133, 0.5), (7161, 0.5), (7167, 0.5), (7175, 0.5), (7176, 0.5), (7181, 0.5), (7207, 0.5), (7268, 0.5), (7272, 0.5), (7275, 0.5), (7295, 0.5), (7297, 0.5), (7300, 0.5), (7323, 0.5), (7345, 0.5), (7346, 0.5), (7369, 0.5), (7385, 0.5), (7399, 0.5), (7403, 0.5), (7406, 0.5), (7429, 0.5), (7439, 0.5), (7453, 0.5), (7461, 0.5), (7516, 0.5), (7520, 0.5), (7566, 0.5), (7686, 0.5), (7689, 0.5), (7699, 0.5), (7710, 0.5), (7771, 0.5), (7800, 0.5), (7917, 0.5), (8229, 0.5), (8597, 0.5), (8598, 0.5), (8605, 0.5), (8914, 0.5), (8939, 0.5), (9172, 0.5), (9516, 0.5), (9609, 0.5), (9743, 0.5), (9755, 0.5), (9825, 0.5), (10262, 0.5), (10736, 0.5), (10795, 0.5), (10831, 0.5), (10832, 0.5), (10951, 0.5), (10985, 0.5), (11147, 0.5), (11415, 0.5), (11543, 0.5), (11843, 0.5), (11979, 0.5), (11994, 0.5), (12001, 0.5), (12360, 0.5), (12375, 0.5), (12387, 0.5), (12408, 0.5), (12417, 0.5), (12423, 0.5), (12441, 0.5), (12445, 0.5), (12451, 0.5), (12453, 0.5), (12499, 0.5), (12506, 0.5), (12543, 0.5), (12554, 0.5), (12562, 0.5), (12583, 0.5), (12609, 0.5), (12663, 0.5), (12665, 0.5), (12666, 0.5), (12721, 0.5), (12735, 0.5), (12758, 0.5), (12793, 0.5), (12821, 0.5), (12847, 0.5), (12854, 0.5), (12855, 0.5), (12856, 0.5), (12877, 0.5), (12879, 0.5), (12880, 0.5), (12881, 0.5), (12882, 0.5), (12883, 0.5), (12884, 0.5), (12889, 0.5), (12890, 0.5), (12891, 0.5), (12897, 0.5), (12898, 0.5), (12899, 0.5), (12902, 0.5), (12903, 0.5), (12904, 0.5), (12905, 0.5), (12906, 0.5), (12907, 0.5), (12908, 0.5), (12926, 0.5), (12940, 0.5), (12947, 0.5), (12968, 0.5), (12970, 0.5), (12971, 0.5), (12975, 0.5), (6685, 0.48989794855663554), (7578, 0.48989794855663554), (9320, 0.48989794855663554), (10112, 0.48989794855663554), (10447, 0.48989794855663554), (12688, 0.48989794855663554), (12689, 0.48989794855663554), (12710, 0.48989794855663554), (1387, 0.4767312946227962), (2472, 0.4767312946227962), (4567, 0.4767312946227962), (4741, 0.4767312946227962), (5071, 0.4767312946227962), (5570, 0.4767312946227962), (5572, 0.4767312946227962), (5587, 0.4767312946227962), (6319, 0.4767312946227962), (6777, 0.4767312946227962), (7973, 0.4767312946227962), (8846, 0.4767312946227962), (9592, 0.4767312946227962), (10814, 0.4767312946227962), (11207, 0.4767312946227962), (11242, 0.4767312946227962), (12395, 0.4767312946227962), (12574, 0.4767312946227962), (12717, 0.4767312946227962), (12738, 0.4767312946227962), (12797, 0.4767312946227962), (12893, 0.4767312946227962), (12429, 0.47434164902525694), (12569, 0.4564354645876385), (12708, 0.4564354645876385), (11291, 0.43528575006600695), (12592, 0.43528575006600695), (12654, 0.43528575006600695), (12796, 0.42257712736425834), (37, 0.4), (39, 0.4), (40, 0.4), (51, 0.4), (52, 0.4), (56, 0.4), (57, 0.4), (60, 0.4), (78, 0.4), (135, 0.4), (137, 0.4), (149, 0.4), (161, 0.4), (169, 0.4), (178, 0.4), (182, 0.4), (184, 0.4), (186, 0.4), (225, 0.4), (232, 0.4), (246, 0.4), (253, 0.4), (266, 0.4), (285, 0.4), (295, 0.4), (301, 0.4), (310, 0.4), (338, 0.4), (363, 0.4), (374, 0.4), (419, 0.4), (422, 0.4), (429, 0.4), (450, 0.4), (455, 0.4), (475, 0.4), (494, 0.4), (496, 0.4), (501, 0.4), (507, 0.4), (518, 0.4), (534, 0.4), (551, 0.4), (568, 0.4), (569, 0.4), (582, 0.4), (589, 0.4), (595, 0.4), (607, 0.4), (615, 0.4), (620, 0.4), (621, 0.4), (627, 0.4), (665, 0.4), (675, 0.4), (676, 0.4), (696, 0.4), (708, 0.4), (709, 0.4), (731, 0.4), (748, 0.4), (749, 0.4), (750, 0.4), (751, 0.4), (752, 0.4), (753, 0.4), (754, 0.4), (755, 0.4), (756, 0.4), (757, 0.4), (760, 0.4), (781, 0.4), (793, 0.4), (828, 0.4), (829, 0.4), (830, 0.4), (839, 0.4), (866, 0.4), (887, 0.4), (904, 0.4), (912, 0.4), (914, 0.4), (954, 0.4), (991, 0.4), (993, 0.4), (998, 0.4), (1007, 0.4), (1038, 0.4), (1046, 0.4), (1048, 0.4), (1134, 0.4), (1137, 0.4), (1191, 0.4), (1220, 0.4), (1245, 0.4), (1258, 0.4), (1289, 0.4), (1290, 0.4), (1325, 0.4), (1326, 0.4), (1336, 0.4), (1384, 0.4), (1438, 0.4), (1448, 0.4), (1449, 0.4), (1459, 0.4), (1464, 0.4), (1465, 0.4), (1487, 0.4), (1491, 0.4), (1511, 0.4), (1547, 0.4), (1566, 0.4), (1568, 0.4), (1669, 0.4), (1715, 0.4), (1750, 0.4), (1761, 0.4), (1800, 0.4), (1833, 0.4), (1834, 0.4), (1835, 0.4), (1836, 0.4), (1840, 0.4), (1894, 0.4), (1899, 0.4), (1915, 0.4), (1932, 0.4), (1934, 0.4), (1950, 0.4), (1954, 0.4), (1991, 0.4), (2006, 0.4), (2009, 0.4), (2033, 0.4), (2054, 0.4), (2055, 0.4), (2059, 0.4), (2061, 0.4), (2065, 0.4), (2075, 0.4), (2093, 0.4), (2109, 0.4), (2114, 0.4), (2154, 0.4), (2161, 0.4), (2169, 0.4), (2172, 0.4), (2174, 0.4), (2189, 0.4), (2200, 0.4), (2202, 0.4), (2209, 0.4), (2233, 0.4), (2257, 0.4), (2276, 0.4), (2286, 0.4), (2298, 0.4), (2319, 0.4), (2327, 0.4), (2336, 0.4), (2350, 0.4), (2387, 0.4), (2401, 0.4), (2404, 0.4), (2411, 0.4), (2434, 0.4), (2464, 0.4), (2478, 0.4), (2479, 0.4), (2482, 0.4), (2490, 0.4), (2493, 0.4), (2503, 0.4), (2522, 0.4), (2537, 0.4), (2538, 0.4), (2557, 0.4), (2605, 0.4), (2606, 0.4), (2660, 0.4), (2693, 0.4), (2700, 0.4), (2711, 0.4), (2713, 0.4), (2715, 0.4), (2716, 0.4), (2723, 0.4), (2724, 0.4), (2726, 0.4), (2732, 0.4), (2758, 0.4), (2778, 0.4), (2806, 0.4), (2810, 0.4), (2818, 0.4), (2819, 0.4), (2820, 0.4), (2839, 0.4), (2840, 0.4), (2841, 0.4), (2844, 0.4), (2849, 0.4), (2865, 0.4), (2883, 0.4), (2896, 0.4), (2913, 0.4), (2915, 0.4), (2974, 0.4), (2988, 0.4), (2998, 0.4), (3011, 0.4), (3025, 0.4), (3081, 0.4), (3093, 0.4), (3113, 0.4), (3124, 0.4), (3141, 0.4), (3167, 0.4), (3168, 0.4), (3187, 0.4), (3188, 0.4), (3195, 0.4), (3196, 0.4), (3200, 0.4), (3217, 0.4), (3243, 0.4), (3248, 0.4), (3284, 0.4), (3340, 0.4), (3349, 0.4), (3358, 0.4), (3384, 0.4), (3392, 0.4), (3393, 0.4), (3394, 0.4), (3401, 0.4), (3405, 0.4), (3435, 0.4), (3461, 0.4), (3464, 0.4), (3481, 0.4), (3498, 0.4), (3499, 0.4), (3519, 0.4), (3582, 0.4), (3591, 0.4), (3603, 0.4), (3612, 0.4), (3613, 0.4), (3637, 0.4), (3650, 0.4), (3689, 0.4), (3734, 0.4), (3746, 0.4), (3750, 0.4), (3753, 0.4), (3754, 0.4), (3759, 0.4), (3760, 0.4), (3766, 0.4), (3788, 0.4), (3790, 0.4), (3803, 0.4), (3820, 0.4), (3849, 0.4), (3863, 0.4), (3869, 0.4), (3890, 0.4), (3917, 0.4), (3924, 0.4), (3925, 0.4), (3941, 0.4), (3973, 0.4), (4012, 0.4), (4062, 0.4), (4080, 0.4), (4087, 0.4), (4094, 0.4), (4101, 0.4), (4137, 0.4), (4151, 0.4), (4169, 0.4), (4210, 0.4), (4223, 0.4), (4229, 0.4), (4280, 0.4), (4296, 0.4), (4302, 0.4), (4314, 0.4), (4330, 0.4), (4352, 0.4), (4361, 0.4), (4382, 0.4), (4409, 0.4), (4421, 0.4), (4424, 0.4), (4428, 0.4), (4458, 0.4), (4461, 0.4), (4480, 0.4), (4513, 0.4), (4543, 0.4), (4555, 0.4), (4560, 0.4), (4579, 0.4), (4626, 0.4), (4663, 0.4), (4702, 0.4), (4720, 0.4), (4725, 0.4), (4735, 0.4), (4742, 0.4), (4787, 0.4), (4797, 0.4), (4826, 0.4), (4830, 0.4), (4833, 0.4), (4838, 0.4), (4850, 0.4), (4883, 0.4), (4922, 0.4), (4930, 0.4), (4961, 0.4), (4966, 0.4), (4969, 0.4), (4990, 0.4), (4994, 0.4), (4996, 0.4), (5033, 0.4), (5064, 0.4), (5092, 0.4), (5093, 0.4), (5140, 0.4), (5144, 0.4), (5182, 0.4), (5195, 0.4), (5198, 0.4), (5202, 0.4), (5239, 0.4), (5241, 0.4), (5254, 0.4), (5297, 0.4), (5312, 0.4), (5318, 0.4), (5348, 0.4), (5367, 0.4), (5370, 0.4), (5385, 0.4), (5408, 0.4), (5417, 0.4), (5421, 0.4), (5422, 0.4), (5437, 0.4), (5457, 0.4), (5474, 0.4), (5490, 0.4), (5519, 0.4), (5554, 0.4), (5574, 0.4), (5599, 0.4), (5608, 0.4), (5617, 0.4), (5623, 0.4), (5626, 0.4), (5631, 0.4), (5632, 0.4), (5648, 0.4), (5688, 0.4), (5707, 0.4), (5714, 0.4), (5715, 0.4), (5733, 0.4), (5752, 0.4), (5816, 0.4), (5835, 0.4), (5841, 0.4), (5843, 0.4), (5848, 0.4), (5858, 0.4), (5866, 0.4), (5884, 0.4), (5885, 0.4), (5888, 0.4), (5889, 0.4), (5896, 0.4), (5905, 0.4), (5915, 0.4), (5922, 0.4), (5979, 0.4), (5986, 0.4), (5993, 0.4), (5999, 0.4), (6013, 0.4), (6049, 0.4), (6051, 0.4), (6066, 0.4), (6068, 0.4), (6080, 0.4), (6093, 0.4), (6096, 0.4), (6102, 0.4), (6114, 0.4), (6132, 0.4), (6134, 0.4), (6136, 0.4), (6145, 0.4), (6146, 0.4), (6157, 0.4), (6168, 0.4), (6171, 0.4), (6172, 0.4), (6187, 0.4), (6191, 0.4), (6195, 0.4), (6227, 0.4), (6236, 0.4), (6238, 0.4), (6239, 0.4), (6246, 0.4), (6247, 0.4), (6250, 0.4), (6255, 0.4), (6256, 0.4), (6259, 0.4), (6265, 0.4), (6267, 0.4), (6268, 0.4), (6296, 0.4), (6299, 0.4), (6309, 0.4), (6314, 0.4), (6323, 0.4), (6326, 0.4), (6335, 0.4), (6340, 0.4), (6346, 0.4), (6348, 0.4), (6349, 0.4), (6361, 0.4), (6375, 0.4), (6381, 0.4), (6390, 0.4), (6408, 0.4), (6410, 0.4), (6425, 0.4), (6437, 0.4), (6439, 0.4), (6465, 0.4), (6486, 0.4), (6505, 0.4), (6525, 0.4), (6557, 0.4), (6566, 0.4), (6568, 0.4), (6569, 0.4), (6582, 0.4), (6584, 0.4), (6593, 0.4), (6597, 0.4), (6612, 0.4), (6626, 0.4), (6667, 0.4), (6672, 0.4), (6673, 0.4), (6696, 0.4), (6720, 0.4), (6721, 0.4), (6722, 0.4), (6723, 0.4), (6726, 0.4), (6743, 0.4), (6746, 0.4), (6747, 0.4), (6756, 0.4), (6764, 0.4), (6773, 0.4), (6790, 0.4), (6792, 0.4), (6833, 0.4), (6843, 0.4), (6851, 0.4), (6857, 0.4), (6876, 0.4), (6877, 0.4), (6878, 0.4), (6892, 0.4), (6898, 0.4), (6903, 0.4), (6913, 0.4), (6949, 0.4), (6987, 0.4), (6988, 0.4), (6994, 0.4), (7011, 0.4), (7021, 0.4), (7022, 0.4), (7024, 0.4), (7026, 0.4), (7031, 0.4), (7034, 0.4), (7038, 0.4), (7047, 0.4), (7049, 0.4), (7053, 0.4), (7066, 0.4), (7070, 0.4), (7071, 0.4), (7072, 0.4), (7076, 0.4), (7079, 0.4), (7097, 0.4), (7102, 0.4), (7111, 0.4), (7119, 0.4), (7126, 0.4), (7146, 0.4), (7154, 0.4), (7210, 0.4), (7213, 0.4), (7220, 0.4), (7233, 0.4), (7237, 0.4), (7255, 0.4), (7267, 0.4), (7281, 0.4), (7290, 0.4), (7291, 0.4), (7298, 0.4), (7314, 0.4), (7317, 0.4), (7318, 0.4), (7322, 0.4), (7329, 0.4), (7331, 0.4), (7332, 0.4), (7335, 0.4), (7336, 0.4), (7337, 0.4), (7340, 0.4), (7349, 0.4), (7354, 0.4), (7362, 0.4), (7363, 0.4), (7365, 0.4), (7372, 0.4), (7373, 0.4), (7378, 0.4), (7388, 0.4), (7389, 0.4), (7392, 0.4), (7400, 0.4), (7402, 0.4), (7409, 0.4), (7423, 0.4), (7436, 0.4), (7441, 0.4), (7452, 0.4), (7456, 0.4), (7472, 0.4), (7473, 0.4), (7474, 0.4), (7475, 0.4), (7480, 0.4), (7502, 0.4), (7506, 0.4), (7509, 0.4), (7528, 0.4), (7535, 0.4), (7537, 0.4), (7540, 0.4), (7541, 0.4), (7544, 0.4), (7548, 0.4), (7550, 0.4), (7558, 0.4), (7559, 0.4), (7563, 0.4), (7576, 0.4), (7583, 0.4), (7605, 0.4), (7606, 0.4), (7614, 0.4), (7628, 0.4), (7633, 0.4), (7653, 0.4), (7654, 0.4), (7659, 0.4), (7663, 0.4), (7695, 0.4), (7709, 0.4), (7713, 0.4), (7719, 0.4), (7720, 0.4), (7725, 0.4), (7727, 0.4), (7728, 0.4), (7732, 0.4), (7734, 0.4), (7735, 0.4), (7745, 0.4), (7746, 0.4), (7762, 0.4), (7763, 0.4), (7765, 0.4), (7767, 0.4), (7775, 0.4), (7783, 0.4), (7808, 0.4), (7891, 0.4), (8042, 0.4), (8107, 0.4), (8122, 0.4), (8240, 0.4), (8350, 0.4), (8380, 0.4), (8384, 0.4), (8387, 0.4), (8393, 0.4), (8397, 0.4), (8400, 0.4), (8571, 0.4), (8592, 0.4), (8681, 0.4), (8782, 0.4), (8844, 0.4), (8916, 0.4), (9055, 0.4), (9089, 0.4), (9108, 0.4), (9155, 0.4), (9174, 0.4), (9330, 0.4), (9419, 0.4), (9513, 0.4), (9675, 0.4), (9757, 0.4), (9806, 0.4), (9810, 0.4), (9917, 0.4), (9929, 0.4), (9943, 0.4), (10165, 0.4), (10219, 0.4), (10343, 0.4), (10472, 0.4), (10508, 0.4), (10563, 0.4), (10667, 0.4), (10689, 0.4), (10807, 0.4), (10913, 0.4), (10971, 0.4), (11066, 0.4), (11084, 0.4), (11130, 0.4), (11174, 0.4), (11229, 0.4), (11272, 0.4), (11310, 0.4), (11471, 0.4), (11581, 0.4), (11586, 0.4), (11676, 0.4), (11835, 0.4), (11866, 0.4), (11949, 0.4), (11986, 0.4), (12013, 0.4), (12074, 0.4), (12105, 0.4), (12116, 0.4), (12123, 0.4), (12125, 0.4), (12126, 0.4), (12162, 0.4), (12170, 0.4), (12214, 0.4), (12241, 0.4), (12296, 0.4), (12364, 0.4), (12602, 0.4), (12819, 0.4), (12842, 0.4), (12850, 0.4), (2825, 0.38138503569823695), (5919, 0.38138503569823695), (5951, 0.38138503569823695), (6050, 0.38138503569823695), (6140, 0.38138503569823695), (6508, 0.38138503569823695), (6651, 0.38138503569823695), (6689, 0.38138503569823695), (7029, 0.38138503569823695), (7616, 0.38138503569823695), (7662, 0.38138503569823695), (7770, 0.38138503569823695), (7803, 0.38138503569823695), (7956, 0.38138503569823695), (8137, 0.38138503569823695), (8383, 0.38138503569823695), (8386, 0.38138503569823695), (8388, 0.38138503569823695), (8399, 0.38138503569823695), (8439, 0.38138503569823695), (8788, 0.38138503569823695), (8789, 0.38138503569823695), (9145, 0.38138503569823695), (9146, 0.38138503569823695), (10168, 0.38138503569823695), (11775, 0.38138503569823695), (12935, 0.38138503569823695), (61, 0.30000000000000004), (146, 0.30000000000000004), (780, 0.30000000000000004), (1151, 0.30000000000000004), (1355, 0.30000000000000004), (1490, 0.30000000000000004), (1535, 0.30000000000000004), (1592, 0.30000000000000004), (1677, 0.30000000000000004), (1707, 0.30000000000000004), (1721, 0.30000000000000004), (1923, 0.30000000000000004), (2042, 0.30000000000000004), (2184, 0.30000000000000004), (2375, 0.30000000000000004), (2588, 0.30000000000000004), (2598, 0.30000000000000004), (2828, 0.30000000000000004), (2880, 0.30000000000000004), (2885, 0.30000000000000004), (2982, 0.30000000000000004), (3048, 0.30000000000000004), (3085, 0.30000000000000004), (3117, 0.30000000000000004), (3118, 0.30000000000000004), (3161, 0.30000000000000004), (3299, 0.30000000000000004), (3450, 0.30000000000000004), (3638, 0.30000000000000004), (3702, 0.30000000000000004), (3726, 0.30000000000000004), (3739, 0.30000000000000004), (3744, 0.30000000000000004), (3855, 0.30000000000000004), (3956, 0.30000000000000004), (3982, 0.30000000000000004), (4107, 0.30000000000000004), (4362, 0.30000000000000004), (4363, 0.30000000000000004), (4379, 0.30000000000000004), (4380, 0.30000000000000004), (4403, 0.30000000000000004), (4411, 0.30000000000000004), (4423, 0.30000000000000004), (4512, 0.30000000000000004), (4636, 0.30000000000000004), (4641, 0.30000000000000004), (4761, 0.30000000000000004), (4879, 0.30000000000000004), (4913, 0.30000000000000004), (5001, 0.30000000000000004), (5004, 0.30000000000000004), (5057, 0.30000000000000004), (5166, 0.30000000000000004), (5199, 0.30000000000000004), (5217, 0.30000000000000004), (5238, 0.30000000000000004), (5263, 0.30000000000000004), (5296, 0.30000000000000004), (5301, 0.30000000000000004), (5693, 0.30000000000000004), (5886, 0.30000000000000004), (5900, 0.30000000000000004), (6025, 0.30000000000000004), (6069, 0.30000000000000004), (6078, 0.30000000000000004), (6133, 0.30000000000000004), (6142, 0.30000000000000004), (6165, 0.30000000000000004), (6300, 0.30000000000000004), (6353, 0.30000000000000004), (6358, 0.30000000000000004), (6428, 0.30000000000000004), (6456, 0.30000000000000004), (6570, 0.30000000000000004), (6604, 0.30000000000000004), (6661, 0.30000000000000004), (6730, 0.30000000000000004), (6758, 0.30000000000000004), (6871, 0.30000000000000004), (6875, 0.30000000000000004), (6942, 0.30000000000000004), (6996, 0.30000000000000004), (7007, 0.30000000000000004), (7016, 0.30000000000000004), (7075, 0.30000000000000004), (7124, 0.30000000000000004), (7172, 0.30000000000000004), (7196, 0.30000000000000004), (7251, 0.30000000000000004), (7274, 0.30000000000000004), (7377, 0.30000000000000004), (7390, 0.30000000000000004), (7463, 0.30000000000000004), (7545, 0.30000000000000004), (7547, 0.30000000000000004), (7648, 0.30000000000000004), (7669, 0.30000000000000004), (7702, 0.30000000000000004), (7705, 0.30000000000000004), (7755, 0.30000000000000004), (7756, 0.30000000000000004), (8053, 0.30000000000000004), (8440, 0.30000000000000004), (8657, 0.30000000000000004), (8880, 0.30000000000000004), (9086, 0.30000000000000004), (9267, 0.30000000000000004), (9804, 0.30000000000000004), (10136, 0.30000000000000004), (10169, 0.30000000000000004), (10189, 0.30000000000000004), (10230, 0.30000000000000004), (10597, 0.30000000000000004), (10797, 0.30000000000000004), (11127, 0.30000000000000004), (11294, 0.30000000000000004), (11640, 0.30000000000000004), (12130, 0.30000000000000004), (12255, 0.30000000000000004), (12664, 0.30000000000000004), (12859, 0.30000000000000004), (7665, 0.2860387767736777), (12911, 0.2860387767736777), (5847, 0.2), (5863, 0.2), (5940, 0.2), (5965, 0.2), (6061, 0.2), (6091, 0.2), (6215, 0.2), (6303, 0.2), (6329, 0.2), (6376, 0.2), (6422, 0.2), (6641, 0.2), (6897, 0.2), (7089, 0.2), (7142, 0.2), (7177, 0.2), (7235, 0.2), (7283, 0.2), (7622, 0.2), (7985, 0.2), (8143, 0.2), (8144, 0.2), (8423, 0.2), (8518, 0.2), (8680, 0.2), (8682, 0.2), (8683, 0.2), (8956, 0.2), (9771, 0.2), (9927, 0.2), (9977, 0.2), (10007, 0.2), (10175, 0.2), (10180, 0.2), (10355, 0.2), (10737, 0.2), (11179, 0.2), (11317, 0.2), (11361, 0.2), (11412, 0.2), (11584, 0.2), (12119, 0.2), (12286, 0.2), (12338, 0.2)]\n"
     ]
    }
   ],
   "source": [
    "print(sorted_scores)"
   ]
  },
  {
   "cell_type": "code",
   "execution_count": 91,
   "metadata": {},
   "outputs": [
    {
     "name": "stdout",
     "output_type": "stream",
     "text": [
      "The 10 most recommended locations to Rabat are:\n",
      "\n",
      "1 Appartement 900000 Agadir 76 m²  2 Pièces 3 Chambres 2 Salles de bains\n",
      "2 Appartement 1300000 Marrakech 130 m²  4 Pièces 2 Chambres 2 Salles de bains\n",
      "3 Appartement 819000 Bouazza 63 m²  3 Pièces 1 Chambre 1 Salle de bain\n",
      "4 Appartement 1100000 Marrakech 83 m²  3 Pièces 2 Chambres 1 Salle de bain\n",
      "5 Appartement 900000 Tanger 106 m²  3 Pièces 2 Chambres 1 Salle de bain\n",
      "6 Appartement 550000 Agadir 74 m²  3 Pièces 2 Chambres 1 Salle de bain\n",
      "7 Appartement 350000 Fès 88 m²  2 Pièces 3 Chambres 1 Salle de bain\n",
      "8 Appartement 560000 Marrakech 65 m²  4 Pièces 2 Chambres 2 Salles de bains\n",
      "9 Appartement 950000 Casablanca 125 m²  5 Pièces 3 Chambres 2 Salles de bains\n",
      "10 Appartement 1090000 Temara 88 m²  4 Pièces 2 Chambres 2 Salles de bains\n"
     ]
    }
   ],
   "source": [
    "j=0\n",
    "print('The 10 most recommended locations to',Ville_test,'are:\\n')\n",
    "for item in sorted_scores:\n",
    "    Ville_cherchée=df[df.id==item[0]]['important_features'].values[0]\n",
    "    print(j+1,Ville_cherchée)\n",
    "    j=j+1\n",
    "    if j>9:\n",
    "         break"
   ]
  },
  {
   "cell_type": "code",
   "execution_count": null,
   "metadata": {},
   "outputs": [],
   "source": []
  },
  {
   "cell_type": "code",
   "execution_count": null,
   "metadata": {},
   "outputs": [],
   "source": []
  },
  {
   "cell_type": "code",
   "execution_count": null,
   "metadata": {},
   "outputs": [],
   "source": []
  },
  {
   "cell_type": "code",
   "execution_count": null,
   "metadata": {},
   "outputs": [],
   "source": []
  }
 ],
 "metadata": {
  "hide_input": false,
  "kernelspec": {
   "display_name": "Python 3",
   "language": "python",
   "name": "python3"
  },
  "language_info": {
   "codemirror_mode": {
    "name": "ipython",
    "version": 3
   },
   "file_extension": ".py",
   "mimetype": "text/x-python",
   "name": "python",
   "nbconvert_exporter": "python",
   "pygments_lexer": "ipython3",
   "version": "3.8.5"
  }
 },
 "nbformat": 4,
 "nbformat_minor": 5
}
